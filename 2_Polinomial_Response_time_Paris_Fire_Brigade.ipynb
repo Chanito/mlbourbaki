{
  "nbformat": 4,
  "nbformat_minor": 0,
  "metadata": {
    "colab": {
      "name": "2_Polinomial_Response_time_Paris_Fire_Brigade.ipynb",
      "provenance": [],
      "collapsed_sections": [],
      "include_colab_link": true
    },
    "kernelspec": {
      "name": "python3",
      "display_name": "Python 3"
    }
  },
  "cells": [
    {
      "cell_type": "markdown",
      "metadata": {
        "id": "view-in-github",
        "colab_type": "text"
      },
      "source": [
        "<a href=\"https://colab.research.google.com/github/Chanito/mlbourbaki/blob/main/2_Polinomial_Response_time_Paris_Fire_Brigade.ipynb\" target=\"_parent\"><img src=\"https://colab.research.google.com/assets/colab-badge.svg\" alt=\"Open In Colab\"/></a>"
      ]
    },
    {
      "cell_type": "markdown",
      "metadata": {
        "id": "MOfWHxj0IdEz"
      },
      "source": [
        "## Cargar bibiliotecas"
      ]
    },
    {
      "cell_type": "code",
      "metadata": {
        "id": "Wkte1t1UpdqM"
      },
      "source": [
        "import pandas as pd\n",
        "import numpy as np\n",
        "\n",
        "from sklearn.preprocessing import PolynomialFeatures\n",
        "from sklearn.preprocessing import StandardScaler\n",
        "from sklearn.model_selection import train_test_split \n",
        "\n",
        "from sklearn.linear_model import LinearRegression\n",
        "from sklearn.linear_model import HuberRegressor\n",
        "from sklearn import metrics\n",
        "\n",
        "import matplotlib.pyplot as plt \n",
        "import seaborn as sns  "
      ],
      "execution_count": 3,
      "outputs": []
    },
    {
      "cell_type": "markdown",
      "metadata": {
        "id": "4ROaW5Muliuw"
      },
      "source": [
        "# Leemos datos preprocesados"
      ]
    },
    {
      "cell_type": "code",
      "metadata": {
        "id": "EmZQXZAllCV8",
        "colab": {
          "base_uri": "https://localhost:8080/",
          "height": 219
        },
        "outputId": "45741452-7223-4ae7-c45b-8c5decb0a0c3"
      },
      "source": [
        "df_preprocesado = pd.read_csv('/content/drive/MyDrive/Datos/BomberosParis/df_selec.csv',\n",
        "                              index_col='emergency vehicle selection')\n",
        "df_preprocesado.head(1)"
      ],
      "execution_count": 4,
      "outputs": [
        {
          "output_type": "execute_result",
          "data": {
            "text/html": [
              "<div>\n",
              "<style scoped>\n",
              "    .dataframe tbody tr th:only-of-type {\n",
              "        vertical-align: middle;\n",
              "    }\n",
              "\n",
              "    .dataframe tbody tr th {\n",
              "        vertical-align: top;\n",
              "    }\n",
              "\n",
              "    .dataframe thead th {\n",
              "        text-align: right;\n",
              "    }\n",
              "</style>\n",
              "<table border=\"1\" class=\"dataframe\">\n",
              "  <thead>\n",
              "    <tr style=\"text-align: right;\">\n",
              "      <th></th>\n",
              "      <th>intervention on public roads</th>\n",
              "      <th>floor</th>\n",
              "      <th>OSRM estimated distance</th>\n",
              "      <th>rush hour</th>\n",
              "      <th>weekday</th>\n",
              "      <th>alert_reason catogory_2</th>\n",
              "      <th>alert_reason catogory_3</th>\n",
              "      <th>alert_reason catogory_4</th>\n",
              "      <th>alert_reason catogory_5</th>\n",
              "      <th>alert_reason catogory_6</th>\n",
              "      <th>alert_reason catogory_7</th>\n",
              "      <th>alert_reason catogory_8</th>\n",
              "      <th>alert_reason catogory_9</th>\n",
              "      <th>location of the event_100.0</th>\n",
              "      <th>location of the event_104.0</th>\n",
              "      <th>location of the event_107.0</th>\n",
              "      <th>location of the event_131.0</th>\n",
              "      <th>location of the event_136.0</th>\n",
              "      <th>location of the event_137.0</th>\n",
              "      <th>location of the event_139.0</th>\n",
              "      <th>location of the event_140.0</th>\n",
              "      <th>location of the event_148.0</th>\n",
              "      <th>location of the event_149.0</th>\n",
              "      <th>location of the event_325.0</th>\n",
              "      <th>emergency vehicle type_PSE</th>\n",
              "      <th>emergency vehicle type_VSAV BSPP</th>\n",
              "      <th>delta departure-presentation</th>\n",
              "    </tr>\n",
              "    <tr>\n",
              "      <th>emergency vehicle selection</th>\n",
              "      <th></th>\n",
              "      <th></th>\n",
              "      <th></th>\n",
              "      <th></th>\n",
              "      <th></th>\n",
              "      <th></th>\n",
              "      <th></th>\n",
              "      <th></th>\n",
              "      <th></th>\n",
              "      <th></th>\n",
              "      <th></th>\n",
              "      <th></th>\n",
              "      <th></th>\n",
              "      <th></th>\n",
              "      <th></th>\n",
              "      <th></th>\n",
              "      <th></th>\n",
              "      <th></th>\n",
              "      <th></th>\n",
              "      <th></th>\n",
              "      <th></th>\n",
              "      <th></th>\n",
              "      <th></th>\n",
              "      <th></th>\n",
              "      <th></th>\n",
              "      <th></th>\n",
              "      <th></th>\n",
              "    </tr>\n",
              "  </thead>\n",
              "  <tbody>\n",
              "    <tr>\n",
              "      <th>5105452</th>\n",
              "      <td>False</td>\n",
              "      <td>0</td>\n",
              "      <td>952.5</td>\n",
              "      <td>False</td>\n",
              "      <td>False</td>\n",
              "      <td>False</td>\n",
              "      <td>True</td>\n",
              "      <td>False</td>\n",
              "      <td>False</td>\n",
              "      <td>False</td>\n",
              "      <td>False</td>\n",
              "      <td>False</td>\n",
              "      <td>False</td>\n",
              "      <td>False</td>\n",
              "      <td>False</td>\n",
              "      <td>False</td>\n",
              "      <td>False</td>\n",
              "      <td>False</td>\n",
              "      <td>False</td>\n",
              "      <td>False</td>\n",
              "      <td>False</td>\n",
              "      <td>True</td>\n",
              "      <td>False</td>\n",
              "      <td>False</td>\n",
              "      <td>False</td>\n",
              "      <td>True</td>\n",
              "      <td>324</td>\n",
              "    </tr>\n",
              "  </tbody>\n",
              "</table>\n",
              "</div>"
            ],
            "text/plain": [
              "                             intervention on public roads  ...  delta departure-presentation\n",
              "emergency vehicle selection                                ...                              \n",
              "5105452                                             False  ...                           324\n",
              "\n",
              "[1 rows x 27 columns]"
            ]
          },
          "metadata": {
            "tags": []
          },
          "execution_count": 4
        }
      ]
    },
    {
      "cell_type": "code",
      "metadata": {
        "id": "Z_GrEgMSs5fs",
        "colab": {
          "base_uri": "https://localhost:8080/"
        },
        "outputId": "d5dc04a1-abf2-4a0c-d23c-a0b7936c12f8"
      },
      "source": [
        "df_muestra=df_preprocesado.sample(frac=.1 )\n",
        "df_muestra.shape"
      ],
      "execution_count": 5,
      "outputs": [
        {
          "output_type": "execute_result",
          "data": {
            "text/plain": [
              "(21934, 27)"
            ]
          },
          "metadata": {
            "tags": []
          },
          "execution_count": 5
        }
      ]
    },
    {
      "cell_type": "code",
      "metadata": {
        "id": "RMOKZZKNo_4o"
      },
      "source": [
        "#separamos variable respuesta de características\n",
        "Z = df_muestra['delta departure-presentation']\n",
        "X = df_muestra.drop(['delta departure-presentation'],axis=1)"
      ],
      "execution_count": 7,
      "outputs": []
    },
    {
      "cell_type": "markdown",
      "metadata": {
        "id": "0UCDSsULUFZ3"
      },
      "source": [
        "# Regresión Polinomial Orden 2"
      ]
    },
    {
      "cell_type": "markdown",
      "metadata": {
        "id": "6wimZChpvkoK"
      },
      "source": [
        "### Creación de variables que capturen efectos no lineales"
      ]
    },
    {
      "cell_type": "code",
      "metadata": {
        "id": "cLcMXWJspJXs",
        "colab": {
          "base_uri": "https://localhost:8080/"
        },
        "outputId": "8bf4b676-1cd5-4c05-c047-c9bf48dea149"
      },
      "source": [
        "polynomial_features = PolynomialFeatures(degree=2)\n",
        "X_poly= polynomial_features.fit_transform(X)\n",
        "X.shape, X_poly.shape"
      ],
      "execution_count": 8,
      "outputs": [
        {
          "output_type": "execute_result",
          "data": {
            "text/plain": [
              "((21934, 26), (21934, 378))"
            ]
          },
          "metadata": {
            "tags": []
          },
          "execution_count": 8
        }
      ]
    },
    {
      "cell_type": "markdown",
      "metadata": {
        "id": "o0KKg4eNo7yK"
      },
      "source": [
        "### Separación conjunto de entrenamiento y prueba"
      ]
    },
    {
      "cell_type": "code",
      "metadata": {
        "id": "JYc_ak6MvkoM"
      },
      "source": [
        "X_train, X_test, Z_train, Z_test = train_test_split(X_poly, Z, \n",
        "                                                    test_size=0.3, \n",
        "                                                    shuffle=True,\n",
        "                                                    random_state=261)"
      ],
      "execution_count": 9,
      "outputs": []
    },
    {
      "cell_type": "code",
      "metadata": {
        "id": "CoxH3YNHvkoM",
        "colab": {
          "base_uri": "https://localhost:8080/"
        },
        "outputId": "ae6ec3a0-bb48-48c3-8ce5-7c99ad4e828e"
      },
      "source": [
        "# ¿Cómo son los conjuntos de entrenamiento y prueba?\n",
        "print(\"Conjunto de entrenamiento\")\n",
        "print(\"X: \", X_train.shape)\n",
        "print(\"y: \", Z_train.shape)\n",
        "\n",
        "print(\"Conjunto de prueba\")\n",
        "print(\"X: \", X_test.shape)\n",
        "print(\"y: \", Z_test.shape)"
      ],
      "execution_count": 10,
      "outputs": [
        {
          "output_type": "stream",
          "text": [
            "Conjunto de entrenamiento\n",
            "X:  (15353, 378)\n",
            "y:  (15353,)\n",
            "Conjunto de prueba\n",
            "X:  (6581, 378)\n",
            "y:  (6581,)\n"
          ],
          "name": "stdout"
        }
      ]
    },
    {
      "cell_type": "code",
      "metadata": {
        "id": "KhZWHOuFr5En",
        "colab": {
          "base_uri": "https://localhost:8080/"
        },
        "outputId": "e6491dc5-038a-4d94-8dba-783c5dbfefbc"
      },
      "source": [
        "lr = LinearRegression().fit(X_train, Z_train)\n",
        "\n",
        "Z_pred = lr.predict(X_test)\n",
        "\n",
        "error_medio_absoluto = np.mean(np.absolute(Z_test - Z_pred ))\n",
        "error_medio_absoluto"
      ],
      "execution_count": 11,
      "outputs": [
        {
          "output_type": "execute_result",
          "data": {
            "text/plain": [
              "108.68028264537989"
            ]
          },
          "metadata": {
            "tags": []
          },
          "execution_count": 11
        }
      ]
    },
    {
      "cell_type": "markdown",
      "metadata": {
        "id": "arVWa-ayDgBq"
      },
      "source": [
        "# Regresión Polinomial Orden 3"
      ]
    },
    {
      "cell_type": "markdown",
      "metadata": {
        "id": "vhoSX9YeDgBs"
      },
      "source": [
        "### Creación de variables que capturen efectos no lineales"
      ]
    },
    {
      "cell_type": "code",
      "metadata": {
        "colab": {
          "base_uri": "https://localhost:8080/"
        },
        "id": "3RRNcqSyDgBs",
        "outputId": "74fc5f36-2e27-47ee-ae62-d45b71094714"
      },
      "source": [
        "polynomial_features = PolynomialFeatures(degree=3)\n",
        "X_poly= polynomial_features.fit_transform(X)\n",
        "X.shape, X_poly.shape"
      ],
      "execution_count": 23,
      "outputs": [
        {
          "output_type": "execute_result",
          "data": {
            "text/plain": [
              "((219337, 26), (219337, 3654))"
            ]
          },
          "metadata": {
            "tags": []
          },
          "execution_count": 23
        }
      ]
    },
    {
      "cell_type": "markdown",
      "metadata": {
        "id": "WkT-wRYoDgBt"
      },
      "source": [
        "### Separación conjunto de entrenamiento y prueba"
      ]
    },
    {
      "cell_type": "code",
      "metadata": {
        "colab": {
          "base_uri": "https://localhost:8080/"
        },
        "id": "0i8WLrM1DgBu",
        "outputId": "187b1b0b-fa04-451d-bdbc-4ed9a554b76b"
      },
      "source": [
        "X_train, X_test, Z_train, Z_test = train_test_split(X_poly, Z, \n",
        "                                                    test_size=0.3, \n",
        "                                                    shuffle=True,\n",
        "                                                    random_state=261)\n",
        "# ¿Cómo son los conjuntos de entrenamiento y prueba?\n",
        "print(\"Conjunto de entrenamiento\")\n",
        "print(\"X: \", X_train.shape)\n",
        "print(\"y: \", Z_train.shape)\n",
        "\n",
        "print(\"Conjunto de prueba\")\n",
        "print(\"X: \", X_test.shape)\n",
        "print(\"y: \", Z_test.shape)"
      ],
      "execution_count": 12,
      "outputs": [
        {
          "output_type": "stream",
          "text": [
            "Conjunto de entrenamiento\n",
            "X:  (15353, 378)\n",
            "y:  (15353,)\n",
            "Conjunto de prueba\n",
            "X:  (6581, 378)\n",
            "y:  (6581,)\n"
          ],
          "name": "stdout"
        }
      ]
    },
    {
      "cell_type": "code",
      "metadata": {
        "colab": {
          "base_uri": "https://localhost:8080/"
        },
        "id": "j5_RYxcWDgBu",
        "outputId": "50a30df3-37f3-4ab5-cc8e-3fbb579ba814"
      },
      "source": [
        "lr = LinearRegression().fit(X_train, Z_train)\n",
        "\n",
        "Z_pred = lr.predict(X_test)\n",
        "\n",
        "error_medio_absoluto = np.mean(np.absolute(Z_test - Z_pred ))\n",
        "error_medio_absoluto"
      ],
      "execution_count": 13,
      "outputs": [
        {
          "output_type": "execute_result",
          "data": {
            "text/plain": [
              "108.68028264537989"
            ]
          },
          "metadata": {
            "tags": []
          },
          "execution_count": 13
        }
      ]
    }
  ]
}