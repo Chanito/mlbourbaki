{
  "nbformat": 4,
  "nbformat_minor": 0,
  "metadata": {
    "colab": {
      "name": "LDA_con_pySpark-ngrams lematizacion_colab.ipynb",
      "provenance": [],
      "collapsed_sections": [
        "1NMSndtR057_",
        "D0vVi8o6_aRS"
      ],
      "include_colab_link": true
    },
    "kernelspec": {
      "display_name": "Python 3",
      "language": "python",
      "name": "python3"
    },
    "language_info": {
      "codemirror_mode": {
        "name": "ipython",
        "version": 3
      },
      "file_extension": ".py",
      "mimetype": "text/x-python",
      "name": "python",
      "nbconvert_exporter": "python",
      "pygments_lexer": "ipython3",
      "version": "3.9.5"
    }
  },
  "cells": [
    {
      "cell_type": "markdown",
      "metadata": {
        "id": "view-in-github",
        "colab_type": "text"
      },
      "source": [
        "<a href=\"https://colab.research.google.com/github/Chanito/mlbourbaki/blob/main/LDA_con_pySpark_ngrams_lematizacion_colab.ipynb\" target=\"_parent\"><img src=\"https://colab.research.google.com/assets/colab-badge.svg\" alt=\"Open In Colab\"/></a>"
      ]
    },
    {
      "cell_type": "markdown",
      "metadata": {
        "id": "4hi6OGDnO2f2"
      },
      "source": [
        "# Instalación de PySpark en Colab"
      ]
    },
    {
      "cell_type": "code",
      "metadata": {
        "colab": {
          "base_uri": "https://localhost:8080/"
        },
        "id": "v6ulR4kizLvy",
        "outputId": "cb280801-0b1e-42c0-c7f1-9c42bc979298"
      },
      "source": [
        "!pip install pyspark"
      ],
      "execution_count": 1,
      "outputs": [
        {
          "output_type": "stream",
          "text": [
            "Collecting pyspark\n",
            "\u001b[?25l  Downloading https://files.pythonhosted.org/packages/89/db/e18cfd78e408de957821ec5ca56de1250645b05f8523d169803d8df35a64/pyspark-3.1.2.tar.gz (212.4MB)\n",
            "\u001b[K     |████████████████████████████████| 212.4MB 65kB/s \n",
            "\u001b[?25hCollecting py4j==0.10.9\n",
            "\u001b[?25l  Downloading https://files.pythonhosted.org/packages/9e/b6/6a4fb90cd235dc8e265a6a2067f2a2c99f0d91787f06aca4bcf7c23f3f80/py4j-0.10.9-py2.py3-none-any.whl (198kB)\n",
            "\u001b[K     |████████████████████████████████| 204kB 15.0MB/s \n",
            "\u001b[?25hBuilding wheels for collected packages: pyspark\n",
            "  Building wheel for pyspark (setup.py) ... \u001b[?25l\u001b[?25hdone\n",
            "  Created wheel for pyspark: filename=pyspark-3.1.2-py2.py3-none-any.whl size=212880768 sha256=c8dbbebda377d2bd83b6138468d809ace58be5af08af45aad9e7dcef3ea575e0\n",
            "  Stored in directory: /root/.cache/pip/wheels/40/1b/2c/30f43be2627857ab80062bef1527c0128f7b4070b6b2d02139\n",
            "Successfully built pyspark\n",
            "Installing collected packages: py4j, pyspark\n",
            "Successfully installed py4j-0.10.9 pyspark-3.1.2\n"
          ],
          "name": "stdout"
        }
      ]
    },
    {
      "cell_type": "code",
      "metadata": {
        "colab": {
          "base_uri": "https://localhost:8080/"
        },
        "id": "kSAcTGc2x5zC",
        "outputId": "68d7f885-35e4-47a2-b7ec-3a199009fea1"
      },
      "source": [
        "import os\n",
        "os.cpu_count()"
      ],
      "execution_count": 2,
      "outputs": [
        {
          "output_type": "execute_result",
          "data": {
            "text/plain": [
              "2"
            ]
          },
          "metadata": {
            "tags": []
          },
          "execution_count": 2
        }
      ]
    },
    {
      "cell_type": "code",
      "metadata": {
        "colab": {
          "base_uri": "https://localhost:8080/"
        },
        "id": "An553nK2x5zD",
        "outputId": "19d2ff88-0915-44b7-dd30-46c852b61557"
      },
      "source": [
        "!echo $(($(getconf _PHYS_PAGES) * $(getconf PAGE_SIZE) / (1024 * 1024)))"
      ],
      "execution_count": 3,
      "outputs": [
        {
          "output_type": "stream",
          "text": [
            "12993\n"
          ],
          "name": "stdout"
        }
      ]
    },
    {
      "cell_type": "markdown",
      "metadata": {
        "id": "O5wmR_zBxhrD"
      },
      "source": [
        "## Crear Sesión Colab"
      ]
    },
    {
      "cell_type": "code",
      "metadata": {
        "id": "9-Mq8KI6xjd-"
      },
      "source": [
        "# Crear una sesión de spark\n",
        "\n",
        "from pyspark.sql import SparkSession\n",
        "\n",
        "spark = SparkSession.builder\\\n",
        "        .master(\"local\")\\\n",
        "        .appName(\"colab\")\\\n",
        "        .config('spark.ui.port', '4050')\\\n",
        "        .getOrCreate()"
      ],
      "execution_count": 4,
      "outputs": []
    },
    {
      "cell_type": "code",
      "metadata": {
        "colab": {
          "base_uri": "https://localhost:8080/",
          "height": 219
        },
        "id": "0-c_EzRxxxjN",
        "outputId": "f209af6b-9deb-41af-ecda-bfd3c9439256"
      },
      "source": [
        "spark"
      ],
      "execution_count": 5,
      "outputs": [
        {
          "output_type": "execute_result",
          "data": {
            "text/html": [
              "\n",
              "            <div>\n",
              "                <p><b>SparkSession - in-memory</b></p>\n",
              "                \n",
              "        <div>\n",
              "            <p><b>SparkContext</b></p>\n",
              "\n",
              "            <p><a href=\"http://a75012595348:4050\">Spark UI</a></p>\n",
              "\n",
              "            <dl>\n",
              "              <dt>Version</dt>\n",
              "                <dd><code>v3.1.2</code></dd>\n",
              "              <dt>Master</dt>\n",
              "                <dd><code>local</code></dd>\n",
              "              <dt>AppName</dt>\n",
              "                <dd><code>colab</code></dd>\n",
              "            </dl>\n",
              "        </div>\n",
              "        \n",
              "            </div>\n",
              "        "
            ],
            "text/plain": [
              "<pyspark.sql.session.SparkSession at 0x7f47d0b98810>"
            ]
          },
          "metadata": {
            "tags": []
          },
          "execution_count": 5
        }
      ]
    },
    {
      "cell_type": "markdown",
      "metadata": {
        "id": "0TxAujHu236V"
      },
      "source": [
        "## Importar bibliotecas "
      ]
    },
    {
      "cell_type": "code",
      "metadata": {
        "colab": {
          "base_uri": "https://localhost:8080/"
        },
        "id": "AhBpsCzr296y",
        "outputId": "1bfe9f1a-46d1-4444-87e8-b8d758cf2336"
      },
      "source": [
        "from pyspark.sql.types import *\n",
        "from pyspark.sql.functions import udf, concat, split, col\n",
        "from pyspark.ml.feature import RegexTokenizer, NGram, VectorAssembler, CountVectorizer, IDF\n",
        "from pyspark.ml.clustering import LDA, LocalLDAModel\n",
        "from pyspark.ml import Pipeline\n",
        "from pyspark.ml import PipelineModel\n",
        "from pyspark.ml.feature import  CountVectorizerModel\n",
        "from pyspark.ml.clustering import LocalLDAModel\n",
        "from nltk.stem import WordNetLemmatizer\n",
        "\n",
        "\n",
        "import re\n",
        "from nltk.corpus import stopwords\n",
        "import nltk\n",
        "nltk.download('stopwords')\n",
        "nltk.download('wordnet')  #WordNetLemmatizer\n"
      ],
      "execution_count": 6,
      "outputs": [
        {
          "output_type": "stream",
          "text": [
            "[nltk_data] Downloading package stopwords to /root/nltk_data...\n",
            "[nltk_data]   Unzipping corpora/stopwords.zip.\n",
            "[nltk_data] Downloading package wordnet to /root/nltk_data...\n",
            "[nltk_data]   Unzipping corpora/wordnet.zip.\n"
          ],
          "name": "stdout"
        },
        {
          "output_type": "execute_result",
          "data": {
            "text/plain": [
              "True"
            ]
          },
          "metadata": {
            "tags": []
          },
          "execution_count": 6
        }
      ]
    },
    {
      "cell_type": "code",
      "metadata": {
        "colab": {
          "base_uri": "https://localhost:8080/"
        },
        "id": "OFgx0Hapa-GE",
        "outputId": "f106136c-c77b-40d0-8adc-d6497d50799e"
      },
      "source": [
        "from google.colab import drive\n",
        "drive.mount('/content/drive')"
      ],
      "execution_count": 7,
      "outputs": [
        {
          "output_type": "stream",
          "text": [
            "Mounted at /content/drive\n"
          ],
          "name": "stdout"
        }
      ]
    },
    {
      "cell_type": "markdown",
      "metadata": {
        "id": "koJQrSJL095M"
      },
      "source": [
        "# Leer los datos"
      ]
    },
    {
      "cell_type": "code",
      "metadata": {
        "colab": {
          "base_uri": "https://localhost:8080/"
        },
        "id": "x2liL4jWzMgc",
        "outputId": "11fb83f8-fa1c-4aa1-e916-1d54ea1a8984"
      },
      "source": [
        "df = spark.read.csv(\"/content/drive/MyDrive/Datos/Headlines/abcnews-date-text.csv\",header=True)\n",
        "\n",
        "print('Cantidad de renglones: ', df.count())"
      ],
      "execution_count": 8,
      "outputs": [
        {
          "output_type": "stream",
          "text": [
            "Cantidad de renglones:  1226258\n"
          ],
          "name": "stdout"
        }
      ]
    },
    {
      "cell_type": "code",
      "metadata": {
        "colab": {
          "base_uri": "https://localhost:8080/"
        },
        "id": "eeCfIBYb3j4k",
        "outputId": "d135affe-5bd2-4907-af46-743b2db91692"
      },
      "source": [
        "df.printSchema() # explorar la estructura el dataframe"
      ],
      "execution_count": 9,
      "outputs": [
        {
          "output_type": "stream",
          "text": [
            "root\n",
            " |-- publish_date: string (nullable = true)\n",
            " |-- headline_text: string (nullable = true)\n",
            "\n"
          ],
          "name": "stdout"
        }
      ]
    },
    {
      "cell_type": "code",
      "metadata": {
        "colab": {
          "base_uri": "https://localhost:8080/"
        },
        "id": "pqEhSGci5HzE",
        "outputId": "83e8da4e-84e7-401b-9bc4-e5438bad1556"
      },
      "source": [
        "df.head(3)"
      ],
      "execution_count": 10,
      "outputs": [
        {
          "output_type": "execute_result",
          "data": {
            "text/plain": [
              "[Row(publish_date='20030219', headline_text='aba decides against community broadcasting licence'),\n",
              " Row(publish_date='20030219', headline_text='act fire witnesses must be aware of defamation'),\n",
              " Row(publish_date='20030219', headline_text='a g calls for infrastructure protection summit')]"
            ]
          },
          "metadata": {
            "tags": []
          },
          "execution_count": 10
        }
      ]
    },
    {
      "cell_type": "code",
      "metadata": {
        "colab": {
          "base_uri": "https://localhost:8080/"
        },
        "id": "tdpu1WZc5Tbk",
        "outputId": "fb6faa00-32b0-4ad9-dcf2-f770e1a9d79d"
      },
      "source": [
        "df.show(10) # default 20 renglones"
      ],
      "execution_count": 11,
      "outputs": [
        {
          "output_type": "stream",
          "text": [
            "+------------+--------------------+\n",
            "|publish_date|       headline_text|\n",
            "+------------+--------------------+\n",
            "|    20030219|aba decides again...|\n",
            "|    20030219|act fire witnesse...|\n",
            "|    20030219|a g calls for inf...|\n",
            "|    20030219|air nz staff in a...|\n",
            "|    20030219|air nz strike to ...|\n",
            "|    20030219|ambitious olsson ...|\n",
            "|    20030219|antic delighted w...|\n",
            "|    20030219|aussie qualifier ...|\n",
            "|    20030219|aust addresses un...|\n",
            "|    20030219|australia is lock...|\n",
            "+------------+--------------------+\n",
            "only showing top 10 rows\n",
            "\n"
          ],
          "name": "stdout"
        }
      ]
    },
    {
      "cell_type": "code",
      "metadata": {
        "colab": {
          "base_uri": "https://localhost:8080/"
        },
        "id": "araSDXeh0gKM",
        "outputId": "c69c6321-4b3f-4802-d6b8-cd27535dac8d"
      },
      "source": [
        "df.select('headline_text').take(1)"
      ],
      "execution_count": 12,
      "outputs": [
        {
          "output_type": "execute_result",
          "data": {
            "text/plain": [
              "[Row(headline_text='aba decides against community broadcasting licence')]"
            ]
          },
          "metadata": {
            "tags": []
          },
          "execution_count": 12
        }
      ]
    },
    {
      "cell_type": "code",
      "metadata": {
        "colab": {
          "base_uri": "https://localhost:8080/",
          "height": 35
        },
        "id": "sjr90qIi0M-L",
        "outputId": "b72d0bfe-d336-4dba-a2d2-f543aa184b7e"
      },
      "source": [
        "# raw text of the first entry \n",
        "df.select('headline_text').head(1)[0][0]"
      ],
      "execution_count": 13,
      "outputs": [
        {
          "output_type": "execute_result",
          "data": {
            "application/vnd.google.colaboratory.intrinsic+json": {
              "type": "string"
            },
            "text/plain": [
              "'aba decides against community broadcasting licence'"
            ]
          },
          "metadata": {
            "tags": []
          },
          "execution_count": 13
        }
      ]
    },
    {
      "cell_type": "code",
      "metadata": {
        "colab": {
          "base_uri": "https://localhost:8080/"
        },
        "id": "0aUQo7g71dsE",
        "outputId": "5a0668bc-8b6e-4eb4-bb45-37695384d45a"
      },
      "source": [
        "type(df)"
      ],
      "execution_count": 14,
      "outputs": [
        {
          "output_type": "execute_result",
          "data": {
            "text/plain": [
              "pyspark.sql.dataframe.DataFrame"
            ]
          },
          "metadata": {
            "tags": []
          },
          "execution_count": 14
        }
      ]
    },
    {
      "cell_type": "markdown",
      "metadata": {
        "id": "P2RCzNuN0579"
      },
      "source": [
        "Queremos un inice consecutivo, para ello vamos a utilizar solo la columna 'hedline_text' y usando rdd creamos el indice"
      ]
    },
    {
      "cell_type": "code",
      "metadata": {
        "id": "GIkeM7R51RHi"
      },
      "source": [
        "texts = df.rdd.map(lambda x: x['headline_text'])\n",
        "headlines=texts.zipWithIndex( )                    "
      ],
      "execution_count": 15,
      "outputs": []
    },
    {
      "cell_type": "code",
      "metadata": {
        "id": "Um4zlKJa057-"
      },
      "source": [
        "from pyspark.sql import SQLContext\n",
        "sqlContext = SQLContext(spark)\n",
        "#Creating dataframe\n",
        "data = sqlContext.createDataFrame(headlines, [\"headlines\",'index'])"
      ],
      "execution_count": 16,
      "outputs": []
    },
    {
      "cell_type": "markdown",
      "metadata": {
        "id": "aYyebrRS2hdQ"
      },
      "source": [
        "# Preprocesar Texto"
      ]
    },
    {
      "cell_type": "markdown",
      "metadata": {
        "id": "FVEOl5cJ057-"
      },
      "source": [
        "## Normalizar y tokenizar"
      ]
    },
    {
      "cell_type": "code",
      "metadata": {
        "id": "LTrWBzku057-"
      },
      "source": [
        "removePunct = udf(lambda s: s.strip().lower(), StringType())\n",
        "\n",
        "data_norm = data.withColumn(\"text\", removePunct(data.headlines))"
      ],
      "execution_count": 17,
      "outputs": []
    },
    {
      "cell_type": "code",
      "metadata": {
        "id": "L0R3njG0057_"
      },
      "source": [
        "# tokenize \n",
        "tokenizer = RegexTokenizer(inputCol=\"text\", outputCol=\"words\",\n",
        "                           gaps=True, pattern=r'\\s+', minTokenLength=4)\n",
        "df_tokens = tokenizer.transform(data_norm)"
      ],
      "execution_count": 18,
      "outputs": []
    },
    {
      "cell_type": "code",
      "metadata": {
        "colab": {
          "base_uri": "https://localhost:8080/"
        },
        "id": "7CClFRuE057_",
        "outputId": "6bf97ee3-92a3-4eec-9bff-01d970c83796"
      },
      "source": [
        "df_tokens.show()"
      ],
      "execution_count": 19,
      "outputs": [
        {
          "output_type": "stream",
          "text": [
            "+--------------------+-----+--------------------+--------------------+\n",
            "|           headlines|index|                text|               words|\n",
            "+--------------------+-----+--------------------+--------------------+\n",
            "|aba decides again...|    0|aba decides again...|[decides, against...|\n",
            "|act fire witnesse...|    1|act fire witnesse...|[fire, witnesses,...|\n",
            "|a g calls for inf...|    2|a g calls for inf...|[calls, infrastru...|\n",
            "|air nz staff in a...|    3|air nz staff in a...|[staff, aust, str...|\n",
            "|air nz strike to ...|    4|air nz strike to ...|[strike, affect, ...|\n",
            "|ambitious olsson ...|    5|ambitious olsson ...|[ambitious, olsso...|\n",
            "|antic delighted w...|    6|antic delighted w...|[antic, delighted...|\n",
            "|aussie qualifier ...|    7|aussie qualifier ...|[aussie, qualifie...|\n",
            "|aust addresses un...|    8|aust addresses un...|[aust, addresses,...|\n",
            "|australia is lock...|    9|australia is lock...|[australia, locke...|\n",
            "|australia to cont...|   10|australia to cont...|[australia, contr...|\n",
            "|barca take record...|   11|barca take record...|[barca, take, rec...|\n",
            "|bathhouse plans m...|   12|bathhouse plans m...|[bathhouse, plans...|\n",
            "|big hopes for lau...|   13|big hopes for lau...|[hopes, launcesto...|\n",
            "|big plan to boost...|   14|big plan to boost...|[plan, boost, par...|\n",
            "|blizzard buries u...|   15|blizzard buries u...|[blizzard, buries...|\n",
            "|brigadier dismiss...|   16|brigadier dismiss...|[brigadier, dismi...|\n",
            "|british combat tr...|   17|british combat tr...|[british, combat,...|\n",
            "|bryant leads lake...|   18|bryant leads lake...|[bryant, leads, l...|\n",
            "|bushfire victims ...|   19|bushfire victims ...|[bushfire, victim...|\n",
            "+--------------------+-----+--------------------+--------------------+\n",
            "only showing top 20 rows\n",
            "\n"
          ],
          "name": "stdout"
        }
      ]
    },
    {
      "cell_type": "markdown",
      "metadata": {
        "id": "1NMSndtR057_"
      },
      "source": [
        "## Removing stopwords"
      ]
    },
    {
      "cell_type": "code",
      "metadata": {
        "id": "eKKKK5F1058A"
      },
      "source": [
        "stopwords = stopwords.words(\"english\")\n",
        "removeStop=udf(lambda word: [x for x in word if x not in stopwords])\n",
        "df_tokens=df_tokens.withColumn('noStopWords',removeStop(df_tokens['words']))"
      ],
      "execution_count": 20,
      "outputs": []
    },
    {
      "cell_type": "code",
      "metadata": {
        "colab": {
          "base_uri": "https://localhost:8080/"
        },
        "id": "yCqO4X-2058A",
        "outputId": "ac19ca83-f0b6-47ff-89e7-64558b86b97f"
      },
      "source": [
        "df_tokens.show()"
      ],
      "execution_count": 21,
      "outputs": [
        {
          "output_type": "stream",
          "text": [
            "+--------------------+-----+--------------------+--------------------+--------------------+\n",
            "|           headlines|index|                text|               words|         noStopWords|\n",
            "+--------------------+-----+--------------------+--------------------+--------------------+\n",
            "|aba decides again...|    0|aba decides again...|[decides, against...|[decides, communi...|\n",
            "|act fire witnesse...|    1|act fire witnesse...|[fire, witnesses,...|[fire, witnesses,...|\n",
            "|a g calls for inf...|    2|a g calls for inf...|[calls, infrastru...|[calls, infrastru...|\n",
            "|air nz staff in a...|    3|air nz staff in a...|[staff, aust, str...|[staff, aust, str...|\n",
            "|air nz strike to ...|    4|air nz strike to ...|[strike, affect, ...|[strike, affect, ...|\n",
            "|ambitious olsson ...|    5|ambitious olsson ...|[ambitious, olsso...|[ambitious, olsso...|\n",
            "|antic delighted w...|    6|antic delighted w...|[antic, delighted...|[antic, delighted...|\n",
            "|aussie qualifier ...|    7|aussie qualifier ...|[aussie, qualifie...|[aussie, qualifie...|\n",
            "|aust addresses un...|    8|aust addresses un...|[aust, addresses,...|[aust, addresses,...|\n",
            "|australia is lock...|    9|australia is lock...|[australia, locke...|[australia, locke...|\n",
            "|australia to cont...|   10|australia to cont...|[australia, contr...|[australia, contr...|\n",
            "|barca take record...|   11|barca take record...|[barca, take, rec...|[barca, take, rec...|\n",
            "|bathhouse plans m...|   12|bathhouse plans m...|[bathhouse, plans...|[bathhouse, plans...|\n",
            "|big hopes for lau...|   13|big hopes for lau...|[hopes, launcesto...|[hopes, launcesto...|\n",
            "|big plan to boost...|   14|big plan to boost...|[plan, boost, par...|[plan, boost, par...|\n",
            "|blizzard buries u...|   15|blizzard buries u...|[blizzard, buries...|[blizzard, buries...|\n",
            "|brigadier dismiss...|   16|brigadier dismiss...|[brigadier, dismi...|[brigadier, dismi...|\n",
            "|british combat tr...|   17|british combat tr...|[british, combat,...|[british, combat,...|\n",
            "|bryant leads lake...|   18|bryant leads lake...|[bryant, leads, l...|[bryant, leads, l...|\n",
            "|bushfire victims ...|   19|bushfire victims ...|[bushfire, victim...|[bushfire, victim...|\n",
            "+--------------------+-----+--------------------+--------------------+--------------------+\n",
            "only showing top 20 rows\n",
            "\n"
          ],
          "name": "stdout"
        }
      ]
    },
    {
      "cell_type": "markdown",
      "metadata": {
        "id": "D0vVi8o6_aRS"
      },
      "source": [
        "## Lematización"
      ]
    },
    {
      "cell_type": "code",
      "metadata": {
        "id": "-I1577Frx5zP"
      },
      "source": [
        "lemma= WordNetLemmatizer()\n",
        "def lematizacion(in_vec):\n",
        "    out_vec = [lemma.lemmatize(w) for w in in_vec]\n",
        "    return out_vec\n",
        "\n",
        "lemma_udf = udf(lambda x:lematizacion(x),ArrayType(StringType()))\n",
        "df_tokens=df_tokens.withColumn('finalwords',lemma_udf(df_tokens['noStopWords']))\n"
      ],
      "execution_count": 22,
      "outputs": []
    },
    {
      "cell_type": "code",
      "metadata": {
        "colab": {
          "base_uri": "https://localhost:8080/"
        },
        "id": "h8cmJZejx5zP",
        "outputId": "ae387e6f-35ea-42ad-b0da-0179e56023a8"
      },
      "source": [
        "df_tokens.show()"
      ],
      "execution_count": 23,
      "outputs": [
        {
          "output_type": "stream",
          "text": [
            "+--------------------+-----+--------------------+--------------------+--------------------+--------------------+\n",
            "|           headlines|index|                text|               words|         noStopWords|          finalwords|\n",
            "+--------------------+-----+--------------------+--------------------+--------------------+--------------------+\n",
            "|aba decides again...|    0|aba decides again...|[decides, against...|[decides, communi...|[decides, communi...|\n",
            "|act fire witnesse...|    1|act fire witnesse...|[fire, witnesses,...|[fire, witnesses,...|[fire, witness, m...|\n",
            "|a g calls for inf...|    2|a g calls for inf...|[calls, infrastru...|[calls, infrastru...|[call, infrastruc...|\n",
            "|air nz staff in a...|    3|air nz staff in a...|[staff, aust, str...|[staff, aust, str...|[staff, aust, str...|\n",
            "|air nz strike to ...|    4|air nz strike to ...|[strike, affect, ...|[strike, affect, ...|[strike, affect, ...|\n",
            "|ambitious olsson ...|    5|ambitious olsson ...|[ambitious, olsso...|[ambitious, olsso...|[ambitious, olsso...|\n",
            "|antic delighted w...|    6|antic delighted w...|[antic, delighted...|[antic, delighted...|[antic, delighted...|\n",
            "|aussie qualifier ...|    7|aussie qualifier ...|[aussie, qualifie...|[aussie, qualifie...|[aussie, qualifie...|\n",
            "|aust addresses un...|    8|aust addresses un...|[aust, addresses,...|[aust, addresses,...|[aust, address, s...|\n",
            "|australia is lock...|    9|australia is lock...|[australia, locke...|[australia, locke...|[australia, locke...|\n",
            "|australia to cont...|   10|australia to cont...|[australia, contr...|[australia, contr...|[australia, contr...|\n",
            "|barca take record...|   11|barca take record...|[barca, take, rec...|[barca, take, rec...|[barca, take, rec...|\n",
            "|bathhouse plans m...|   12|bathhouse plans m...|[bathhouse, plans...|[bathhouse, plans...|[bathhouse, plan,...|\n",
            "|big hopes for lau...|   13|big hopes for lau...|[hopes, launcesto...|[hopes, launcesto...|[hope, launceston...|\n",
            "|big plan to boost...|   14|big plan to boost...|[plan, boost, par...|[plan, boost, par...|[plan, boost, par...|\n",
            "|blizzard buries u...|   15|blizzard buries u...|[blizzard, buries...|[blizzard, buries...|[blizzard, buries...|\n",
            "|brigadier dismiss...|   16|brigadier dismiss...|[brigadier, dismi...|[brigadier, dismi...|[brigadier, dismi...|\n",
            "|british combat tr...|   17|british combat tr...|[british, combat,...|[british, combat,...|[british, combat,...|\n",
            "|bryant leads lake...|   18|bryant leads lake...|[bryant, leads, l...|[bryant, leads, l...|[bryant, lead, la...|\n",
            "|bushfire victims ...|   19|bushfire victims ...|[bushfire, victim...|[bushfire, victim...|[bushfire, victim...|\n",
            "+--------------------+-----+--------------------+--------------------+--------------------+--------------------+\n",
            "only showing top 20 rows\n",
            "\n"
          ],
          "name": "stdout"
        }
      ]
    },
    {
      "cell_type": "code",
      "metadata": {
        "colab": {
          "base_uri": "https://localhost:8080/"
        },
        "id": "5qkFYR-z058A",
        "scrolled": false,
        "outputId": "f3949741-676a-419d-9463-f7200ebdd16f"
      },
      "source": [
        "df_tokens.printSchema()"
      ],
      "execution_count": 24,
      "outputs": [
        {
          "output_type": "stream",
          "text": [
            "root\n",
            " |-- headlines: string (nullable = true)\n",
            " |-- index: long (nullable = true)\n",
            " |-- text: string (nullable = true)\n",
            " |-- words: array (nullable = true)\n",
            " |    |-- element: string (containsNull = true)\n",
            " |-- noStopWords: string (nullable = true)\n",
            " |-- finalwords: array (nullable = true)\n",
            " |    |-- element: string (containsNull = true)\n",
            "\n"
          ],
          "name": "stdout"
        }
      ]
    },
    {
      "cell_type": "markdown",
      "metadata": {
        "id": "3pUNuGY5x5zQ"
      },
      "source": [
        "###N-Grams"
      ]
    },
    {
      "cell_type": "markdown",
      "metadata": {
        "id": "8Cx8uqYg058B"
      },
      "source": [
        "## Vectorizar con unigramas y bigramas\n",
        "\n",
        "En pyspark tenemos que primero que crear todos los n-gramas que nos interesen y luego utilizar el modelo CountVectorizer y unirlo todo utilizando VectorAssembler"
      ]
    },
    {
      "cell_type": "code",
      "metadata": {
        "id": "Bfcand3cx5zR"
      },
      "source": [
        "def build_ngrams(inputCol=\"finalwords\", n=2):\n",
        "\n",
        "    ngrams = [\n",
        "        NGram(n=i, inputCol=\"finalwords\", outputCol=\"{0}_grams\".format(i))\n",
        "        for i in range(1, n + 1)\n",
        "    ]\n",
        "\n",
        "    vectorizers = [\n",
        "        CountVectorizer(inputCol=\"{0}_grams\".format(i),\n",
        "            outputCol=\"{0}_counts\".format(i), minDF=20)\n",
        "        for i in range(1, n + 1)\n",
        "    ]\n",
        "\n",
        "    assembler = [VectorAssembler(\n",
        "        inputCols=[\"{0}_counts\".format(i) for i in range(1, n + 1)],\n",
        "        outputCol=\"features_cv\"\n",
        "    )]\n",
        "\n",
        "    return Pipeline(stages=ngrams + vectorizers + assembler)"
      ],
      "execution_count": 26,
      "outputs": []
    },
    {
      "cell_type": "code",
      "metadata": {
        "colab": {
          "base_uri": "https://localhost:8080/"
        },
        "id": "-_-UPt-fx5zS",
        "outputId": "c3bf8174-6d19-42f1-a1f1-16e23a37d64f"
      },
      "source": [
        "%%time\n",
        "# TF\n",
        "pipline_vectorizer_ngrams = build_ngrams().fit(df_tokens)\n"
      ],
      "execution_count": 27,
      "outputs": [
        {
          "output_type": "stream",
          "text": [
            "CPU times: user 1 s, sys: 114 ms, total: 1.12 s\n",
            "Wall time: 3min 22s\n"
          ],
          "name": "stdout"
        }
      ]
    },
    {
      "cell_type": "code",
      "metadata": {
        "colab": {
          "base_uri": "https://localhost:8080/"
        },
        "id": "SwMkSZewx5zS",
        "outputId": "3b382b3c-6887-4595-ae12-8e7b346b60cb"
      },
      "source": [
        "pipline_vectorizer_ngrams.stages"
      ],
      "execution_count": 28,
      "outputs": [
        {
          "output_type": "execute_result",
          "data": {
            "text/plain": [
              "[NGram_0148d9019500,\n",
              " NGram_ac8194cbe6f0,\n",
              " CountVectorizerModel: uid=CountVectorizer_cdc060105dd6, vocabularySize=16599,\n",
              " CountVectorizerModel: uid=CountVectorizer_fc06e1e9537b, vocabularySize=19985,\n",
              " VectorAssembler_553048a4bf0c]"
            ]
          },
          "metadata": {
            "tags": []
          },
          "execution_count": 28
        }
      ]
    },
    {
      "cell_type": "code",
      "metadata": {
        "colab": {
          "base_uri": "https://localhost:8080/"
        },
        "id": "_A5mT-Nex5zT",
        "outputId": "e7a68410-511f-4031-f508-f64e7c4195fe"
      },
      "source": [
        "vectorizers = [s for s in pipline_vectorizer_ngrams.stages if isinstance(s, CountVectorizerModel)]\n",
        "vocabArray = [v.vocabulary for v in vectorizers]\n",
        "len(vocabArray)"
      ],
      "execution_count": 29,
      "outputs": [
        {
          "output_type": "execute_result",
          "data": {
            "text/plain": [
              "2"
            ]
          },
          "metadata": {
            "tags": []
          },
          "execution_count": 29
        }
      ]
    },
    {
      "cell_type": "code",
      "metadata": {
        "id": "dCR-Sk2Ox5zU"
      },
      "source": [
        "# Con cuantas palabras y bigramas nos quedamos\n",
        "palabras=vocabArray[0]\n",
        "biGramas=vocabArray[1]"
      ],
      "execution_count": 30,
      "outputs": []
    },
    {
      "cell_type": "code",
      "metadata": {
        "colab": {
          "base_uri": "https://localhost:8080/"
        },
        "id": "uB5gcNQpx5zU",
        "outputId": "6b9f8c09-50ae-4dbe-c29d-7ff236bf3ec7"
      },
      "source": [
        "# muestra de bigramas\n",
        "biGramas[0:20]"
      ],
      "execution_count": 31,
      "outputs": [
        {
          "output_type": "execute_result",
          "data": {
            "text/plain": [
              "['gold coast',\n",
              " 'country hour',\n",
              " 'donald trump',\n",
              " 'face court',\n",
              " 'pleads guilty',\n",
              " 'asylum seeker',\n",
              " 'mental health',\n",
              " 'climate change',\n",
              " 'police investigate',\n",
              " 'north korea',\n",
              " 'police probe',\n",
              " 'broken hill',\n",
              " 'share market',\n",
              " 'rate rise',\n",
              " 'royal commission',\n",
              " 'police officer',\n",
              " 'plane crash',\n",
              " 'body found',\n",
              " 'front court',\n",
              " 'govt urged']"
            ]
          },
          "metadata": {
            "tags": []
          },
          "execution_count": 31
        }
      ]
    },
    {
      "cell_type": "code",
      "metadata": {
        "colab": {
          "base_uri": "https://localhost:8080/"
        },
        "id": "HPxdkeGyx5zV",
        "outputId": "2ad066b6-3db9-479c-8b5a-d80165f9111b"
      },
      "source": [
        "vocabulario = palabras + biGramas\n",
        "len(vocabulario)"
      ],
      "execution_count": 32,
      "outputs": [
        {
          "output_type": "execute_result",
          "data": {
            "text/plain": [
              "36584"
            ]
          },
          "metadata": {
            "tags": []
          },
          "execution_count": 32
        }
      ]
    },
    {
      "cell_type": "markdown",
      "metadata": {
        "id": "SlmwPcQRx5zV"
      },
      "source": [
        "__ahora hacemos la transformación con la vectorización hecha para obtener TF__"
      ]
    },
    {
      "cell_type": "code",
      "metadata": {
        "colab": {
          "base_uri": "https://localhost:8080/"
        },
        "id": "aWEIU0Jvx5zW",
        "outputId": "7d2fdbcb-9f62-47bc-9721-4b130df8c9e4"
      },
      "source": [
        "%%time\n",
        "result_cv = pipline_vectorizer_ngrams.transform(df_tokens)"
      ],
      "execution_count": 33,
      "outputs": [
        {
          "output_type": "stream",
          "text": [
            "CPU times: user 32 ms, sys: 4.45 ms, total: 36.4 ms\n",
            "Wall time: 887 ms\n"
          ],
          "name": "stdout"
        }
      ]
    },
    {
      "cell_type": "code",
      "metadata": {
        "colab": {
          "base_uri": "https://localhost:8080/"
        },
        "id": "YakK2smIx5zW",
        "outputId": "89310373-c970-45c7-99ec-012ee43fe724"
      },
      "source": [
        "result_cv.columns  # la vectorización se encuentra en la última columna"
      ],
      "execution_count": 34,
      "outputs": [
        {
          "output_type": "execute_result",
          "data": {
            "text/plain": [
              "['headlines',\n",
              " 'index',\n",
              " 'text',\n",
              " 'words',\n",
              " 'noStopWords',\n",
              " 'finalwords',\n",
              " '1_grams',\n",
              " '2_grams',\n",
              " '1_counts',\n",
              " '2_counts',\n",
              " 'features_cv']"
            ]
          },
          "metadata": {
            "tags": []
          },
          "execution_count": 34
        }
      ]
    },
    {
      "cell_type": "code",
      "metadata": {
        "colab": {
          "base_uri": "https://localhost:8080/"
        },
        "id": "PAatJjGVx5zX",
        "outputId": "ac714e42-5431-4182-fc20-24a0a12bb15d"
      },
      "source": [
        "result_cv.take(1)"
      ],
      "execution_count": 35,
      "outputs": [
        {
          "output_type": "execute_result",
          "data": {
            "text/plain": [
              "[Row(headlines='aba decides against community broadcasting licence', index=0, text='aba decides against community broadcasting licence', words=['decides', 'against', 'community', 'broadcasting', 'licence'], noStopWords='[decides, community, broadcasting, licence]', finalwords=['decides', 'community', 'broadcasting', 'licence'], 1_grams=['decides', 'community', 'broadcasting', 'licence'], 2_grams=['decides community', 'community broadcasting', 'broadcasting licence'], 1_counts=SparseVector(16599, {111: 1.0, 958: 1.0, 5213: 1.0, 8099: 1.0}), 2_counts=SparseVector(19985, {}), features_cv=SparseVector(36584, {111: 1.0, 958: 1.0, 5213: 1.0, 8099: 1.0}))]"
            ]
          },
          "metadata": {
            "tags": []
          },
          "execution_count": 35
        }
      ]
    },
    {
      "cell_type": "markdown",
      "metadata": {
        "id": "oNJ16027x5zX"
      },
      "source": [
        "__es el turno de obtener IDF__"
      ]
    },
    {
      "cell_type": "code",
      "metadata": {
        "colab": {
          "base_uri": "https://localhost:8080/"
        },
        "id": "ekCwipqQ058C",
        "outputId": "23221537-1285-4457-c143-8846c8827f45"
      },
      "source": [
        "%%time\n",
        "# IDF\n",
        "idf = IDF(inputCol=\"features_cv\", outputCol=\"features\")\n",
        "idfModel = idf.fit(result_cv)\n",
        "result_tfidf = idfModel.transform(result_cv) "
      ],
      "execution_count": 36,
      "outputs": [
        {
          "output_type": "stream",
          "text": [
            "CPU times: user 507 ms, sys: 57 ms, total: 564 ms\n",
            "Wall time: 1min 43s\n"
          ],
          "name": "stdout"
        }
      ]
    },
    {
      "cell_type": "code",
      "metadata": {
        "colab": {
          "base_uri": "https://localhost:8080/"
        },
        "id": "FC-6u-a4x5zY",
        "outputId": "29326b47-cace-45bc-f401-1308618cacad"
      },
      "source": [
        "result_tfidf.take(1)"
      ],
      "execution_count": 37,
      "outputs": [
        {
          "output_type": "execute_result",
          "data": {
            "text/plain": [
              "[Row(headlines='aba decides against community broadcasting licence', index=0, text='aba decides against community broadcasting licence', words=['decides', 'against', 'community', 'broadcasting', 'licence'], noStopWords='[decides, community, broadcasting, licence]', finalwords=['decides', 'community', 'broadcasting', 'licence'], 1_grams=['decides', 'community', 'broadcasting', 'licence'], 2_grams=['decides community', 'community broadcasting', 'broadcasting licence'], 1_counts=SparseVector(16599, {111: 1.0, 958: 1.0, 5213: 1.0, 8099: 1.0}), 2_counts=SparseVector(19985, {}), features_cv=SparseVector(36584, {111: 1.0, 958: 1.0, 5213: 1.0, 8099: 1.0}), features=SparseVector(36584, {111: 5.2528, 958: 6.8735, 5213: 9.0088, 8099: 9.729}))]"
            ]
          },
          "metadata": {
            "tags": []
          },
          "execution_count": 37
        }
      ]
    },
    {
      "cell_type": "markdown",
      "metadata": {
        "id": "emHv8FE8058C"
      },
      "source": [
        "## Train Model"
      ]
    },
    {
      "cell_type": "code",
      "metadata": {
        "colab": {
          "base_uri": "https://localhost:8080/"
        },
        "id": "gdIW1IaN058C",
        "scrolled": true,
        "outputId": "041681c6-c4d1-4d3e-afe9-f2d00cd8a755"
      },
      "source": [
        "%%time\n",
        "num_topics=30\n",
        "max_iterations=50\n",
        "lda = LDA(k=num_topics, maxIter=max_iterations)\n",
        "ldaModel = lda.fit(result_tfidf)"
      ],
      "execution_count": 38,
      "outputs": [
        {
          "output_type": "stream",
          "text": [
            "CPU times: user 4.65 s, sys: 503 ms, total: 5.15 s\n",
            "Wall time: 15min 28s\n"
          ],
          "name": "stdout"
        }
      ]
    },
    {
      "cell_type": "markdown",
      "metadata": {
        "id": "4KeWpKkiD08f"
      },
      "source": [
        "### Guardar los modelos"
      ]
    },
    {
      "cell_type": "code",
      "metadata": {
        "id": "ws8YqHuUO3wJ",
        "colab": {
          "base_uri": "https://localhost:8080/"
        },
        "outputId": "b556ad4f-cbec-4753-c864-4e7b21e07349"
      },
      "source": [
        "print(ldaModel.isDistributed())\n",
        "path = \"/content/drive/MyDrive/Modelos/modelosLDA/\"\n",
        "\n",
        "model_number = '1'\n",
        "pipline_vectorizer_ngrams.save(path + 'PipelineVectorizerModel'+ model_number)    # Modelo BOW\n",
        "ldaModel.save(path + 'LDAModel'+ model_number)  # Modelo entrenado\n",
        "lda.save(path + 'LDA_'+ model_number)\n",
        "idfModel.save(path + 'idfModel'+ model_number) "
      ],
      "execution_count": 39,
      "outputs": [
        {
          "output_type": "stream",
          "text": [
            "False\n"
          ],
          "name": "stdout"
        }
      ]
    },
    {
      "cell_type": "markdown",
      "metadata": {
        "id": "p6JmCQy7EVpX"
      },
      "source": [
        "# Cargar modelos"
      ]
    },
    {
      "cell_type": "code",
      "metadata": {
        "id": "uKao5qT3Efyd"
      },
      "source": [
        "path = \"/content/drive/MyDrive/Modelos/modelosLDA/\"\n",
        "model_number = '1'\n",
        "pipline_vectorizer_ngrams = PipelineModel.load(path + 'PipelineVectorizerModel'+ model_number )   # Modelo BOW\n",
        "#lda = LocalLDAModel.load(path + 'LDA_'+ model_number)\n",
        "ldaModel = LocalLDAModel.load(path + 'LDAModel'+ model_number)               # Modelo entrenado"
      ],
      "execution_count": 41,
      "outputs": []
    },
    {
      "cell_type": "code",
      "metadata": {
        "id": "G7xQOgTQ058D",
        "colab": {
          "base_uri": "https://localhost:8080/"
        },
        "outputId": "cdf7e725-8403-4975-8eb4-ee3d6f5a5d41"
      },
      "source": [
        "# Print topics and top-weighted terms\n",
        "numTopics = 30  # cantidad de topicos a explorar\n",
        "topics = ldaModel.describeTopics(maxTermsPerTopic=5)\n",
        "ListOfIndexToWords = udf(lambda wl: list([vocabulario[w] for w in wl]))\n",
        "FormatNumbers = udf(lambda nl: [\"{:1.4f}\".format(x) for x in nl])\n",
        "\n",
        "toptopics = topics.select((topics.topic + 1).alias('topic'),\n",
        "                          ListOfIndexToWords(topics.termIndices).alias('words'),\n",
        "                          FormatNumbers(topics.termWeights).alias('weights'))\n",
        "toptopics.show(truncate=False, n=numTopics)\n",
        "print('Topics:', numTopics, 'Vocabulary:', len(vocabArray))\n",
        "\n"
      ],
      "execution_count": 42,
      "outputs": [
        {
          "output_type": "stream",
          "text": [
            "+-----+-----------------------------------------------+----------------------------------------+\n",
            "|topic|words                                          |weights                                 |\n",
            "+-----+-----------------------------------------------+----------------------------------------+\n",
            "|1    |[told, break, head, south, emergency]          |[0.0125, 0.0123, 0.0121, 0.0094, 0.0090]|\n",
            "|2    |[pakistan, defence, people, john, abbott]      |[0.0115, 0.0098, 0.0095, 0.0093, 0.0088]|\n",
            "|3    |[trump, road, continues, care, local]          |[0.0185, 0.0165, 0.0150, 0.0125, 0.0114]|\n",
            "|4    |[queensland, bill, tourist, early, grant]      |[0.0303, 0.0191, 0.0151, 0.0134, 0.0104]|\n",
            "|5    |[community, perth, northern, energy, king]     |[0.0143, 0.0113, 0.0109, 0.0095, 0.0093]|\n",
            "|6    |[probe, time, begin, challenge, meeting]       |[0.0182, 0.0180, 0.0153, 0.0118, 0.0111]|\n",
            "|7    |[lead, concern, considers, expected, crisis]   |[0.0227, 0.0184, 0.0120, 0.0118, 0.0115]|\n",
            "|8    |[protest, season, offer, tiger, start]         |[0.0147, 0.0129, 0.0113, 0.0110, 0.0100]|\n",
            "|9    |[canberra, arrested, farm, asylum, airport]    |[0.0141, 0.0125, 0.0119, 0.0092, 0.0086]|\n",
            "|10   |[interview, cut, japan, hobart, visit]         |[0.0141, 0.0134, 0.0109, 0.0103, 0.0100]|\n",
            "|11   |[budget, join, live, export, good]             |[0.0255, 0.0164, 0.0153, 0.0147, 0.0140]|\n",
            "|12   |[talk, country, hour, welcome, stand]          |[0.0268, 0.0252, 0.0206, 0.0187, 0.0151]|\n",
            "|13   |[future, star, rule, aust, food]               |[0.0139, 0.0116, 0.0102, 0.0095, 0.0089]|\n",
            "|14   |[health, hospital, call, delay, dead]          |[0.0259, 0.0162, 0.0096, 0.0096, 0.0095]|\n",
            "|15   |[change, farmer, close, weather, climate]      |[0.0191, 0.0161, 0.0123, 0.0116, 0.0101]|\n",
            "|16   |[record, warning, appeal, stop, campaign]      |[0.0170, 0.0124, 0.0110, 0.0093, 0.0092]|\n",
            "|17   |[worker, rain, drought, green, demand]         |[0.0199, 0.0125, 0.0119, 0.0115, 0.0101]|\n",
            "|18   |[govt, opposition, number, plane, ready]       |[0.0106, 0.0098, 0.0098, 0.0091, 0.0078]|\n",
            "|19   |[urge, decision, arrest, right, action]        |[0.0130, 0.0119, 0.0109, 0.0108, 0.0104]|\n",
            "|20   |[national, rural, woman, news, business]       |[0.0172, 0.0162, 0.0157, 0.0154, 0.0143]|\n",
            "|21   |[coronavirus, state, support, government, fund]|[0.0147, 0.0139, 0.0105, 0.0098, 0.0088]|\n",
            "|22   |[court, face, charged, accused, charge]        |[0.0300, 0.0285, 0.0191, 0.0184, 0.0184]|\n",
            "|23   |[price, urged, rudd, rise, rally]              |[0.0190, 0.0141, 0.0096, 0.0094, 0.0093]|\n",
            "|24   |[power, park, share, life, liberal]            |[0.0215, 0.0167, 0.0166, 0.0140, 0.0129]|\n",
            "|25   |[chief, shark, nuclear, home, fear]            |[0.0154, 0.0150, 0.0134, 0.0134, 0.0121]|\n",
            "|26   |[four, violence, clash, continue, give]        |[0.0136, 0.0130, 0.0116, 0.0106, 0.0100]|\n",
            "|27   |[fire, missing, search, company, police]       |[0.0164, 0.0159, 0.0133, 0.0111, 0.0102]|\n",
            "|28   |[child, guilty, found, abuse, body]            |[0.0280, 0.0164, 0.0154, 0.0137, 0.0126]|\n",
            "|29   |[coast, gold, land, gold coast, cattle]        |[0.0294, 0.0228, 0.0148, 0.0135, 0.0121]|\n",
            "|30   |[market, seek, jailed, prison, dollar]         |[0.0237, 0.0207, 0.0157, 0.0141, 0.0116]|\n",
            "+-----+-----------------------------------------------+----------------------------------------+\n",
            "\n",
            "Topics: 30 Vocabulary: 2\n"
          ],
          "name": "stdout"
        }
      ]
    }
  ]
}