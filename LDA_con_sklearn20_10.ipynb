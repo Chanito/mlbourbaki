{
  "nbformat": 4,
  "nbformat_minor": 0,
  "metadata": {
    "colab": {
      "name": "LDA con sklearn20_10.ipynb",
      "provenance": [],
      "include_colab_link": true
    },
    "kernelspec": {
      "name": "python3",
      "display_name": "Python 3"
    },
    "language_info": {
      "name": "python"
    }
  },
  "cells": [
    {
      "cell_type": "markdown",
      "metadata": {
        "id": "view-in-github",
        "colab_type": "text"
      },
      "source": [
        "<a href=\"https://colab.research.google.com/github/Chanito/mlbourbaki/blob/main/LDA_con_sklearn20_10.ipynb\" target=\"_parent\"><img src=\"https://colab.research.google.com/assets/colab-badge.svg\" alt=\"Open In Colab\"/></a>"
      ]
    },
    {
      "cell_type": "code",
      "metadata": {
        "colab": {
          "base_uri": "https://localhost:8080/",
          "height": 921
        },
        "id": "ASPXxCfTa2bL",
        "outputId": "e01f71d1-2c63-4ab1-d1d6-9afbcb8c898e"
      },
      "source": [
        "!pip install pyLDAvis  #biblioteca que extrae información de un modelo LDA para obtener una visualización interactiva"
      ],
      "execution_count": 1,
      "outputs": [
        {
          "output_type": "stream",
          "text": [
            "Collecting pyLDAvis\n",
            "\u001b[?25l  Downloading https://files.pythonhosted.org/packages/03/a5/15a0da6b0150b8b68610cc78af80364a80a9a4c8b6dd5ee549b8989d4b60/pyLDAvis-3.3.1.tar.gz (1.7MB)\n",
            "\u001b[K     |████████████████████████████████| 1.7MB 5.6MB/s \n",
            "\u001b[?25h  Installing build dependencies ... \u001b[?25l\u001b[?25hdone\n",
            "  Getting requirements to build wheel ... \u001b[?25l\u001b[?25hdone\n",
            "  Installing backend dependencies ... \u001b[?25l\u001b[?25hdone\n",
            "    Preparing wheel metadata ... \u001b[?25l\u001b[?25hdone\n",
            "Requirement already satisfied: scikit-learn in /usr/local/lib/python3.7/dist-packages (from pyLDAvis) (0.22.2.post1)\n",
            "Collecting pandas>=1.2.0\n",
            "\u001b[?25l  Downloading https://files.pythonhosted.org/packages/51/51/48f3fc47c4e2144da2806dfb6629c4dd1fa3d5a143f9652b141e979a8ca9/pandas-1.2.4-cp37-cp37m-manylinux1_x86_64.whl (9.9MB)\n",
            "\u001b[K     |████████████████████████████████| 9.9MB 18.0MB/s \n",
            "\u001b[?25hRequirement already satisfied: jinja2 in /usr/local/lib/python3.7/dist-packages (from pyLDAvis) (2.11.3)\n",
            "Requirement already satisfied: gensim in /usr/local/lib/python3.7/dist-packages (from pyLDAvis) (3.6.0)\n",
            "Requirement already satisfied: future in /usr/local/lib/python3.7/dist-packages (from pyLDAvis) (0.16.0)\n",
            "Collecting funcy\n",
            "  Downloading https://files.pythonhosted.org/packages/44/52/5cf7401456a461e4b481650dfb8279bc000f31a011d0918904f86e755947/funcy-1.16-py2.py3-none-any.whl\n",
            "Requirement already satisfied: numexpr in /usr/local/lib/python3.7/dist-packages (from pyLDAvis) (2.7.3)\n",
            "Requirement already satisfied: setuptools in /usr/local/lib/python3.7/dist-packages (from pyLDAvis) (57.0.0)\n",
            "Requirement already satisfied: joblib in /usr/local/lib/python3.7/dist-packages (from pyLDAvis) (1.0.1)\n",
            "Requirement already satisfied: sklearn in /usr/local/lib/python3.7/dist-packages (from pyLDAvis) (0.0)\n",
            "Collecting numpy>=1.20.0\n",
            "\u001b[?25l  Downloading https://files.pythonhosted.org/packages/a5/42/560d269f604d3e186a57c21a363e77e199358d054884e61b73e405dd217c/numpy-1.20.3-cp37-cp37m-manylinux_2_12_x86_64.manylinux2010_x86_64.whl (15.3MB)\n",
            "\u001b[K     |████████████████████████████████| 15.3MB 150kB/s \n",
            "\u001b[?25hRequirement already satisfied: scipy in /usr/local/lib/python3.7/dist-packages (from pyLDAvis) (1.4.1)\n",
            "Requirement already satisfied: pytz>=2017.3 in /usr/local/lib/python3.7/dist-packages (from pandas>=1.2.0->pyLDAvis) (2018.9)\n",
            "Requirement already satisfied: python-dateutil>=2.7.3 in /usr/local/lib/python3.7/dist-packages (from pandas>=1.2.0->pyLDAvis) (2.8.1)\n",
            "Requirement already satisfied: MarkupSafe>=0.23 in /usr/local/lib/python3.7/dist-packages (from jinja2->pyLDAvis) (2.0.1)\n",
            "Requirement already satisfied: smart-open>=1.2.1 in /usr/local/lib/python3.7/dist-packages (from gensim->pyLDAvis) (5.1.0)\n",
            "Requirement already satisfied: six>=1.5.0 in /usr/local/lib/python3.7/dist-packages (from gensim->pyLDAvis) (1.15.0)\n",
            "Building wheels for collected packages: pyLDAvis\n",
            "  Building wheel for pyLDAvis (PEP 517) ... \u001b[?25l\u001b[?25hdone\n",
            "  Created wheel for pyLDAvis: filename=pyLDAvis-3.3.1-cp37-none-any.whl size=136897 sha256=1e4bccd2cf2d578e95f979651bfa3281c8f7971b7f4674812a88721b339edbb1\n",
            "  Stored in directory: /root/.cache/pip/wheels/a0/9c/fc/c6e00689d35c82cf96a8adc70edfe7ba7904374fdac3240ac2\n",
            "Successfully built pyLDAvis\n",
            "\u001b[31mERROR: tensorflow 2.5.0 has requirement numpy~=1.19.2, but you'll have numpy 1.20.3 which is incompatible.\u001b[0m\n",
            "\u001b[31mERROR: google-colab 1.0.0 has requirement pandas~=1.1.0; python_version >= \"3.0\", but you'll have pandas 1.2.4 which is incompatible.\u001b[0m\n",
            "\u001b[31mERROR: datascience 0.10.6 has requirement folium==0.2.1, but you'll have folium 0.8.3 which is incompatible.\u001b[0m\n",
            "\u001b[31mERROR: albumentations 0.1.12 has requirement imgaug<0.2.7,>=0.2.5, but you'll have imgaug 0.2.9 which is incompatible.\u001b[0m\n",
            "Installing collected packages: numpy, pandas, funcy, pyLDAvis\n",
            "  Found existing installation: numpy 1.19.5\n",
            "    Uninstalling numpy-1.19.5:\n",
            "      Successfully uninstalled numpy-1.19.5\n",
            "  Found existing installation: pandas 1.1.5\n",
            "    Uninstalling pandas-1.1.5:\n",
            "      Successfully uninstalled pandas-1.1.5\n",
            "Successfully installed funcy-1.16 numpy-1.20.3 pandas-1.2.4 pyLDAvis-3.3.1\n"
          ],
          "name": "stdout"
        },
        {
          "output_type": "display_data",
          "data": {
            "application/vnd.colab-display-data+json": {
              "pip_warning": {
                "packages": [
                  "numpy",
                  "pandas"
                ]
              }
            }
          },
          "metadata": {
            "tags": []
          }
        }
      ]
    },
    {
      "cell_type": "code",
      "metadata": {
        "colab": {
          "base_uri": "https://localhost:8080/"
        },
        "id": "ROy7X72IDE2X",
        "outputId": "44fa2b02-6011-4303-8fae-48d197359bc0"
      },
      "source": [
        "import pandas as pd\n",
        "import numpy as np\n",
        "\n",
        "import re\n",
        "import nltk\n",
        "from nltk.corpus import stopwords\n",
        "from nltk.stem import PorterStemmer, WordNetLemmatizer\n",
        "\n",
        "from sklearn.feature_extraction.text import TfidfVectorizer\n",
        "\n",
        "import pyLDAvis\n",
        "import matplotlib.pyplot as plt \n",
        "import seaborn as sns  \n",
        "\n",
        "nltk.download('stopwords')\n",
        "nltk.download('wordnet')  #WordNetLemmatizer\n",
        "nltk.download('punkt')\n"
      ],
      "execution_count": 1,
      "outputs": [
        {
          "output_type": "stream",
          "text": [
            "/usr/local/lib/python3.7/dist-packages/past/types/oldstr.py:5: DeprecationWarning: Using or importing the ABCs from 'collections' instead of from 'collections.abc' is deprecated since Python 3.3,and in 3.9 it will stop working\n",
            "  from collections import Iterable\n",
            "/usr/local/lib/python3.7/dist-packages/past/builtins/misc.py:4: DeprecationWarning: Using or importing the ABCs from 'collections' instead of from 'collections.abc' is deprecated since Python 3.3,and in 3.9 it will stop working\n",
            "  from collections import Mapping\n",
            "/usr/local/lib/python3.7/dist-packages/sklearn/decomposition/_lda.py:29: DeprecationWarning: `np.float` is a deprecated alias for the builtin `float`. To silence this warning, use `float` by itself. Doing this will not modify any behavior and is safe. If you specifically wanted the numpy scalar type, use `np.float64` here.\n",
            "Deprecated in NumPy 1.20; for more details and guidance: https://numpy.org/devdocs/release/1.20.0-notes.html#deprecations\n",
            "  EPS = np.finfo(np.float).eps\n"
          ],
          "name": "stderr"
        },
        {
          "output_type": "stream",
          "text": [
            "[nltk_data] Downloading package stopwords to /root/nltk_data...\n",
            "[nltk_data]   Unzipping corpora/stopwords.zip.\n",
            "[nltk_data] Downloading package wordnet to /root/nltk_data...\n",
            "[nltk_data]   Unzipping corpora/wordnet.zip.\n",
            "[nltk_data] Downloading package punkt to /root/nltk_data...\n",
            "[nltk_data]   Unzipping tokenizers/punkt.zip.\n"
          ],
          "name": "stdout"
        },
        {
          "output_type": "execute_result",
          "data": {
            "text/plain": [
              "True"
            ]
          },
          "metadata": {
            "tags": []
          },
          "execution_count": 1
        }
      ]
    },
    {
      "cell_type": "markdown",
      "metadata": {
        "id": "53qgW2CaSPnG"
      },
      "source": [
        "En colab, al instalar la librería pyLDAvis causa un conflicto con Pandas. Si esto se refleja al correr la siguiente linea es necesario reiniciar el entorno de ejecución."
      ]
    },
    {
      "cell_type": "code",
      "metadata": {
        "colab": {
          "base_uri": "https://localhost:8080/",
          "height": 223
        },
        "id": "J_rnNHkAQ8aw",
        "outputId": "c2a8174f-9679-48a6-c2e4-b1129793490d"
      },
      "source": [
        "df = pd.read_csv('/content/drive/MyDrive/Datos/Headlines/abcnews-date-text.csv', parse_dates=['publish_date'] )\n",
        "print(df.shape)\n",
        "df.head()"
      ],
      "execution_count": 4,
      "outputs": [
        {
          "output_type": "stream",
          "text": [
            "(1226258, 2)\n"
          ],
          "name": "stdout"
        },
        {
          "output_type": "execute_result",
          "data": {
            "text/html": [
              "<div>\n",
              "<style scoped>\n",
              "    .dataframe tbody tr th:only-of-type {\n",
              "        vertical-align: middle;\n",
              "    }\n",
              "\n",
              "    .dataframe tbody tr th {\n",
              "        vertical-align: top;\n",
              "    }\n",
              "\n",
              "    .dataframe thead th {\n",
              "        text-align: right;\n",
              "    }\n",
              "</style>\n",
              "<table border=\"1\" class=\"dataframe\">\n",
              "  <thead>\n",
              "    <tr style=\"text-align: right;\">\n",
              "      <th></th>\n",
              "      <th>publish_date</th>\n",
              "      <th>headline_text</th>\n",
              "    </tr>\n",
              "  </thead>\n",
              "  <tbody>\n",
              "    <tr>\n",
              "      <th>0</th>\n",
              "      <td>2003-02-19</td>\n",
              "      <td>aba decides against community broadcasting lic...</td>\n",
              "    </tr>\n",
              "    <tr>\n",
              "      <th>1</th>\n",
              "      <td>2003-02-19</td>\n",
              "      <td>act fire witnesses must be aware of defamation</td>\n",
              "    </tr>\n",
              "    <tr>\n",
              "      <th>2</th>\n",
              "      <td>2003-02-19</td>\n",
              "      <td>a g calls for infrastructure protection summit</td>\n",
              "    </tr>\n",
              "    <tr>\n",
              "      <th>3</th>\n",
              "      <td>2003-02-19</td>\n",
              "      <td>air nz staff in aust strike for pay rise</td>\n",
              "    </tr>\n",
              "    <tr>\n",
              "      <th>4</th>\n",
              "      <td>2003-02-19</td>\n",
              "      <td>air nz strike to affect australian travellers</td>\n",
              "    </tr>\n",
              "  </tbody>\n",
              "</table>\n",
              "</div>"
            ],
            "text/plain": [
              "  publish_date                                      headline_text\n",
              "0   2003-02-19  aba decides against community broadcasting lic...\n",
              "1   2003-02-19     act fire witnesses must be aware of defamation\n",
              "2   2003-02-19     a g calls for infrastructure protection summit\n",
              "3   2003-02-19           air nz staff in aust strike for pay rise\n",
              "4   2003-02-19      air nz strike to affect australian travellers"
            ]
          },
          "metadata": {
            "tags": []
          },
          "execution_count": 4
        }
      ]
    },
    {
      "cell_type": "code",
      "metadata": {
        "id": "aL4tsjUuoP24",
        "outputId": "dbb66279-3121-433f-b9eb-4920ae7a19b5",
        "colab": {
          "base_uri": "https://localhost:8080/"
        }
      },
      "source": [
        "from google.colab import drive\n",
        "drive.mount('/content/drive')"
      ],
      "execution_count": 3,
      "outputs": [
        {
          "output_type": "stream",
          "text": [
            "Mounted at /content/drive\n"
          ],
          "name": "stdout"
        }
      ]
    },
    {
      "cell_type": "code",
      "metadata": {
        "colab": {
          "base_uri": "https://localhost:8080/"
        },
        "id": "cxLRzl0CVkeg",
        "outputId": "7ae4d1f6-1cd7-45a3-ec31-77371a705bd4"
      },
      "source": [
        "df.publish_date.min(), df.publish_date.max()"
      ],
      "execution_count": 5,
      "outputs": [
        {
          "output_type": "execute_result",
          "data": {
            "text/plain": [
              "(Timestamp('2003-02-19 00:00:00'), Timestamp('2020-12-31 00:00:00'))"
            ]
          },
          "metadata": {
            "tags": []
          },
          "execution_count": 5
        }
      ]
    },
    {
      "cell_type": "code",
      "metadata": {
        "colab": {
          "base_uri": "https://localhost:8080/"
        },
        "id": "NXSLK4Y4V_yM",
        "outputId": "a4674990-53bc-48dd-dd54-bb0c5f3cc0c7"
      },
      "source": [
        "# promedio de noticias por día\n",
        "len(df)/(df.publish_date.max()-df.publish_date.min()).days\n"
      ],
      "execution_count": 6,
      "outputs": [
        {
          "output_type": "execute_result",
          "data": {
            "text/plain": [
              "187.93226053639847"
            ]
          },
          "metadata": {
            "tags": []
          },
          "execution_count": 6
        }
      ]
    },
    {
      "cell_type": "code",
      "metadata": {
        "colab": {
          "base_uri": "https://localhost:8080/",
          "height": 824
        },
        "id": "SXavCnKbSpnX",
        "outputId": "16cc0984-4d16-4106-a8f2-77b8036194c9"
      },
      "source": [
        "df.sample(25)"
      ],
      "execution_count": 7,
      "outputs": [
        {
          "output_type": "execute_result",
          "data": {
            "text/html": [
              "<div>\n",
              "<style scoped>\n",
              "    .dataframe tbody tr th:only-of-type {\n",
              "        vertical-align: middle;\n",
              "    }\n",
              "\n",
              "    .dataframe tbody tr th {\n",
              "        vertical-align: top;\n",
              "    }\n",
              "\n",
              "    .dataframe thead th {\n",
              "        text-align: right;\n",
              "    }\n",
              "</style>\n",
              "<table border=\"1\" class=\"dataframe\">\n",
              "  <thead>\n",
              "    <tr style=\"text-align: right;\">\n",
              "      <th></th>\n",
              "      <th>publish_date</th>\n",
              "      <th>headline_text</th>\n",
              "    </tr>\n",
              "  </thead>\n",
              "  <tbody>\n",
              "    <tr>\n",
              "      <th>484099</th>\n",
              "      <td>2009-08-25</td>\n",
              "      <td>storms bring relief to parched gippsland</td>\n",
              "    </tr>\n",
              "    <tr>\n",
              "      <th>590481</th>\n",
              "      <td>2011-01-27</td>\n",
              "      <td>fears apy school attendance rates falling</td>\n",
              "    </tr>\n",
              "    <tr>\n",
              "      <th>537235</th>\n",
              "      <td>2010-05-12</td>\n",
              "      <td>extended interview brendan smyth speaks with 666</td>\n",
              "    </tr>\n",
              "    <tr>\n",
              "      <th>1045466</th>\n",
              "      <td>2016-08-31</td>\n",
              "      <td>hunter paedophile priest was like jekyll and hyde</td>\n",
              "    </tr>\n",
              "    <tr>\n",
              "      <th>1146123</th>\n",
              "      <td>2018-11-02</td>\n",
              "      <td>premiers spelling bee 2018 sydney</td>\n",
              "    </tr>\n",
              "    <tr>\n",
              "      <th>861662</th>\n",
              "      <td>2014-03-20</td>\n",
              "      <td>rural sa challenging season 2003</td>\n",
              "    </tr>\n",
              "    <tr>\n",
              "      <th>361464</th>\n",
              "      <td>2008-02-05</td>\n",
              "      <td>axe to fall on mitsubishi in march</td>\n",
              "    </tr>\n",
              "    <tr>\n",
              "      <th>1019621</th>\n",
              "      <td>2016-04-06</td>\n",
              "      <td>queensland urged to reconsider daylight saving</td>\n",
              "    </tr>\n",
              "    <tr>\n",
              "      <th>25590</th>\n",
              "      <td>2003-06-22</td>\n",
              "      <td>abortion ship denied entry to polish port</td>\n",
              "    </tr>\n",
              "    <tr>\n",
              "      <th>1102045</th>\n",
              "      <td>2017-10-11</td>\n",
              "      <td>sydney city council to open up late night shop...</td>\n",
              "    </tr>\n",
              "    <tr>\n",
              "      <th>1040834</th>\n",
              "      <td>2016-08-04</td>\n",
              "      <td>josh frydenberg speaks to the business</td>\n",
              "    </tr>\n",
              "    <tr>\n",
              "      <th>216232</th>\n",
              "      <td>2006-02-02</td>\n",
              "      <td>police defend not naming double murder suspect</td>\n",
              "    </tr>\n",
              "    <tr>\n",
              "      <th>901029</th>\n",
              "      <td>2014-09-07</td>\n",
              "      <td>alp critical of tony abbotts first year in gov...</td>\n",
              "    </tr>\n",
              "    <tr>\n",
              "      <th>80996</th>\n",
              "      <td>2004-03-26</td>\n",
              "      <td>senator to use local hang ups to oppose telstra</td>\n",
              "    </tr>\n",
              "    <tr>\n",
              "      <th>637155</th>\n",
              "      <td>2011-09-05</td>\n",
              "      <td>lobby group growing pains</td>\n",
              "    </tr>\n",
              "    <tr>\n",
              "      <th>1196256</th>\n",
              "      <td>2020-04-22</td>\n",
              "      <td>government to buy fuel secure national stockpile</td>\n",
              "    </tr>\n",
              "    <tr>\n",
              "      <th>1034924</th>\n",
              "      <td>2016-07-01</td>\n",
              "      <td>election 2016 results game 12 things to watch</td>\n",
              "    </tr>\n",
              "    <tr>\n",
              "      <th>935308</th>\n",
              "      <td>2015-03-03</td>\n",
              "      <td>every single one of us behind pm turnbull says</td>\n",
              "    </tr>\n",
              "    <tr>\n",
              "      <th>597999</th>\n",
              "      <td>2011-02-28</td>\n",
              "      <td>uranium group sees carbon tax benefits</td>\n",
              "    </tr>\n",
              "    <tr>\n",
              "      <th>121029</th>\n",
              "      <td>2004-10-13</td>\n",
              "      <td>energex resignation fails to deter beattie</td>\n",
              "    </tr>\n",
              "    <tr>\n",
              "      <th>1202738</th>\n",
              "      <td>2020-06-15</td>\n",
              "      <td>sanfl to kick off at adelaide oval with full l...</td>\n",
              "    </tr>\n",
              "    <tr>\n",
              "      <th>940438</th>\n",
              "      <td>2015-03-25</td>\n",
              "      <td>fisheries officers interviewing tiger shark fi...</td>\n",
              "    </tr>\n",
              "    <tr>\n",
              "      <th>1163681</th>\n",
              "      <td>2019-05-06</td>\n",
              "      <td>american aflw hopeful sara edwards rohner denv...</td>\n",
              "    </tr>\n",
              "    <tr>\n",
              "      <th>592438</th>\n",
              "      <td>2011-02-05</td>\n",
              "      <td>support for injured policeman in the face of l...</td>\n",
              "    </tr>\n",
              "    <tr>\n",
              "      <th>141750</th>\n",
              "      <td>2005-01-26</td>\n",
              "      <td>southern qld shares in aust day honours</td>\n",
              "    </tr>\n",
              "  </tbody>\n",
              "</table>\n",
              "</div>"
            ],
            "text/plain": [
              "        publish_date                                      headline_text\n",
              "484099    2009-08-25           storms bring relief to parched gippsland\n",
              "590481    2011-01-27          fears apy school attendance rates falling\n",
              "537235    2010-05-12   extended interview brendan smyth speaks with 666\n",
              "1045466   2016-08-31  hunter paedophile priest was like jekyll and hyde\n",
              "1146123   2018-11-02                  premiers spelling bee 2018 sydney\n",
              "861662    2014-03-20                   rural sa challenging season 2003\n",
              "361464    2008-02-05                 axe to fall on mitsubishi in march\n",
              "1019621   2016-04-06     queensland urged to reconsider daylight saving\n",
              "25590     2003-06-22          abortion ship denied entry to polish port\n",
              "1102045   2017-10-11  sydney city council to open up late night shop...\n",
              "1040834   2016-08-04             josh frydenberg speaks to the business\n",
              "216232    2006-02-02     police defend not naming double murder suspect\n",
              "901029    2014-09-07  alp critical of tony abbotts first year in gov...\n",
              "80996     2004-03-26    senator to use local hang ups to oppose telstra\n",
              "637155    2011-09-05                          lobby group growing pains\n",
              "1196256   2020-04-22   government to buy fuel secure national stockpile\n",
              "1034924   2016-07-01      election 2016 results game 12 things to watch\n",
              "935308    2015-03-03     every single one of us behind pm turnbull says\n",
              "597999    2011-02-28             uranium group sees carbon tax benefits\n",
              "121029    2004-10-13         energex resignation fails to deter beattie\n",
              "1202738   2020-06-15  sanfl to kick off at adelaide oval with full l...\n",
              "940438    2015-03-25  fisheries officers interviewing tiger shark fi...\n",
              "1163681   2019-05-06  american aflw hopeful sara edwards rohner denv...\n",
              "592438    2011-02-05  support for injured policeman in the face of l...\n",
              "141750    2005-01-26            southern qld shares in aust day honours"
            ]
          },
          "metadata": {
            "tags": []
          },
          "execution_count": 7
        }
      ]
    },
    {
      "cell_type": "code",
      "metadata": {
        "id": "7k_x2WD3-iZ6"
      },
      "source": [
        "def preprocesar(texto):\n",
        "  #convierte a minúsculas\n",
        "  texto = texto.lower()\n",
        "\n",
        "  #elimina stopwords\n",
        "  stop = re.compile(r'\\b(' + r'|'.join(stopwords.words('english')) + r')\\b\\s*')\n",
        "  texto = stop.sub('', texto) \n",
        "\n",
        "  #lematizar y quedarnos con palabras que tengan más de tres caracteres\n",
        "  lemmatizer = WordNetLemmatizer()\n",
        "  texto = texto.split()\n",
        "  texto = ' '.join([lemmatizer.lemmatize(i) for i in texto if len(i)>3])\n",
        "  \n",
        "  return(texto)"
      ],
      "execution_count": 9,
      "outputs": []
    },
    {
      "cell_type": "code",
      "metadata": {
        "colab": {
          "base_uri": "https://localhost:8080/"
        },
        "id": "KkCgpoY7S4g2",
        "outputId": "2787bccb-3804-48ba-c27a-0de797444e5b"
      },
      "source": [
        "%%time\n",
        "df['headline_pp']=df['headline_text'].apply(preprocesar)\n",
        "df.head()"
      ],
      "execution_count": 10,
      "outputs": [
        {
          "output_type": "stream",
          "text": [
            "CPU times: user 3min 7s, sys: 15 s, total: 3min 22s\n",
            "Wall time: 3min 22s\n"
          ],
          "name": "stdout"
        }
      ]
    },
    {
      "cell_type": "code",
      "metadata": {
        "colab": {
          "base_uri": "https://localhost:8080/"
        },
        "id": "8xsWZiBKYUA2",
        "outputId": "faec14c2-19d0-4041-bb86-50aba0ffc600"
      },
      "source": [
        "#vectorizer = TfidfVectorizer()           # 92403 tamaño de vocabulario\n",
        "vectorizer = TfidfVectorizer(min_df=3)    #42695\n",
        "vectorizer = TfidfVectorizer(min_df=20, ngram_range=(1,2))\n",
        "BOW = vectorizer.fit_transform(df['headline_pp'])\n",
        "BOW.shape"
      ],
      "execution_count": 11,
      "outputs": [
        {
          "output_type": "execute_result",
          "data": {
            "text/plain": [
              "(1226258, 36660)"
            ]
          },
          "metadata": {
            "tags": []
          },
          "execution_count": 11
        }
      ]
    },
    {
      "cell_type": "code",
      "metadata": {
        "id": "t8nGEao-afRB"
      },
      "source": [
        "from sklearn.decomposition import LatentDirichletAllocation\n",
        "lda_model=LatentDirichletAllocation(n_components=20,learning_method='online',random_state=42,max_iter=10) "
      ],
      "execution_count": 12,
      "outputs": []
    },
    {
      "cell_type": "code",
      "metadata": {
        "colab": {
          "base_uri": "https://localhost:8080/"
        },
        "id": "vUKtulg8alik",
        "outputId": "fbd5c4ea-c385-4477-8178-d483d348d03e"
      },
      "source": [
        "%%time\n",
        "lda_top=lda_model.fit_transform(BOW)"
      ],
      "execution_count": 13,
      "outputs": [
        {
          "output_type": "stream",
          "text": [
            "CPU times: user 1h 28min 7s, sys: 51.2 s, total: 1h 28min 59s\n",
            "Wall time: 1h 28min 53s\n"
          ],
          "name": "stdout"
        }
      ]
    },
    {
      "cell_type": "code",
      "metadata": {
        "id": "_e5KMi56aues"
      },
      "source": [
        "import pickle\n",
        "# do we need to save lda_model instead?\n",
        "with open('/content/drive/MyDrive/Modelos/modelosLDA/LDA_sklearn/LDA20_10iter.pikle', 'wb') as f:\n",
        "  pickle.dump(lda_top, f)"
      ],
      "execution_count": 14,
      "outputs": []
    },
    {
      "cell_type": "code",
      "metadata": {
        "id": "788JuhkXQcIQ"
      },
      "source": [
        "with open('/content/drive/MyDrive/Modelos/modelosLDA/LDA_sklearn/vectorizer.pikle', 'wb') as f:\n",
        "  pickle.dump(vectorizer, f)"
      ],
      "execution_count": 26,
      "outputs": []
    },
    {
      "cell_type": "code",
      "metadata": {
        "id": "qajrPA-3Pv4a"
      },
      "source": [
        "with open('/content/drive/MyDrive/Modelos/modelosLDA/LDA_sklearn/BOW.pikle', 'wb') as f:\n",
        "  pickle.dump(BOW, f)"
      ],
      "execution_count": 31,
      "outputs": []
    },
    {
      "cell_type": "code",
      "metadata": {
        "id": "-PQjSASfB7X1"
      },
      "source": [
        "with open('/content/drive/MyDrive/Modelos/modelosLDA/LDA_sklearn/vectorizer.pikle', 'rb') as f:\n",
        "  vectorizer1 = pickle.load(f)"
      ],
      "execution_count": 27,
      "outputs": []
    },
    {
      "cell_type": "code",
      "metadata": {
        "id": "az_Rn49wEhYB"
      },
      "source": [
        "with open('/content/drive/MyDrive/Modelos/modelosLDA/LDA_sklearn/BOW.pikle', 'rb') as f:\n",
        "  BOW1 = pickle.load(f)"
      ],
      "execution_count": 32,
      "outputs": []
    },
    {
      "cell_type": "code",
      "metadata": {
        "id": "_uAc6o-9BM9W"
      },
      "source": [
        "with open('/content/drive/MyDrive/Modelos/modelosLDA/LDA_sklearn/LDA20_10iter.pikle', 'rb') as f:\n",
        "  lda_top1 = pickle.load(f)"
      ],
      "execution_count": 33,
      "outputs": []
    },
    {
      "cell_type": "code",
      "metadata": {
        "colab": {
          "base_uri": "https://localhost:8080/"
        },
        "id": "bO7oD5X2JNHC",
        "outputId": "e8ef6e4a-1667-466d-9e12-eba767ca4d45"
      },
      "source": [
        "%%time\n",
        "lda_model.perplexity(BOW, sub_sampling = False)"
      ],
      "execution_count": 17,
      "outputs": [
        {
          "output_type": "stream",
          "text": [
            "CPU times: user 1min 43s, sys: 952 ms, total: 1min 44s\n",
            "Wall time: 1min 43s\n"
          ],
          "name": "stdout"
        },
        {
          "output_type": "execute_result",
          "data": {
            "text/plain": [
              "82111.13575853143"
            ]
          },
          "metadata": {
            "tags": []
          },
          "execution_count": 17
        }
      ]
    },
    {
      "cell_type": "code",
      "metadata": {
        "colab": {
          "base_uri": "https://localhost:8080/",
          "height": 861
        },
        "id": "x2Qz50MBOKij",
        "outputId": "adef4a79-9811-4da2-ef42-3a2d2f089613"
      },
      "source": [
        "import pyLDAvis.sklearn\n",
        "pyLDAvis.enable_notebook()\n",
        "\n",
        "pyLDAvis.sklearn.prepare(lda_model, BOW, vectorizer)"
      ],
      "execution_count": 18,
      "outputs": [
        {
          "output_type": "execute_result",
          "data": {
            "text/html": [
              "\n",
              "<link rel=\"stylesheet\" type=\"text/css\" href=\"https://cdn.jsdelivr.net/gh/bmabey/pyLDAvis@3.3.1/pyLDAvis/js/ldavis.v1.0.0.css\">\n",
              "\n",
              "\n",
              "<div id=\"ldavis_el1441403587910494241266415163\"></div>\n",
              "<script type=\"text/javascript\">\n",
              "\n",
              "var ldavis_el1441403587910494241266415163_data = {\"mdsDat\": {\"x\": [-0.18156741939639764, 0.09653028060551412, 0.11355039364532592, -0.06650754098014676, 0.11855111123957196, 0.11103119507595405, -0.10703888617434558, 0.1589117533891132, 0.11401072921429622, -0.1746027861204981, 0.032126182559821616, -0.11964103720210566, -0.1332009743247102, -0.016130683623218907, 0.06586547992320364, -0.12587139065204034, 0.02146440840558977, 0.15782811879912947, -0.07302363271317444, 0.007714698329117658], \"y\": [-0.052764088360175584, 0.0763983363188295, -0.055457446635810946, -0.09401979716557501, 0.16808784100255478, 0.1309902309740614, -0.1680779563088314, -0.15494037135493838, 0.08286988750471332, 0.10424981021833672, 0.07953059460774776, 0.1486978645563044, 0.007058312343354433, -0.005134413702971016, -0.150169218715339, 0.010796333352608234, -0.045856361827416904, 0.012735804515789734, 0.1108134256339144, -0.20580878695715668], \"topics\": [1, 2, 3, 4, 5, 6, 7, 8, 9, 10, 11, 12, 13, 14, 15, 16, 17, 18, 19, 20], \"cluster\": [1, 1, 1, 1, 1, 1, 1, 1, 1, 1, 1, 1, 1, 1, 1, 1, 1, 1, 1, 1], \"Freq\": [5.621198903086079, 5.404072661496646, 5.17300483096222, 5.132125000855495, 5.050068477559614, 5.0499102681499775, 5.038129204808715, 5.028128745479244, 5.017373902376941, 4.961354770232601, 4.947165403782802, 4.946355277633939, 4.933430590936665, 4.924098111102314, 4.9108543886417975, 4.904815325323603, 4.803747495718555, 4.741923560370171, 4.725842381054926, 4.6864007004277]}, \"tinfo\": {\"Term\": [\"australia\", \"coronavirus\", \"australian\", \"woman\", \"interview\", \"government\", \"trump\", \"queensland\", \"year\", \"election\", \"court\", \"world\", \"say\", \"market\", \"report\", \"rural\", \"charged\", \"sydney\", \"home\", \"school\", \"news\", \"attack\", \"open\", \"south\", \"national\", \"case\", \"coast\", \"canberra\", \"crash\", \"family\", \"news\", \"face\", \"charge\", \"minister\", \"accused\", \"guilty\", \"assault\", \"league\", \"abuse\", \"premier\", \"teen\", \"alleged\", \"pacific\", \"mental\", \"pleads\", \"mental health\", \"drop\", \"bail\", \"nation\", \"france\", \"loses\", \"pleads guilty\", \"russian\", \"front\", \"alan\", \"miner\", \"veteran\", \"survey\", \"allegedly\", \"cash\", \"court\", \"child\", \"murder\", \"health\", \"trial\", \"action\", \"drug\", \"cancer\", \"former\", \"police\", \"interview\", \"south\", \"life\", \"talk\", \"centre\", \"resident\", \"jailed\", \"medium\", \"campaign\", \"hobart\", \"michael\", \"christmas\", \"start\", \"hit\", \"korea\", \"dollar\", \"continues\", \"launch\", \"race\", \"japan\", \"2015\", \"visit\", \"lawyer\", \"tell\", \"behind\", \"university\", \"extended interview\", \"north korea\", \"better\", \"blast\", \"north\", \"search\", \"high\", \"food\", \"back\", \"say\", \"australian\", \"world\", \"country\", \"state\", \"bill\", \"company\", \"rule\", \"chief\", \"mayor\", \"mark\", \"warns\", \"turnbull\", \"abbott\", \"stop\", \"announces\", \"rugby\", \"flight\", \"reject\", \"protester\", \"point\", \"wild\", \"wont\", \"round\", \"2014\", \"united\", \"authority\", \"data\", \"grant\", \"financial\", \"evidence\", \"change\", \"community\", \"beat\", \"claim\", \"say\", \"perth\", \"labor\", \"time\", \"work\", \"speaks\", \"jail\", \"station\", \"india\", \"head\", \"trade\", \"officer\", \"train\", \"girl\", \"safety\", \"wall\", \"turn\", \"truck\", \"offer\", \"sentenced\", \"finance\", \"defence\", \"month\", \"closure\", \"suicide\", \"wallaby\", \"shire\", \"swan\", \"fish\", \"bridge\", \"police officer\", \"driver\", \"brisbane\", \"ahead\", \"say\", \"police\", \"year\", \"canberra\", \"hospital\", \"win\", \"west\", \"hour\", \"concern\", \"group\", \"city\", \"country hour\", \"parliament\", \"andrew\", \"meet\", \"tour\", \"debate\", \"security\", \"wednesday\", \"newcastle\", \"festival\", \"extended\", \"zealand\", \"money\", \"building\", \"legal\", \"national rural\", \"another\", \"bushfires\", \"interest\", \"reform\", \"training\", \"rape\", \"rural\", \"budget\", \"decision\", \"indigenous\", \"protest\", \"victorian\", \"season\", \"sport\", \"program\", \"study\", \"story\", \"shark\", \"look\", \"housing\", \"research\", \"policy\", \"outback\", \"award\", \"tree\", \"property\", \"control\", \"plant\", \"development\", \"education\", \"animal\", \"wine\", \"early\", \"october\", \"slam\", \"carbon\", \"church\", \"alice\", \"response\", \"price\", \"public\", \"government\", \"attack\", \"case\", \"coast\", \"business\", \"gold\", \"deal\", \"tasmanian\", \"drum\", \"close\", \"four\", \"risk\", \"project\", \"gold coast\", \"east\", \"urge\", \"arrest\", \"grandstand\", \"youth\", \"expert\", \"stabbing\", \"syria\", \"fined\", \"tourist\", \"cause\", \"raid\", \"highway\", \"soldier\", \"safe\", \"footage\", \"road\", \"melbourne\", \"police\", \"school\", \"victoria\", \"take\", \"flood\", \"fall\", \"drought\", \"shooting\", \"port\", \"climate\", \"john\", \"regional\", \"hill\", \"need\", \"refugee\", \"spark\", \"target\", \"post\", \"discus\", \"boat\", \"good\", \"social\", \"meeting\", \"climate change\", \"online\", \"lake\", \"senate\", \"foreign\", \"broken\", \"waste\", \"focus\", \"farmer\", \"rain\", \"aussie\", \"million\", \"adelaide\", \"tasmania\", \"donald\", \"make\", \"federal\", \"darwin\", \"local\", \"street\", \"violence\", \"land\", \"friday\", \"emergency\", \"crime\", \"dairy\", \"thousand\", \"denies\", \"domestic\", \"rally\", \"clash\", \"injury\", \"best\", \"spring\", \"step\", \"full\", \"paul\", \"domestic violence\", \"hearing\", \"origin\", \"order\", \"pilot\", \"victim\", \"sale\", \"team\", \"council\", \"law\", \"anti\", \"market\", \"charged\", \"donald trump\", \"share\", \"week\", \"star\", \"hunter\", \"strike\", \"aboriginal\", \"defends\", \"seek\", \"investigation\", \"thursday\", \"march\", \"international\", \"asylum\", \"blue\", \"staff\", \"political\", \"patient\", \"seeker\", \"august\", \"territory\", \"asylum seeker\", \"dog\", \"comment\", \"toll\", \"collapse\", \"valley\", \"share market\", \"rise\", \"sydney\", \"death\", \"former\", \"fire\", \"election\", \"fight\", \"live\", \"game\", \"party\", \"cattle\", \"break\", \"challenge\", \"export\", \"airport\", \"2016\", \"despite\", \"rescue\", \"result\", \"hotel\", \"released\", \"damage\", \"promise\", \"marriage\", \"profit\", \"george\", \"accident\", \"third\", \"scott morrison\", \"wrap\", \"miss\", \"coalition\", \"2020\", \"teenager\", \"making\", \"first\", \"near\", \"record\", \"sydney\", \"coronavirus\", \"killed\", \"push\", \"president\", \"body\", \"doctor\", \"baby\", \"care\", \"border\", \"force\", \"threat\", \"question\", \"five\", \"mother\", \"issue\", \"aged\", \"leaf\", \"father\", \"july\", \"june\", \"facing\", \"killer\", \"major\", \"harvest\", \"expected\", \"across\", \"day\", \"latest\", \"indian\", \"kimberley\", \"found\", \"chinese\", \"house\", \"fire\", \"family\", \"show\", \"green\", \"find\", \"support\", \"vote\", \"young\", \"river\", \"town\", \"video\", \"murray\", \"cricket\", \"inquest\", \"release\", \"tiger\", \"white\", \"rail\", \"pakistan\", \"james\", \"system\", \"scheme\", \"mount\", \"name\", \"horse\", \"pressure\", \"bush\", \"testing\", \"judge\", \"space\", \"alcohol\", \"light\", \"call\", \"national\", \"covid\", \"dy\", \"could\", \"funding\", \"mine\", \"three\", \"review\", \"mining\", \"scott\", \"beach\", \"begin\", \"monday\", \"player\", \"england\", \"coach\", \"kid\", \"victory\", \"stand\", \"sexual\", \"leave\", \"bos\", \"king\", \"match\", \"september\", \"double\", \"investigate\", \"global\", \"named\", \"billion\", \"lead\", \"park\", \"queensland\", \"home\", \"return\", \"student\", \"rate\", \"northern\", \"cyclone\", \"restriction\", \"coal\", \"morrison\", \"number\", \"join\", \"delay\", \"fiji\", \"history\", \"central\", \"teacher\", \"long\", \"economy\", \"title\", \"candidate\", \"daniel\", \"remote\", \"nurse\", \"fine\", \"pandemic\", \"townsville\", \"recovery\", \"sell\", \"away\", \"worker\", \"bank\", \"water\", \"storm\", \"report\", \"missing\", \"service\", \"power\", \"fear\", \"still\", \"cut\", \"get\", \"cost\", \"free\", \"sign\", \"black\", \"hold\", \"prison\", \"right\", \"peter\", \"western\", \"demand\", \"russia\", \"great\", \"problem\", \"crop\", \"hunt\", \"reveals\", \"go\", \"human\", \"stolen\", \"southern\", \"like\", \"lockdown\", \"test\", \"dead\", \"people\", \"future\", \"arrested\", \"hope\", \"smith\", \"rural news\", \"increase\", \"parent\", \"come\", \"ready\", \"film\", \"ship\", \"economic\", \"lose\", \"capital\", \"kangaroo\", \"lost\", \"indonesian\", \"islamic\", \"chris\", \"drone\", \"2018\", \"winner\", \"philippine\", \"board\", \"football\", \"seat\", \"small\", \"year\", \"shot\", \"loss\", \"owner\", \"australia\", \"farm\", \"bushfire\", \"want\", \"leader\", \"royal\", \"warning\", \"liberal\", \"commission\", \"battle\", \"crisis\", \"told\", \"tourism\", \"indonesia\", \"update\", \"site\", \"royal commission\", \"track\", \"stay\", \"travel\", \"wind\", \"politics\", \"french\", \"april\", \"firefighter\", \"kohler\", \"investment\", \"role\", \"transport\", \"december\", \"move\", \"inquiry\", \"blaze\", \"say\", \"woman\", \"trump\", \"final\", \"appeal\", \"club\", \"opposition\", \"give\", \"keep\", \"tuesday\", \"play\", \"save\", \"grower\", \"grand\", \"impact\", \"last\", \"killing\", \"next\", \"line\", \"tony\", \"grain\", \"ash\", \"hand\", \"growth\", \"driving\", \"female\", \"photo\", \"illegal\", \"fishing\", \"grand final\", \"mackay\", \"help\", \"china\", \"sentence\", \"open\", \"weather\", \"island\", \"industry\", \"job\", \"second\", \"fatal\", \"david\", \"kill\", \"amid\", \"plane\", \"energy\", \"super\", \"military\", \"november\", \"iran\", \"link\", \"reach\", \"escape\", \"couple\", \"rescued\", \"contract\", \"caught\", \"region\", \"supply\", \"quarter\", \"sugar\", \"cairn\", \"surgery\", \"scandal\", \"union\", \"crash\", \"probe\", \"boost\", \"plan\", \"injured\", \"police\"], \"Freq\": [7515.0, 6641.0, 5839.0, 4868.0, 4743.0, 4261.0, 3997.0, 3875.0, 4506.0, 3617.0, 4172.0, 3566.0, 5964.0, 3460.0, 3232.0, 3664.0, 3147.0, 4317.0, 3092.0, 3079.0, 3149.0, 3009.0, 2930.0, 3054.0, 2863.0, 2881.0, 2880.0, 2802.0, 3614.0, 2745.0, 3148.2705556333044, 2586.0584279813334, 2282.9722149198215, 2244.518504747209, 2177.1584465205437, 1715.0992882005107, 1615.9919077543589, 1510.3736670487417, 1468.8423660089154, 1435.1514109426896, 1424.639899434549, 1419.6715030433463, 1261.6930568650537, 1081.5362647263355, 918.9762142027425, 918.5867289512652, 880.3752440831216, 822.5014490295671, 783.291715111311, 769.7261139358225, 769.5056997999465, 750.7296136605524, 745.827994456607, 744.3497122990914, 709.7547678607989, 661.0640769716395, 634.5144997252352, 630.5886115858498, 591.3092136296655, 588.887846512469, 3770.75270426852, 2830.751620350048, 2302.52248495746, 2173.9652072623767, 1712.9187735870892, 1126.5205871580047, 1547.8961631701557, 846.9685737840107, 802.6983667620334, 830.2606758943556, 4742.112240017751, 3053.2685805056108, 2219.567651284853, 1936.6230288299887, 1752.8585269030627, 1663.7757047440887, 1533.129450829918, 1453.5947703251861, 1389.4362574640033, 1293.289581251813, 1268.2744621535762, 1263.1797985752075, 1250.6629848930813, 1220.4448520895714, 1158.193155537931, 1136.028641761246, 1123.0308088895056, 1121.5001838855446, 1076.368657905316, 1070.4910842724378, 1044.6883941939996, 915.9577451998116, 877.7331989029427, 847.8635628925075, 839.832677264685, 818.8400812430094, 808.3066715278703, 756.4854277622161, 755.3988446521643, 724.507640583248, 2177.034311103395, 1432.6112926653666, 1496.632109922059, 1116.8707115878578, 1196.64962899644, 911.8811803818568, 5838.926527469845, 3565.7941474753034, 2707.2246472377556, 2511.355018744125, 1529.956112464091, 1293.8599169279128, 1273.5928265091927, 1232.4238337392906, 1213.8343893701, 1210.788176305949, 1156.6669762395602, 1154.3989586499106, 1112.1853630276883, 1064.0579157346729, 1045.958271024591, 996.9771903575562, 973.1676296670029, 959.8292494018086, 940.9807576324121, 935.0428189354913, 896.048348303013, 838.41475311869, 802.9562649515005, 793.1837493758487, 792.2392077875131, 771.335122312702, 749.5450851054181, 703.4412934276024, 685.4074521617767, 662.2579246371995, 2624.3160109533037, 1697.9130040911098, 1272.0114765293445, 1559.0150457766854, 1080.3682397735427, 2388.5935763794064, 2170.28070095208, 2153.1212619844437, 1911.0735419760986, 1681.100988258978, 1526.7456799571557, 1469.0970529581598, 1415.5150256378736, 1407.1910926600426, 1331.5442451447361, 1322.3299403875644, 1315.1489733360945, 1225.6473531905156, 1203.717049710297, 1152.431406950502, 1069.5241098218419, 1051.3821311633776, 1041.9799730964603, 1038.4555290837566, 971.6659836131204, 971.1052796486644, 889.5807519433067, 858.3450702580349, 811.8398320078227, 764.6919825028907, 744.5649140149629, 719.454597368447, 717.0420889388521, 710.8901248819678, 697.4311222577628, 1684.549318965241, 1880.9715298535511, 1201.6558530399132, 3077.8947990790875, 1906.0320383717826, 1014.239384359644, 2801.701612038882, 2586.9076464753666, 2126.461290394221, 2043.841808658203, 1924.9901306503934, 1842.3044039733168, 1676.5894531025192, 1528.7826384341317, 1463.1650511071452, 1310.1395883698485, 1251.2378951592082, 1245.5750921342512, 1218.0824380408749, 1151.4677661724593, 1122.1061615407793, 1098.9709680409144, 1091.3584954045702, 1091.2964423615442, 1065.2893794270674, 1002.1636670682026, 977.8536201478944, 961.4913387684171, 948.8854532812447, 909.2615054154719, 842.230377672434, 820.3953395977948, 797.556685356842, 789.4458694090685, 772.0073702031038, 762.6466845189916, 3202.0481025743456, 1674.2093212917994, 999.2990220358743, 2115.031843476843, 1834.6124614043247, 1668.415896658736, 1648.910486356591, 1605.7363877106532, 1342.2289721295895, 1269.065237029571, 1268.366883366518, 1257.7084384426882, 1213.2455128412996, 1213.2163492495815, 1119.4630912679556, 1084.37455726101, 1081.0414383838802, 1040.581209125193, 952.8669762411213, 926.4747022981624, 865.0880383881772, 861.2656918071934, 849.5822193020496, 844.6873629288973, 833.6482693916324, 794.9440762578874, 782.3924382402137, 767.1286290529147, 764.9774541989432, 756.4182399535563, 728.9202195266815, 711.8844499528485, 696.6416267210182, 1850.881964843779, 1418.7822768366102, 4260.690750192189, 3008.210782128043, 2880.12828606972, 2879.6341490026166, 2662.7053362657634, 2129.2980172448642, 1990.3107909688656, 1902.0734385308472, 1790.6249516246621, 1531.6885593426186, 1458.4808585747815, 1394.8359831282928, 1310.7561289340167, 1288.9399040689743, 1222.9387131923643, 1162.4456060786886, 1148.9970277469856, 1144.0855138661293, 1058.3665755780032, 1012.9007070618089, 986.4570126068509, 883.7166145716728, 847.0237824641738, 838.2123295020946, 833.6359104643429, 797.6826770297804, 781.1957055648229, 766.2126983874397, 721.2219444085829, 700.4945281346456, 1844.6198160878018, 2442.0748154819357, 1134.1691255848618, 3078.930400792467, 2748.0321024998434, 2705.360853928095, 1827.2855321402378, 1662.3906838238104, 1658.8103806424854, 1607.6708508868119, 1571.773988431383, 1529.504154190099, 1494.9210335210507, 1494.0466378358035, 1395.5439301622189, 1372.3377641887957, 1074.316947018002, 1024.0447729857503, 1021.3830401163732, 998.6308833124925, 996.20081317301, 975.935140883087, 973.9675779049453, 938.90262502516, 918.0740800472287, 902.7694062227005, 897.1603605327629, 893.4440120569583, 875.344253806237, 857.4089288067139, 756.6001150000696, 742.6452313278611, 677.2970637773473, 2561.7610778379635, 1189.7562227480375, 1091.715929929555, 1155.3262248488877, 2710.0368991815094, 2466.2951139268243, 2179.3132930325455, 2025.7773982666843, 1834.7465548408977, 1660.9392377928766, 1475.6603799784375, 1463.172441180887, 1421.1162356685988, 1376.2833143270911, 1228.1159915524524, 1161.879880658555, 1119.4789785953149, 1102.1746070113286, 974.5853063493417, 948.853246649533, 926.0926303463511, 915.0660976365239, 896.4267270630539, 867.9620493733362, 863.4454120351166, 818.2198572262109, 796.752844974819, 747.9857931301614, 742.8802003919975, 738.7568090851731, 677.0571225859258, 669.3698286305225, 668.0891368675528, 656.7578105292589, 1461.8592642761532, 1198.040712918723, 960.789930185359, 1712.0894991850892, 977.3444541792343, 810.3445834729895, 3459.6595591405107, 3146.866532891205, 2148.3396943208622, 1726.6376084333965, 1478.7975811127276, 1386.7761500201348, 1336.1517403183457, 1322.5000622688601, 1226.8401388580164, 1208.9674723239577, 1202.1480758170303, 1189.7138177084116, 1104.4391201630474, 1076.1786778570563, 1062.1603294488343, 1053.8349503876223, 1050.456942075276, 952.0871240980628, 947.7699888651792, 912.4964395256756, 857.2445880018195, 851.9475566696926, 840.9912988688726, 817.0398421392629, 763.6550142928309, 738.6476323077075, 725.9141269253947, 721.3231329266519, 706.7603340207144, 656.6958169485267, 1898.9728853778633, 2996.8515886904797, 1996.2402608347838, 1277.4257449888416, 1753.6730356275887, 3616.2891296219555, 1900.8302560022616, 1888.8749018038905, 1626.6464443944778, 1445.3374301174522, 1319.4205294606884, 1206.3821452886486, 1131.800753894113, 1022.8544547633369, 1001.6409754280714, 992.1925924511158, 983.6499147197102, 947.017868985832, 931.1460627041953, 900.1902535473156, 885.1596042480676, 853.2075368929894, 801.2175422922165, 785.8598107765043, 777.5483876188732, 772.980257848014, 772.3721515693583, 763.5304298887608, 763.1305042807187, 754.7538959725738, 713.2027073947282, 712.7492744933293, 709.9163756858761, 688.7113348747736, 673.0113919871526, 2223.3558837525934, 1055.1727643758543, 1413.9317229891742, 790.1842137871129, 6640.636231767475, 1940.7260521776004, 1558.7012455818588, 1394.258795917466, 1381.996393284313, 1352.7075314453853, 1319.7973739866084, 1269.3836454439743, 1248.240722941307, 1246.3456305055522, 1237.153048053193, 1208.0591483247615, 1105.9112941273124, 1075.9201600050724, 998.4051281214015, 934.7560228915817, 834.5994825079372, 808.8273927992421, 798.8735468858497, 786.0476096595016, 749.0834660609827, 739.2238657031252, 729.7921479300688, 715.3244062316182, 713.2948445545555, 702.8576974477785, 690.4830135702066, 658.368108255966, 657.9133202948386, 630.4540871794733, 2084.9405784449573, 1174.437028076945, 1480.814015964707, 694.091294907768, 2744.5972616751446, 2458.1131955906603, 1945.6044673000442, 1814.1560476239508, 1769.3214577082335, 1507.81408521199, 1475.805707807951, 1400.6333978788466, 1330.62071193075, 1166.3565945776986, 1125.624653990033, 1125.360504276095, 1074.7903979287796, 1072.7853789054877, 1053.189277561594, 1047.940978083799, 1045.4813558863543, 959.7588258879164, 939.5345533586565, 937.6310699671833, 915.0855526527716, 892.7027441102407, 869.8451731992327, 829.3048424596609, 828.0204731572985, 781.4636065372914, 705.8918375925168, 639.5709728062258, 635.5714964746344, 631.9673027942234, 958.1174828118646, 1888.356591474841, 2863.0441246856835, 2590.7297896377795, 2498.3277490152054, 2340.3551555795502, 1927.8581471087339, 1805.9626583573443, 1647.7239446508302, 1632.0621650673872, 1407.698956420964, 1348.8326176643363, 1238.4788113829732, 1165.2078653628362, 1125.3505080557247, 1084.9120923368862, 1024.9922643136383, 951.034522450554, 933.9437688372831, 924.1204842388627, 894.931976411683, 870.3312174038966, 855.4709327948416, 840.4907062836483, 810.9669628132517, 797.5412850664067, 795.1293955438526, 776.2710839178413, 774.7685515843245, 769.9221173754996, 753.5942087941252, 738.7288554458115, 1358.0647344068832, 934.48657890562, 3874.280492279513, 3091.4595601590113, 1950.3648185805507, 1923.4847824343628, 1791.1314368146154, 1243.7210702765558, 1164.354714856039, 1158.8484396196022, 1148.751148249607, 1098.4198417344587, 1096.0295665944814, 1072.451048136346, 1058.5646271348194, 1035.2427908607679, 1027.2253418015728, 1012.9485404990877, 967.4597621579774, 964.0661299008564, 843.5274487864423, 842.8938394340299, 829.963040843075, 739.7962866145891, 701.6087835125369, 691.3771100210203, 689.628111894929, 671.766714653656, 670.7970654669873, 647.5166821307189, 646.9208127128527, 628.1663623405394, 1647.7356245760773, 1184.5158474847985, 1724.4165367559142, 1122.6132559073856, 3231.102998399147, 2187.964777481388, 2146.3601108687876, 2103.839844120219, 2007.9084962275665, 1649.001600861168, 1484.921000130545, 1426.7925610264745, 1352.4223777651148, 1328.9940919360704, 1296.4606230654406, 1283.2603380835747, 1278.6227403167659, 1252.2550021815923, 1247.1864575582674, 1241.5930123391518, 1227.2975710455235, 1154.4705897601075, 1038.2064428133626, 986.3095133201355, 928.1585894396003, 895.7649516189057, 887.0125966073847, 858.1802872839017, 808.6492913060326, 806.2607587929456, 786.009692934913, 781.4915090296222, 779.6005324284961, 779.5247096089363, 2276.509372077647, 2051.8014099147576, 2011.7663872669375, 1647.1207843915138, 1563.9743532482285, 1545.728898145882, 978.3792564768235, 975.8989096342628, 917.8446084332846, 911.0582793003955, 841.840496694173, 838.0352975577146, 761.4356920243622, 761.3474663062267, 747.4223083477111, 734.6948855290643, 711.9587528943409, 704.2349683318271, 694.9700399323216, 691.4121356044976, 658.447327379433, 645.3408442371083, 642.92466509524, 642.049303697276, 637.6814339357577, 633.7218530375019, 630.6060723534096, 627.3198489994405, 609.9978395302319, 597.6249219514976, 3491.002972645079, 894.9001454559831, 901.4245556590664, 632.2038077661517, 7514.655158787708, 1825.4167927267715, 1795.2691278615769, 1719.590057159375, 1672.284696806767, 1666.9734346517303, 1641.6942597072182, 1459.8793575163634, 1429.7956586497255, 1185.082162240538, 1176.4126581584217, 1139.9667437581074, 1132.1364312537244, 1131.7318791344405, 1084.7635718595984, 1020.6758318794681, 985.4961102139079, 937.9754877759051, 911.6985313915476, 849.4431302949675, 831.9826139772656, 811.2749083387502, 791.1406683693813, 779.492343246814, 741.6033156342868, 703.8206067645591, 678.0266815869537, 626.5106820262804, 620.7624245015872, 608.4737453350284, 1211.639246917354, 1266.0566052587135, 662.8518967283511, 893.2365976261302, 4867.535476522314, 3996.639646821451, 2394.2627281053037, 1416.8481873930075, 1214.7211544425236, 1202.8246247639179, 1175.8933001173782, 1169.5823551927986, 1137.9635355446674, 1132.1341270285454, 946.8592655818165, 908.1803182276208, 892.9581724556446, 886.7158991497641, 881.4280154774299, 858.6966551073476, 855.6620635151007, 854.8583222645551, 794.5871541532427, 784.4443094802939, 768.9846614056314, 741.0397417361432, 700.8345204048288, 676.0084638440273, 644.2968971592763, 634.8817360094057, 619.9904576904668, 609.6424794771915, 605.6605536084795, 571.9952296237971, 1574.627643313959, 1846.7696658928478, 690.6115201677383, 2929.7852972134183, 2190.13948316129, 2170.171637411529, 2000.9309049670724, 1687.3625005240497, 1640.4501207842472, 1410.4103858096316, 1406.2396564666876, 1364.0370542530009, 1293.7390868933253, 1186.8001621902342, 1163.5970309792854, 1141.4326608815156, 843.691648336686, 826.405678032985, 795.3780159743976, 791.8138395942077, 791.4005123088837, 784.4814451542289, 759.6631850091952, 723.3124503905624, 704.005545288526, 689.1466364702577, 675.8609441080275, 665.316070482415, 654.339004420054, 625.9815931100629, 606.775017711713, 584.4277384200055, 580.8813562717497, 1370.1065850576106, 2625.446275426386, 1153.2551969756519, 1260.2867363389903, 1859.189768740289, 827.4363988026726, 871.3345026478659], \"Total\": [7515.0, 6641.0, 5839.0, 4868.0, 4743.0, 4261.0, 3997.0, 3875.0, 4506.0, 3617.0, 4172.0, 3566.0, 5964.0, 3460.0, 3232.0, 3664.0, 3147.0, 4317.0, 3092.0, 3079.0, 3149.0, 3009.0, 2930.0, 3054.0, 2863.0, 2881.0, 2880.0, 2802.0, 3614.0, 2745.0, 3149.181105133219, 2586.9689774691556, 2283.8827643981763, 2245.4290542384706, 2178.0689960002273, 1716.0098376733517, 1616.9024572351764, 1511.284216537038, 1469.752915488375, 1436.0619604290719, 1425.5504489156688, 1420.582052524133, 1262.603606351402, 1082.4468142002615, 919.8867636758362, 919.4972784229111, 881.2857935673495, 823.4119985033095, 784.2022645963019, 770.6366634228915, 770.4162492812576, 751.6401631313443, 746.7385439400521, 745.2602617749208, 710.6653173387027, 661.9746264491974, 635.4250492049364, 631.4991610638396, 592.2197631114475, 589.7983959929858, 4172.221449117567, 3204.176955310042, 3084.7093951647844, 2965.536700036968, 2275.5258982710425, 1332.5474334461917, 2192.2269681319176, 1064.9904734706936, 2080.9860055424415, 7387.554814992644, 4743.023277696426, 3054.1796181989885, 2220.4786889736283, 1937.534066507952, 1753.7695645835613, 1664.686742428711, 1534.0404885101848, 1454.5058080070155, 1390.3472951415326, 1294.2006189316305, 1269.1854998306426, 1264.090836253291, 1251.5740225717993, 1221.355889766737, 1159.1041932042485, 1136.9396794349677, 1123.9418465661518, 1122.4112215631915, 1077.2796955823326, 1071.402121946306, 1045.5994318846813, 916.8687828742708, 878.6442365829021, 848.7746005703746, 840.743714942994, 819.7511189195111, 809.2177091954102, 757.3964654277736, 756.3098823265941, 725.4186782555732, 2592.322505499043, 1658.0678196023764, 1951.5290946687326, 1418.5744028231918, 3305.599606508079, 5964.146703754143, 5839.836210733868, 3566.7038307206117, 2708.1343304782968, 2512.2647019928577, 1530.8657957037396, 1294.7696001641118, 1274.502509746002, 1233.3335169769005, 1214.7440726046561, 1211.6978595432076, 1157.5766594749325, 1155.3086418822554, 1113.0950462579233, 1064.967598969775, 1046.867954257977, 997.8868735907982, 974.0773129034628, 960.7389326317863, 941.8904408676556, 935.9525021701347, 896.9580315366836, 839.324436351627, 803.8659481840609, 794.0934326106861, 793.1488910189504, 772.244805546312, 750.4547683418, 704.3509766612824, 686.3171353962168, 663.1676078765024, 3038.2413456447703, 2083.33179965698, 1505.765586121795, 2226.3011643430573, 5964.146703754143, 2389.5029522825416, 2171.1900768518763, 2154.0306378812365, 1911.9829178708837, 1682.0103641521687, 1527.6550558467259, 1470.0064288499898, 1416.4244015291051, 1408.1004685518988, 1332.4536210407032, 1323.2393162754504, 1316.0583492251967, 1226.5567290837607, 1204.626425600293, 1153.3407828416646, 1070.4334857128856, 1052.2915070500856, 1042.8893489853933, 1039.3649049721528, 972.5753595129387, 972.0146555398421, 890.490127833987, 859.2544461502819, 812.7492078985618, 765.601358391326, 745.4742899037575, 720.3639732564737, 717.9514648277072, 711.7995007694539, 698.3404981397263, 1933.2879421579132, 2291.304325073619, 1393.7502293998405, 5964.146703754143, 7387.554814992644, 4506.103946795675, 2802.611781962358, 2587.8178163971234, 2127.3714603138533, 2044.7519785809045, 1925.9003005573509, 1843.2145738877862, 1677.4996230189772, 1529.6928083485586, 1464.075221010851, 1311.0497582830437, 1252.1480650797228, 1246.485262048794, 1218.992607950956, 1152.3779360842868, 1123.0163314538615, 1099.8811379506703, 1092.2686653179578, 1092.2066122776182, 1066.199549339336, 1003.073836985978, 978.7637900587068, 962.4015086807564, 949.7956231983028, 910.1716753176906, 843.1405475840404, 821.3055095114357, 798.4668552655601, 790.3560393195456, 772.9175401131986, 763.5568544352216, 3664.0903314657767, 2123.2436740943936, 1152.0407527743364, 2115.9420837430193, 1835.5227016729132, 1669.3261369304357, 1649.820726618452, 1606.6466279669366, 1343.1392123940882, 1269.975477289925, 1269.277123624182, 1258.618678702037, 1214.1557531016251, 1214.126589507474, 1120.3733315253933, 1085.2847975220095, 1081.9516786437327, 1041.4914493832355, 953.7772165008815, 927.3849425569331, 865.9982786461969, 862.1759320652322, 850.4924595587788, 845.5976031858049, 834.5585096503469, 795.8543165122453, 783.3026784985859, 768.0388693168435, 765.8876944584591, 757.3284802069301, 729.8304597859772, 712.7946902150953, 697.5518669806737, 2198.354237071114, 1660.8286038184908, 4261.599846556222, 3009.1198784828684, 2881.0373824348785, 2880.543245348825, 2663.6144326167687, 2130.207113586799, 1991.2198873205439, 1902.9825348850459, 1791.5340479756692, 1532.5976556916514, 1459.389954924722, 1395.7450794766771, 1311.6652252794622, 1289.849000404883, 1223.8478095359796, 1163.354702423659, 1149.9061240894346, 1144.9946102118524, 1059.2756719265403, 1013.8098034072478, 987.3661089504765, 884.6257109160529, 847.9328788083576, 839.1214258453106, 834.545006809679, 798.5917733702861, 782.1048019052793, 767.1217947292092, 722.1310407511091, 701.403624477948, 2119.553363013278, 3418.2082395730044, 7387.554814992644, 3079.839949695098, 2748.9416514113573, 2706.2704028287, 1828.1950810315834, 1663.3002327192196, 1659.719929530227, 1608.5803997841085, 1572.6835373284468, 1530.4137030772756, 1495.8305824180547, 1494.9561867291877, 1396.4534790561097, 1373.2473130827095, 1075.2264959130785, 1024.9543218768088, 1022.292589006813, 999.5404322069296, 997.1103620633015, 976.8446897780101, 974.8771267941488, 939.8121739136164, 918.9836289361685, 903.678955105634, 898.0699094233615, 894.3535609476897, 876.2538026978154, 858.3184776992524, 757.5096638843198, 743.5547802160569, 678.2066126642284, 2801.4300839157245, 1484.2817933218653, 1340.1255248654518, 1593.5507978201576, 2710.94685148354, 2467.2050662248334, 2180.2232453447477, 2026.687350561704, 1835.656507132875, 1661.8491900861982, 1476.570332268286, 1464.0823934784885, 1422.026187953619, 1377.1932666153184, 1229.0259438473247, 1162.789832949147, 1120.388930884051, 1103.0845592971007, 975.4952586381787, 949.7631989361292, 927.0025826260738, 915.976049923336, 897.3366793482425, 868.8720016597997, 864.3553643228914, 819.1298095087749, 797.6627972591156, 748.895745416481, 743.7901526804079, 739.6667613628815, 677.9670748741405, 670.279780912589, 668.9990891531769, 657.6677628169468, 1792.3400002732214, 1499.0405268435188, 1196.5526855012351, 3308.5401751387662, 1342.9955555614356, 1048.287875676449, 3460.5684158196627, 3147.775389566603, 2149.248551019748, 1727.5464651026932, 1479.7064377853787, 1387.685006694406, 1337.0605969902265, 1323.408918940203, 1227.7489955333062, 1209.876328995072, 1203.0569324888118, 1190.6226743804523, 1105.3479768293485, 1077.0875345297402, 1063.0691861202745, 1054.743807051817, 1051.365798746803, 952.995980770694, 948.6788455364207, 913.405296200621, 858.1534446643864, 852.8564133388958, 841.9001555448385, 817.9486988015142, 764.5638709624143, 739.5564889799499, 726.8229835912188, 722.2319895976248, 707.6691906897055, 657.6046736108362, 2200.081808063847, 4317.613202887042, 4021.5576185104937, 2080.9860055424415, 4498.226314897755, 3617.2004643368678, 1901.741590713034, 1889.7862365171377, 1627.5577791042017, 1446.2487648257522, 1320.3318641626781, 1207.2934799929797, 1132.7120885981903, 1023.7657894635137, 1002.5523101329684, 993.1039271600888, 984.5612494285748, 947.9292036901713, 932.057397405915, 901.1015882588463, 886.0709389536055, 854.1188715976926, 802.1288769941666, 786.7711454792992, 778.4597223203281, 773.8915925615389, 773.2834862717256, 764.4417645950147, 764.0418390024754, 755.6652306742997, 714.1140420961998, 713.6606091951759, 710.8277103977772, 689.6226695812613, 673.9227266928169, 2725.882388296426, 1283.1853430341318, 2257.6867402678236, 4317.613202887042, 6641.547806122691, 1941.6376265000647, 1559.612819904621, 1395.1703702411717, 1382.9079676039298, 1353.6191057665471, 1320.7089483088334, 1270.295219760699, 1249.1522972608627, 1247.2572048250233, 1238.064622374136, 1208.9707226455996, 1106.822868449396, 1076.8317343266556, 999.3167024437754, 935.6675972040939, 835.5110568290088, 809.73896711829, 799.7851212109749, 786.9591839836322, 749.9950403819794, 740.1354400236861, 730.7037222496965, 716.2359805477741, 714.2064188732105, 703.7692717681209, 691.3945878894059, 659.2796825746417, 658.8248946130806, 631.3656614973364, 2627.8693504343855, 1409.7435025404523, 2286.0298184883723, 4498.226314897755, 2745.505532151108, 2459.0214660657125, 1946.5127377694744, 1815.0643180962, 1770.2297281804936, 1508.7223556824324, 1476.713978274181, 1401.5416683508906, 1331.5289824023205, 1167.2648650469462, 1126.5329244540956, 1126.2687747457062, 1075.6986683972161, 1073.6936493735288, 1054.097548026681, 1048.8492485516736, 1046.3896263512215, 960.6670963527803, 940.4428238264151, 938.5393404367861, 915.9938231225224, 893.6110145803235, 870.7534436639944, 830.2131129255021, 828.928743622007, 782.3718770024799, 706.8001080606285, 640.4792432723626, 636.4797669392954, 632.8755732593883, 1130.9151048404856, 4339.222919199465, 2863.9550746514956, 2591.6407396275317, 2499.23869898104, 2341.266105551338, 1928.7690970715337, 1806.8736083203105, 1648.6348946166938, 1632.9731150275054, 1408.609906379637, 1349.7435676288828, 1239.3897613470108, 1166.1188153213557, 1126.2614580119175, 1085.8230422959066, 1025.9032142703, 951.9454724076253, 934.8547187961647, 925.0314341933783, 895.8429263662572, 871.2421673642546, 856.3818827547362, 841.4016562415416, 811.877912768779, 798.4522350214594, 796.0403455009223, 777.1820338753828, 775.6795015351449, 770.8330673319757, 754.5051587489866, 739.6398054057362, 1611.0602571996465, 1608.5662302863404, 3875.191482795807, 3092.3705506667916, 1951.275809080169, 1924.395772933803, 1792.0424273153817, 1244.6320607735936, 1165.2657053520577, 1159.7594301178956, 1149.6621387453933, 1099.3308322447936, 1096.9405570913498, 1073.362038634454, 1059.4756176330109, 1036.1537813574323, 1028.1363322986208, 1013.8595309972342, 968.3707526536512, 964.9771203981378, 844.4384392814695, 843.8048299303158, 830.8740313407114, 740.7072771171548, 702.5197740089067, 692.2881005175103, 690.5391023912275, 672.6777051540568, 671.7080559633634, 648.4276726253032, 647.8318032076933, 629.0773528388609, 2173.7429825037098, 1439.658397658824, 2815.4472899972347, 1598.7751210911113, 3232.011038796926, 2188.872817879339, 2147.2681512646554, 2104.7478845161295, 2008.8165366212713, 1649.9096412538142, 1485.829040520946, 1427.7006014198425, 1353.3304181550886, 1329.9021323267955, 1297.3686634549208, 1284.1683784769637, 1279.5307807075503, 1253.163042573235, 1248.0944979469004, 1242.5010527324223, 1228.2056114366521, 1155.3786301486525, 1039.1144832044693, 987.2175537154681, 929.0666298279323, 896.6729920063311, 887.9206369933593, 859.0883276734723, 809.5573316953516, 807.1687991790677, 786.9177333231542, 782.3995494183154, 780.5085728185355, 780.4327499998432, 2277.4190983435396, 2052.7111361748944, 2012.6761135326678, 1648.0305106488531, 1564.8840795072358, 1546.6386244053629, 979.288982729343, 976.8086358889271, 918.7543346902611, 911.9680055571688, 842.7502229471783, 838.9450238099142, 762.345418276545, 762.2571925604122, 748.332034601186, 735.604611783566, 712.8684791444703, 705.144694586761, 695.8797661866741, 692.3218618576417, 659.3570536292599, 646.2505704916488, 643.8343913511354, 642.95902995831, 638.5911601902441, 634.6315792902334, 631.5157986063781, 628.2295752530212, 610.9075657833582, 598.5346482026096, 4506.103946795675, 1126.6939357903113, 1147.1881753713471, 876.5713476540132, 7515.563485997996, 1826.3251199078961, 1796.17745504416, 1720.498384340875, 1673.1930239886187, 1667.88176183172, 1642.6025868908246, 1460.787684699468, 1430.7039858278363, 1185.9904894201516, 1177.3209853394737, 1140.8750709365734, 1133.0447584335843, 1132.6402063157711, 1085.6718990401812, 1021.5841590614845, 986.4044373862058, 938.8838149550882, 912.6068585691877, 850.3514574758598, 832.8909411541613, 812.1832355169141, 792.0489955492801, 780.4006704293237, 742.5116428106609, 704.7289339499539, 678.9350087640364, 627.4190092054241, 621.6707516780621, 609.3820725179571, 1457.8849523122383, 1602.218838885964, 883.5267951526836, 5964.146703754143, 4868.445212853648, 3997.5493831565664, 2395.1724644149613, 1417.7579237013633, 1215.630890753869, 1203.7343610717837, 1176.8030364256883, 1170.4920915016658, 1138.873271848011, 1133.0438633360466, 947.7690018904808, 909.0900545346695, 893.8679087620064, 887.6256354601544, 882.3377517860342, 859.6063914180555, 856.5717998270793, 855.7680585706211, 795.4968904662944, 785.354045784249, 769.8943977108387, 741.9494780438722, 701.7442567116557, 676.9182001547837, 645.206633468149, 635.7914723179211, 620.9001939971263, 610.5522157821639, 606.5702899081808, 572.9049659310805, 2327.4346583621923, 3411.969076349645, 813.0531569377277, 2930.6905715618327, 2191.0447574989726, 2171.076911758785, 2001.83617931001, 1688.2677748620733, 1641.355395129247, 1411.3156601447702, 1407.1449308062267, 1364.9423285937853, 1294.6443612420846, 1187.7054365255103, 1164.5023053155837, 1142.337935223038, 844.5969226748919, 827.3109523744108, 796.2832903126949, 792.7191139338404, 792.3057866473072, 785.3867194911894, 760.5684593470402, 724.2177247255071, 704.9108196234839, 690.0519108080928, 676.7662184442576, 666.2213448165801, 655.2442787512995, 626.8868674439364, 607.6802920493701, 585.3330127566173, 581.7866306085002, 1586.9614578827104, 3614.906130803829, 1346.8880651671464, 1593.4576711101197, 3523.767420867378, 1256.4789597977249, 7387.554814992644], \"Category\": [\"Default\", \"Default\", \"Default\", \"Default\", \"Default\", \"Default\", \"Default\", \"Default\", \"Default\", \"Default\", \"Default\", \"Default\", \"Default\", \"Default\", \"Default\", \"Default\", \"Default\", \"Default\", \"Default\", \"Default\", \"Default\", \"Default\", \"Default\", \"Default\", \"Default\", \"Default\", \"Default\", \"Default\", \"Default\", \"Default\", \"Topic1\", \"Topic1\", \"Topic1\", \"Topic1\", \"Topic1\", \"Topic1\", \"Topic1\", \"Topic1\", \"Topic1\", \"Topic1\", \"Topic1\", \"Topic1\", \"Topic1\", \"Topic1\", \"Topic1\", \"Topic1\", \"Topic1\", \"Topic1\", \"Topic1\", \"Topic1\", \"Topic1\", \"Topic1\", \"Topic1\", \"Topic1\", \"Topic1\", \"Topic1\", \"Topic1\", \"Topic1\", \"Topic1\", \"Topic1\", \"Topic1\", \"Topic1\", \"Topic1\", \"Topic1\", \"Topic1\", \"Topic1\", \"Topic1\", \"Topic1\", \"Topic1\", \"Topic1\", \"Topic2\", \"Topic2\", \"Topic2\", \"Topic2\", \"Topic2\", \"Topic2\", \"Topic2\", \"Topic2\", \"Topic2\", \"Topic2\", \"Topic2\", \"Topic2\", \"Topic2\", \"Topic2\", \"Topic2\", \"Topic2\", \"Topic2\", \"Topic2\", \"Topic2\", \"Topic2\", \"Topic2\", \"Topic2\", \"Topic2\", \"Topic2\", \"Topic2\", \"Topic2\", \"Topic2\", \"Topic2\", \"Topic2\", \"Topic2\", \"Topic2\", \"Topic2\", \"Topic2\", \"Topic2\", \"Topic2\", \"Topic2\", \"Topic3\", \"Topic3\", \"Topic3\", \"Topic3\", \"Topic3\", \"Topic3\", \"Topic3\", \"Topic3\", \"Topic3\", \"Topic3\", \"Topic3\", \"Topic3\", \"Topic3\", \"Topic3\", \"Topic3\", \"Topic3\", \"Topic3\", \"Topic3\", \"Topic3\", \"Topic3\", \"Topic3\", \"Topic3\", \"Topic3\", \"Topic3\", \"Topic3\", \"Topic3\", \"Topic3\", \"Topic3\", \"Topic3\", \"Topic3\", \"Topic3\", \"Topic3\", \"Topic3\", \"Topic3\", \"Topic3\", \"Topic4\", \"Topic4\", \"Topic4\", \"Topic4\", \"Topic4\", \"Topic4\", \"Topic4\", \"Topic4\", \"Topic4\", \"Topic4\", \"Topic4\", \"Topic4\", \"Topic4\", \"Topic4\", \"Topic4\", \"Topic4\", \"Topic4\", \"Topic4\", \"Topic4\", \"Topic4\", \"Topic4\", \"Topic4\", \"Topic4\", \"Topic4\", \"Topic4\", \"Topic4\", \"Topic4\", \"Topic4\", \"Topic4\", \"Topic4\", \"Topic4\", \"Topic4\", \"Topic4\", \"Topic4\", \"Topic4\", \"Topic4\", \"Topic5\", \"Topic5\", \"Topic5\", \"Topic5\", \"Topic5\", \"Topic5\", \"Topic5\", \"Topic5\", \"Topic5\", \"Topic5\", \"Topic5\", \"Topic5\", \"Topic5\", \"Topic5\", \"Topic5\", \"Topic5\", \"Topic5\", \"Topic5\", \"Topic5\", \"Topic5\", \"Topic5\", \"Topic5\", \"Topic5\", \"Topic5\", \"Topic5\", \"Topic5\", \"Topic5\", \"Topic5\", \"Topic5\", \"Topic5\", \"Topic5\", \"Topic5\", \"Topic5\", \"Topic6\", \"Topic6\", \"Topic6\", \"Topic6\", \"Topic6\", \"Topic6\", \"Topic6\", \"Topic6\", \"Topic6\", \"Topic6\", \"Topic6\", \"Topic6\", \"Topic6\", \"Topic6\", \"Topic6\", \"Topic6\", \"Topic6\", \"Topic6\", \"Topic6\", \"Topic6\", \"Topic6\", \"Topic6\", \"Topic6\", \"Topic6\", \"Topic6\", \"Topic6\", \"Topic6\", \"Topic6\", \"Topic6\", \"Topic6\", \"Topic6\", \"Topic6\", \"Topic7\", \"Topic7\", \"Topic7\", \"Topic7\", \"Topic7\", \"Topic7\", \"Topic7\", \"Topic7\", \"Topic7\", \"Topic7\", \"Topic7\", \"Topic7\", \"Topic7\", \"Topic7\", \"Topic7\", \"Topic7\", \"Topic7\", \"Topic7\", \"Topic7\", \"Topic7\", \"Topic7\", \"Topic7\", \"Topic7\", \"Topic7\", \"Topic7\", \"Topic7\", \"Topic7\", \"Topic7\", \"Topic7\", \"Topic7\", \"Topic7\", \"Topic7\", \"Topic7\", \"Topic8\", \"Topic8\", \"Topic8\", \"Topic8\", \"Topic8\", \"Topic8\", \"Topic8\", \"Topic8\", \"Topic8\", \"Topic8\", \"Topic8\", \"Topic8\", \"Topic8\", \"Topic8\", \"Topic8\", \"Topic8\", \"Topic8\", \"Topic8\", \"Topic8\", \"Topic8\", \"Topic8\", \"Topic8\", \"Topic8\", \"Topic8\", \"Topic8\", \"Topic8\", \"Topic8\", \"Topic8\", \"Topic8\", \"Topic8\", \"Topic8\", \"Topic8\", \"Topic8\", \"Topic8\", \"Topic9\", \"Topic9\", \"Topic9\", \"Topic9\", \"Topic9\", \"Topic9\", \"Topic9\", \"Topic9\", \"Topic9\", \"Topic9\", \"Topic9\", \"Topic9\", \"Topic9\", \"Topic9\", \"Topic9\", \"Topic9\", \"Topic9\", \"Topic9\", \"Topic9\", \"Topic9\", \"Topic9\", \"Topic9\", \"Topic9\", \"Topic9\", \"Topic9\", \"Topic9\", \"Topic9\", \"Topic9\", \"Topic9\", \"Topic9\", \"Topic9\", \"Topic9\", \"Topic9\", \"Topic9\", \"Topic9\", \"Topic9\", \"Topic10\", \"Topic10\", \"Topic10\", \"Topic10\", \"Topic10\", \"Topic10\", \"Topic10\", \"Topic10\", \"Topic10\", \"Topic10\", \"Topic10\", \"Topic10\", \"Topic10\", \"Topic10\", \"Topic10\", \"Topic10\", \"Topic10\", \"Topic10\", \"Topic10\", \"Topic10\", \"Topic10\", \"Topic10\", \"Topic10\", \"Topic10\", \"Topic10\", \"Topic10\", \"Topic10\", \"Topic10\", \"Topic10\", \"Topic10\", \"Topic10\", \"Topic10\", \"Topic10\", \"Topic10\", \"Topic10\", \"Topic11\", \"Topic11\", \"Topic11\", \"Topic11\", \"Topic11\", \"Topic11\", \"Topic11\", \"Topic11\", \"Topic11\", \"Topic11\", \"Topic11\", \"Topic11\", \"Topic11\", \"Topic11\", \"Topic11\", \"Topic11\", \"Topic11\", \"Topic11\", \"Topic11\", \"Topic11\", \"Topic11\", \"Topic11\", \"Topic11\", \"Topic11\", \"Topic11\", \"Topic11\", \"Topic11\", \"Topic11\", \"Topic11\", \"Topic11\", \"Topic11\", \"Topic11\", \"Topic11\", \"Topic11\", \"Topic12\", \"Topic12\", \"Topic12\", \"Topic12\", \"Topic12\", \"Topic12\", \"Topic12\", \"Topic12\", \"Topic12\", \"Topic12\", \"Topic12\", \"Topic12\", \"Topic12\", \"Topic12\", \"Topic12\", \"Topic12\", \"Topic12\", \"Topic12\", \"Topic12\", \"Topic12\", \"Topic12\", \"Topic12\", \"Topic12\", \"Topic12\", \"Topic12\", \"Topic12\", \"Topic12\", \"Topic12\", \"Topic12\", \"Topic12\", \"Topic12\", \"Topic12\", \"Topic12\", \"Topic12\", \"Topic13\", \"Topic13\", \"Topic13\", \"Topic13\", \"Topic13\", \"Topic13\", \"Topic13\", \"Topic13\", \"Topic13\", \"Topic13\", \"Topic13\", \"Topic13\", \"Topic13\", \"Topic13\", \"Topic13\", \"Topic13\", \"Topic13\", \"Topic13\", \"Topic13\", \"Topic13\", \"Topic13\", \"Topic13\", \"Topic13\", \"Topic13\", \"Topic13\", \"Topic13\", \"Topic13\", \"Topic13\", \"Topic13\", \"Topic13\", \"Topic13\", \"Topic13\", \"Topic14\", \"Topic14\", \"Topic14\", \"Topic14\", \"Topic14\", \"Topic14\", \"Topic14\", \"Topic14\", \"Topic14\", \"Topic14\", \"Topic14\", \"Topic14\", \"Topic14\", \"Topic14\", \"Topic14\", \"Topic14\", \"Topic14\", \"Topic14\", \"Topic14\", \"Topic14\", \"Topic14\", \"Topic14\", \"Topic14\", \"Topic14\", \"Topic14\", \"Topic14\", \"Topic14\", \"Topic14\", \"Topic14\", \"Topic14\", \"Topic14\", \"Topic14\", \"Topic15\", \"Topic15\", \"Topic15\", \"Topic15\", \"Topic15\", \"Topic15\", \"Topic15\", \"Topic15\", \"Topic15\", \"Topic15\", \"Topic15\", \"Topic15\", \"Topic15\", \"Topic15\", \"Topic15\", \"Topic15\", \"Topic15\", \"Topic15\", \"Topic15\", \"Topic15\", \"Topic15\", \"Topic15\", \"Topic15\", \"Topic15\", \"Topic15\", \"Topic15\", \"Topic15\", \"Topic15\", \"Topic15\", \"Topic15\", \"Topic15\", \"Topic15\", \"Topic15\", \"Topic15\", \"Topic16\", \"Topic16\", \"Topic16\", \"Topic16\", \"Topic16\", \"Topic16\", \"Topic16\", \"Topic16\", \"Topic16\", \"Topic16\", \"Topic16\", \"Topic16\", \"Topic16\", \"Topic16\", \"Topic16\", \"Topic16\", \"Topic16\", \"Topic16\", \"Topic16\", \"Topic16\", \"Topic16\", \"Topic16\", \"Topic16\", \"Topic16\", \"Topic16\", \"Topic16\", \"Topic16\", \"Topic16\", \"Topic16\", \"Topic16\", \"Topic17\", \"Topic17\", \"Topic17\", \"Topic17\", \"Topic17\", \"Topic17\", \"Topic17\", \"Topic17\", \"Topic17\", \"Topic17\", \"Topic17\", \"Topic17\", \"Topic17\", \"Topic17\", \"Topic17\", \"Topic17\", \"Topic17\", \"Topic17\", \"Topic17\", \"Topic17\", \"Topic17\", \"Topic17\", \"Topic17\", \"Topic17\", \"Topic17\", \"Topic17\", \"Topic17\", \"Topic17\", \"Topic17\", \"Topic17\", \"Topic17\", \"Topic17\", \"Topic17\", \"Topic17\", \"Topic18\", \"Topic18\", \"Topic18\", \"Topic18\", \"Topic18\", \"Topic18\", \"Topic18\", \"Topic18\", \"Topic18\", \"Topic18\", \"Topic18\", \"Topic18\", \"Topic18\", \"Topic18\", \"Topic18\", \"Topic18\", \"Topic18\", \"Topic18\", \"Topic18\", \"Topic18\", \"Topic18\", \"Topic18\", \"Topic18\", \"Topic18\", \"Topic18\", \"Topic18\", \"Topic18\", \"Topic18\", \"Topic18\", \"Topic18\", \"Topic18\", \"Topic18\", \"Topic18\", \"Topic18\", \"Topic19\", \"Topic19\", \"Topic19\", \"Topic19\", \"Topic19\", \"Topic19\", \"Topic19\", \"Topic19\", \"Topic19\", \"Topic19\", \"Topic19\", \"Topic19\", \"Topic19\", \"Topic19\", \"Topic19\", \"Topic19\", \"Topic19\", \"Topic19\", \"Topic19\", \"Topic19\", \"Topic19\", \"Topic19\", \"Topic19\", \"Topic19\", \"Topic19\", \"Topic19\", \"Topic19\", \"Topic19\", \"Topic19\", \"Topic19\", \"Topic19\", \"Topic19\", \"Topic19\", \"Topic20\", \"Topic20\", \"Topic20\", \"Topic20\", \"Topic20\", \"Topic20\", \"Topic20\", \"Topic20\", \"Topic20\", \"Topic20\", \"Topic20\", \"Topic20\", \"Topic20\", \"Topic20\", \"Topic20\", \"Topic20\", \"Topic20\", \"Topic20\", \"Topic20\", \"Topic20\", \"Topic20\", \"Topic20\", \"Topic20\", \"Topic20\", \"Topic20\", \"Topic20\", \"Topic20\", \"Topic20\", \"Topic20\", \"Topic20\", \"Topic20\", \"Topic20\", \"Topic20\", \"Topic20\", \"Topic20\", \"Topic20\", \"Topic20\"], \"logprob\": [30.0, 29.0, 28.0, 27.0, 26.0, 25.0, 24.0, 23.0, 22.0, 21.0, 20.0, 19.0, 18.0, 17.0, 16.0, 15.0, 14.0, 13.0, 12.0, 11.0, 10.0, 9.0, 8.0, 7.0, 6.0, 5.0, 4.0, 3.0, 2.0, 1.0, -3.906, -4.1027, -4.2274, -4.2444, -4.2749, -4.5134, -4.5729, -4.6405, -4.6684, -4.6916, -4.699, -4.7025, -4.8204, -4.9745, -5.1374, -5.1378, -5.1803, -5.2483, -5.2971, -5.3146, -5.3149, -5.3396, -5.3461, -5.3481, -5.3957, -5.4668, -5.5078, -5.514, -5.5783, -5.5824, -3.7256, -4.0123, -4.2189, -4.2763, -4.5147, -4.9337, -4.616, -5.219, -5.2727, -5.2389, -3.457, -3.8973, -4.2162, -4.3525, -4.4522, -4.5044, -4.5862, -4.6395, -4.6846, -4.7563, -4.7758, -4.7799, -4.7898, -4.8143, -4.8666, -4.886, -4.8975, -4.8988, -4.9399, -4.9454, -4.9698, -5.1013, -5.1439, -5.1785, -5.188, -5.2134, -5.2263, -5.2926, -5.294, -5.3358, -4.2355, -4.654, -4.6103, -4.903, -4.834, -5.1057, -3.2052, -3.6984, -3.9739, -4.049, -4.5446, -4.7122, -4.7279, -4.7608, -4.776, -4.7785, -4.8242, -4.8262, -4.8635, -4.9077, -4.9249, -4.9728, -4.997, -5.0108, -5.0306, -5.037, -5.0796, -5.146, -5.1892, -5.2015, -5.2027, -5.2294, -5.2581, -5.3216, -5.3475, -5.3819, -4.005, -4.4404, -4.7292, -4.5257, -4.8925, -4.0912, -4.187, -4.1949, -4.3142, -4.4424, -4.5387, -4.5772, -4.6144, -4.6203, -4.6755, -4.6825, -4.6879, -4.7584, -4.7764, -4.82, -4.8946, -4.9118, -4.9207, -4.9241, -4.9906, -4.9912, -5.0789, -5.1146, -5.1703, -5.2301, -5.2568, -5.2911, -5.2945, -5.3031, -5.3222, -4.4404, -4.3301, -4.7782, -3.8376, -4.3168, -4.9477, -3.9155, -3.9953, -4.1913, -4.2309, -4.2908, -4.3347, -4.429, -4.5213, -4.5651, -4.6756, -4.7216, -4.7261, -4.7485, -4.8047, -4.8305, -4.8514, -4.8583, -4.8584, -4.8825, -4.9436, -4.9681, -4.985, -4.9982, -5.0409, -5.1174, -5.1437, -5.1719, -5.1822, -5.2045, -5.2167, -3.7819, -4.4304, -4.9464, -4.1966, -4.3389, -4.4338, -4.4456, -4.4721, -4.6514, -4.7074, -4.708, -4.7164, -4.7524, -4.7524, -4.8329, -4.8647, -4.8678, -4.9059, -4.994, -5.0221, -5.0906, -5.0951, -5.1087, -5.1145, -5.1277, -5.1752, -5.1911, -5.2108, -5.2136, -5.2249, -5.2619, -5.2855, -5.3072, -4.33, -4.5959, -3.4939, -3.842, -3.8855, -3.8857, -3.964, -4.1876, -4.2551, -4.3004, -4.3608, -4.517, -4.566, -4.6106, -4.6728, -4.6896, -4.7421, -4.7928, -4.8045, -4.8088, -4.8866, -4.9306, -4.957, -5.067, -5.1094, -5.1199, -5.1253, -5.1694, -5.1903, -5.2097, -5.2702, -5.2993, -4.3311, -4.0505, -4.8175, -3.8168, -3.9305, -3.9462, -4.3386, -4.4331, -4.4353, -4.4666, -4.4892, -4.5164, -4.5393, -4.5399, -4.6081, -4.6249, -4.8697, -4.9176, -4.9202, -4.9428, -4.9452, -4.9657, -4.9678, -5.0044, -5.0269, -5.0437, -5.0499, -5.0541, -5.0745, -5.0952, -5.2203, -5.2389, -5.331, -4.0007, -4.7676, -4.8536, -4.797, -3.9423, -4.0365, -4.1602, -4.2333, -4.3323, -4.4319, -4.5501, -4.5586, -4.5878, -4.6199, -4.7338, -4.7892, -4.8264, -4.842, -4.965, -4.9917, -5.016, -5.028, -5.0486, -5.0809, -5.0861, -5.1399, -5.1665, -5.2296, -5.2365, -5.242, -5.3292, -5.3407, -5.3426, -5.3597, -4.5595, -4.7586, -4.9792, -4.4015, -4.9622, -5.1495, -3.6868, -3.7816, -4.1633, -4.3818, -4.5368, -4.601, -4.6382, -4.6485, -4.7236, -4.7383, -4.7439, -4.7543, -4.8287, -4.8546, -4.8677, -4.8756, -4.8788, -4.9771, -4.9817, -5.0196, -5.082, -5.0882, -5.1012, -5.1301, -5.1977, -5.231, -5.2483, -5.2547, -5.2751, -5.3486, -4.2867, -3.8305, -4.2368, -4.6832, -4.3663, -3.6397, -4.2829, -4.2892, -4.4386, -4.5568, -4.648, -4.7375, -4.8013, -4.9026, -4.9235, -4.933, -4.9416, -4.9796, -4.9965, -5.0303, -5.0471, -5.0839, -5.1468, -5.1661, -5.1768, -5.1827, -5.1834, -5.195, -5.1955, -5.2065, -5.2631, -5.2638, -5.2678, -5.2981, -5.3211, -4.1261, -4.8714, -4.5788, -5.1606, -3.0318, -4.2619, -4.4811, -4.5926, -4.6015, -4.6229, -4.6475, -4.6865, -4.7033, -4.7048, -4.7122, -4.736, -4.8243, -4.8518, -4.9266, -4.9925, -5.1058, -5.1372, -5.1495, -5.1657, -5.2139, -5.2271, -5.24, -5.26, -5.2628, -5.2776, -5.2954, -5.343, -5.3437, -5.3863, -4.1902, -4.7642, -4.5324, -5.2901, -3.9127, -4.023, -4.2568, -4.3268, -4.3518, -4.5117, -4.5332, -4.5854, -4.6367, -4.7685, -4.804, -4.8043, -4.8502, -4.8521, -4.8705, -4.8755, -4.8779, -4.9634, -4.9847, -4.9868, -5.0111, -5.0359, -5.0618, -5.1095, -5.1111, -5.169, -5.2707, -5.3693, -5.3756, -5.3813, -4.9652, -4.2867, -3.8686, -3.9685, -4.0049, -4.0702, -4.2641, -4.3294, -4.4211, -4.4306, -4.5785, -4.6212, -4.7066, -4.7676, -4.8024, -4.839, -4.8958, -4.9707, -4.9888, -4.9994, -5.0315, -5.0594, -5.0766, -5.0942, -5.13, -5.1467, -5.1497, -5.1737, -5.1757, -5.1819, -5.2034, -5.2233, -4.6144, -4.9882, -3.5634, -3.7891, -4.2498, -4.2636, -4.3349, -4.6997, -4.7656, -4.7704, -4.7791, -4.8239, -4.8261, -4.8478, -4.8609, -4.8832, -4.8909, -4.9049, -4.9509, -4.9544, -5.0879, -5.0887, -5.1042, -5.2192, -5.2722, -5.2869, -5.2894, -5.3156, -5.3171, -5.3524, -5.3533, -5.3827, -4.4184, -4.7485, -4.3729, -4.8021, -3.7437, -4.1336, -4.1528, -4.1728, -4.2195, -4.4164, -4.5212, -4.5611, -4.6147, -4.6321, -4.6569, -4.6672, -4.6708, -4.6916, -4.6957, -4.7002, -4.7117, -4.7729, -4.8791, -4.9303, -4.9911, -5.0266, -5.0365, -5.0695, -5.1289, -5.1319, -5.1573, -5.1631, -5.1655, -5.1656, -4.0731, -4.177, -4.1967, -4.3967, -4.4485, -4.4602, -4.9176, -4.9201, -4.9815, -4.9889, -5.0679, -5.0724, -5.1683, -5.1684, -5.1869, -5.204, -5.2355, -5.2464, -5.2596, -5.2648, -5.3136, -5.3337, -5.3375, -5.3388, -5.3457, -5.3519, -5.3568, -5.362, -5.39, -5.4105, -3.6455, -5.0068, -4.9995, -5.3543, -2.8659, -4.281, -4.2976, -4.3407, -4.3686, -4.3718, -4.3871, -4.5044, -4.5252, -4.713, -4.7203, -4.7518, -4.7587, -4.759, -4.8014, -4.8623, -4.8974, -4.9468, -4.9752, -5.046, -5.0667, -5.0919, -5.1171, -5.1319, -5.1817, -5.234, -5.2713, -5.3504, -5.3596, -5.3796, -4.6908, -4.6469, -5.294, -4.9957, -3.2968, -3.4939, -4.0063, -4.5309, -4.6849, -4.6947, -4.7174, -4.7227, -4.7501, -4.7553, -4.934, -4.9757, -4.9926, -4.9996, -5.0056, -5.0317, -5.0353, -5.0362, -5.1093, -5.1222, -5.1421, -5.1791, -5.2349, -5.2709, -5.319, -5.3337, -5.3574, -5.3743, -5.3808, -5.438, -4.4254, -4.2659, -5.2496, -3.7961, -4.087, -4.0962, -4.1774, -4.3478, -4.376, -4.5271, -4.5301, -4.5606, -4.6135, -4.6997, -4.7195, -4.7387, -5.041, -5.0617, -5.0999, -5.1044, -5.105, -5.1137, -5.1459, -5.1949, -5.222, -5.2433, -5.2628, -5.2785, -5.2951, -5.3394, -5.3706, -5.4081, -5.4142, -4.5561, -3.9058, -4.7284, -4.6397, -4.2509, -5.0604, -5.0087], \"loglift\": [30.0, 29.0, 28.0, 27.0, 26.0, 25.0, 24.0, 23.0, 22.0, 21.0, 20.0, 19.0, 18.0, 17.0, 16.0, 15.0, 14.0, 13.0, 12.0, 11.0, 10.0, 9.0, 8.0, 7.0, 6.0, 5.0, 4.0, 3.0, 2.0, 1.0, 2.8783, 2.8783, 2.8782, 2.8782, 2.8782, 2.8781, 2.8781, 2.878, 2.878, 2.878, 2.878, 2.878, 2.8779, 2.8778, 2.8776, 2.8776, 2.8776, 2.8775, 2.8775, 2.8774, 2.8774, 2.8774, 2.8774, 2.8774, 2.8773, 2.8772, 2.8772, 2.8772, 2.8771, 2.8771, 2.7775, 2.7547, 2.5862, 2.5681, 2.5946, 2.7107, 2.5306, 2.6496, 1.926, 0.6928, 2.9178, 2.9177, 2.9176, 2.9175, 2.9175, 2.9175, 2.9174, 2.9174, 2.9174, 2.9173, 2.9173, 2.9173, 2.9173, 2.9173, 2.9172, 2.9172, 2.9172, 2.9172, 2.9172, 2.9172, 2.9171, 2.917, 2.917, 2.9169, 2.9169, 2.9169, 2.9169, 2.9168, 2.9168, 2.9168, 2.7434, 2.7719, 2.6526, 2.6789, 1.9019, 1.04, 2.9616, 2.9615, 2.9614, 2.9614, 2.9611, 2.961, 2.961, 2.961, 2.961, 2.961, 2.9609, 2.9609, 2.9609, 2.9609, 2.9608, 2.9608, 2.9608, 2.9608, 2.9608, 2.9607, 2.9607, 2.9606, 2.9606, 2.9606, 2.9606, 2.9605, 2.9605, 2.9604, 2.9604, 2.9603, 2.8153, 2.7571, 2.793, 2.6054, 1.2533, 2.9693, 2.9692, 2.9692, 2.9692, 2.9691, 2.9691, 2.969, 2.969, 2.969, 2.969, 2.969, 2.969, 2.9689, 2.9689, 2.9689, 2.9688, 2.9688, 2.9688, 2.9688, 2.9687, 2.9687, 2.9686, 2.9686, 2.9685, 2.9685, 2.9684, 2.9684, 2.9684, 2.9684, 2.9683, 2.8319, 2.7723, 2.8214, 2.3081, 1.6149, 1.4784, 2.9854, 2.9854, 2.9853, 2.9853, 2.9853, 2.9853, 2.9852, 2.9852, 2.9851, 2.9851, 2.985, 2.985, 2.985, 2.985, 2.985, 2.9849, 2.9849, 2.9849, 2.9849, 2.9849, 2.9848, 2.9848, 2.9848, 2.9848, 2.9847, 2.9847, 2.9846, 2.9846, 2.9846, 2.9846, 2.851, 2.7482, 2.8435, 2.9854, 2.9853, 2.9853, 2.9852, 2.9852, 2.9851, 2.9851, 2.9851, 2.9851, 2.985, 2.985, 2.985, 2.985, 2.985, 2.9849, 2.9848, 2.9848, 2.9847, 2.9847, 2.9847, 2.9847, 2.9847, 2.9847, 2.9846, 2.9846, 2.9846, 2.9846, 2.9846, 2.9845, 2.9845, 2.8138, 2.8283, 2.9879, 2.9878, 2.9878, 2.9878, 2.9878, 2.9877, 2.9877, 2.9877, 2.9876, 2.9875, 2.9875, 2.9875, 2.9874, 2.9874, 2.9874, 2.9874, 2.9873, 2.9873, 2.9873, 2.9872, 2.9872, 2.9871, 2.9871, 2.9871, 2.987, 2.987, 2.987, 2.9869, 2.9869, 2.9868, 2.8492, 2.6519, 1.1142, 2.9898, 2.9898, 2.9898, 2.9896, 2.9896, 2.9896, 2.9896, 2.9895, 2.9895, 2.9895, 2.9895, 2.9895, 2.9895, 2.9893, 2.9892, 2.9892, 2.9892, 2.9892, 2.9892, 2.9892, 2.9892, 2.9891, 2.9891, 2.9891, 2.9891, 2.9891, 2.9891, 2.9889, 2.9889, 2.9888, 2.9007, 2.7689, 2.7851, 2.6685, 2.9919, 2.9919, 2.9918, 2.9918, 2.9918, 2.9917, 2.9916, 2.9916, 2.9916, 2.9916, 2.9915, 2.9915, 2.9915, 2.9914, 2.9913, 2.9913, 2.9913, 2.9913, 2.9912, 2.9912, 2.9912, 2.9912, 2.9911, 2.991, 2.991, 2.991, 2.9909, 2.9909, 2.9909, 2.9909, 2.7885, 2.7681, 2.7728, 2.3335, 2.6744, 2.7348, 3.0032, 3.0032, 3.0031, 3.003, 3.0029, 3.0028, 3.0028, 3.0028, 3.0028, 3.0027, 3.0027, 3.0027, 3.0027, 3.0026, 3.0026, 3.0026, 3.0026, 3.0025, 3.0025, 3.0025, 3.0024, 3.0024, 3.0024, 3.0024, 3.0023, 3.0023, 3.0022, 3.0022, 3.0022, 3.0021, 2.8563, 2.6384, 2.3031, 2.5155, 2.0615, 3.0061, 3.0059, 3.0059, 3.0058, 3.0057, 3.0057, 3.0056, 3.0056, 3.0055, 3.0054, 3.0054, 3.0054, 3.0054, 3.0054, 3.0053, 3.0053, 3.0053, 3.0052, 3.0052, 3.0052, 3.0052, 3.0052, 3.0052, 3.0052, 3.0051, 3.0051, 3.0051, 3.0051, 3.005, 3.005, 2.8026, 2.8107, 2.5384, 1.3082, 3.0064, 3.006, 3.0059, 3.0059, 3.0059, 3.0058, 3.0058, 3.0058, 3.0058, 3.0058, 3.0058, 3.0058, 3.0057, 3.0057, 3.0056, 3.0055, 3.0054, 3.0054, 3.0054, 3.0054, 3.0053, 3.0053, 3.0053, 3.0052, 3.0052, 3.0052, 3.0052, 3.0051, 3.0051, 3.0051, 2.7751, 2.8239, 2.5723, 1.1377, 3.0088, 3.0088, 3.0087, 3.0086, 3.0086, 3.0085, 3.0085, 3.0085, 3.0085, 3.0084, 3.0083, 3.0083, 3.0083, 3.0083, 3.0083, 3.0083, 3.0083, 3.0082, 3.0082, 3.0082, 3.0081, 3.0081, 3.0081, 3.008, 3.008, 3.008, 3.0078, 3.0077, 3.0077, 3.0077, 2.8433, 2.1771, 3.0107, 3.0107, 3.0107, 3.0106, 3.0106, 3.0105, 3.0105, 3.0105, 3.0104, 3.0104, 3.0103, 3.0102, 3.0102, 3.0102, 3.0101, 3.0101, 3.0101, 3.01, 3.01, 3.01, 3.01, 3.0099, 3.0099, 3.0099, 3.0099, 3.0099, 3.0099, 3.0098, 3.0098, 3.0098, 2.8402, 2.4679, 3.0135, 3.0134, 3.0133, 3.0132, 3.0132, 3.013, 3.0129, 3.0129, 3.0129, 3.0129, 3.0129, 3.0129, 3.0129, 3.0128, 3.0128, 3.0128, 3.0128, 3.0128, 3.0126, 3.0126, 3.0126, 3.0125, 3.0124, 3.0124, 3.0124, 3.0124, 3.0124, 3.0123, 3.0123, 3.0123, 2.7367, 2.8187, 2.5235, 2.6601, 3.0147, 3.0145, 3.0145, 3.0145, 3.0145, 3.0144, 3.0143, 3.0143, 3.0143, 3.0143, 3.0143, 3.0142, 3.0142, 3.0142, 3.0142, 3.0142, 3.0142, 3.0142, 3.0141, 3.014, 3.014, 3.0139, 3.0139, 3.0139, 3.0138, 3.0138, 3.0138, 3.0138, 3.0138, 3.0138, 3.0354, 3.0353, 3.0353, 3.0352, 3.0352, 3.0352, 3.0348, 3.0348, 3.0348, 3.0348, 3.0347, 3.0347, 3.0346, 3.0346, 3.0346, 3.0345, 3.0345, 3.0345, 3.0345, 3.0345, 3.0344, 3.0344, 3.0344, 3.0344, 3.0343, 3.0343, 3.0343, 3.0343, 3.0343, 3.0343, 2.7805, 2.8054, 2.7947, 2.709, 3.0486, 3.0482, 3.0482, 3.0482, 3.0482, 3.0482, 3.0482, 3.0481, 3.0481, 3.048, 3.048, 3.0479, 3.0479, 3.0479, 3.0479, 3.0478, 3.0478, 3.0478, 3.0477, 3.0477, 3.0476, 3.0476, 3.0476, 3.0476, 3.0475, 3.0474, 3.0474, 3.0473, 3.0473, 3.0472, 2.8637, 2.8132, 2.7614, 1.1501, 3.0519, 3.0519, 3.0517, 3.0515, 3.0514, 3.0514, 3.0514, 3.0513, 3.0513, 3.0513, 3.0512, 3.0511, 3.0511, 3.0511, 3.0511, 3.0511, 3.0511, 3.0511, 3.051, 3.051, 3.0509, 3.0509, 3.0508, 3.0508, 3.0507, 3.0507, 3.0507, 3.0506, 3.0506, 3.0505, 2.6614, 2.4383, 2.8889, 3.0602, 3.0601, 3.0601, 3.0601, 3.06, 3.06, 3.0599, 3.0599, 3.0598, 3.0598, 3.0597, 3.0597, 3.0597, 3.0594, 3.0594, 3.0594, 3.0594, 3.0594, 3.0594, 3.0593, 3.0593, 3.0592, 3.0592, 3.0592, 3.0591, 3.0591, 3.0591, 3.059, 3.059, 3.0589, 2.9136, 2.7407, 2.9053, 2.8259, 2.4211, 2.6428, 0.923]}, \"token.table\": {\"Topic\": [3, 2, 11, 17, 11, 3, 10, 1, 11, 1, 12, 1, 3, 9, 12, 4, 8, 11, 1, 13, 6, 1, 1, 20, 5, 6, 3, 5, 3, 9, 19, 18, 7, 17, 19, 1, 10, 10, 7, 10, 2, 8, 18, 3, 3, 6, 15, 12, 1, 2, 5, 6, 10, 11, 17, 1, 1, 15, 18, 14, 3, 4, 14, 2, 9, 2, 3, 14, 16, 2, 10, 18, 10, 17, 8, 12, 15, 20, 12, 14, 11, 4, 4, 12, 8, 4, 5, 5, 13, 18, 5, 7, 20, 1, 4, 9, 13, 14, 19, 2, 5, 1, 8, 15, 17, 6, 12, 7, 1, 11, 20, 7, 15, 2, 11, 3, 14, 1, 10, 3, 1, 13, 10, 12, 16, 19, 10, 12, 17, 2, 6, 5, 2, 3, 6, 9, 8, 8, 7, 4, 19, 14, 15, 11, 7, 10, 17, 10, 18, 3, 16, 3, 5, 2, 20, 6, 12, 16, 14, 3, 5, 9, 18, 3, 5, 20, 1, 19, 14, 4, 7, 20, 13, 9, 18, 16, 16, 15, 9, 11, 15, 9, 3, 20, 12, 17, 7, 2, 4, 10, 12, 13, 5, 18, 5, 10, 4, 10, 15, 16, 9, 11, 6, 8, 12, 10, 2, 9, 9, 9, 10, 14, 4, 12, 19, 17, 1, 8, 1, 7, 16, 7, 14, 6, 7, 17, 15, 6, 11, 9, 20, 14, 20, 3, 12, 7, 11, 5, 2, 1, 12, 8, 13, 18, 8, 20, 20, 12, 16, 9, 19, 5, 11, 15, 17, 19, 4, 3, 13, 15, 7, 2, 5, 10, 11, 12, 16, 20, 18, 11, 14, 4, 19, 12, 3, 8, 8, 2, 3, 7, 17, 12, 8, 1, 10, 1, 12, 7, 1, 16, 18, 9, 1, 9, 14, 17, 11, 11, 16, 4, 19, 14, 16, 7, 7, 8, 7, 19, 19, 19, 7, 3, 16, 13, 5, 19, 19, 1, 19, 12, 4, 1, 4, 10, 9, 12, 16, 19, 2, 6, 7, 8, 15, 2, 2, 16, 15, 17, 13, 5, 11, 5, 12, 13, 14, 6, 16, 16, 10, 19, 19, 17, 4, 12, 6, 18, 17, 20, 4, 7, 20, 9, 13, 12, 18, 5, 10, 2, 14, 10, 18, 20, 17, 20, 12, 4, 2, 13, 2, 20, 8, 15, 13, 12, 12, 17, 19, 14, 20, 12, 12, 19, 12, 14, 18, 2, 4, 8, 9, 19, 12, 2, 5, 9, 14, 2, 14, 19, 18, 12, 1, 14, 5, 18, 2, 13, 20, 16, 19, 20, 11, 9, 16, 15, 6, 17, 1, 8, 17, 17, 19, 12, 9, 11, 10, 3, 10, 11, 14, 3, 2, 5, 8, 1, 7, 16, 1, 1, 2, 20, 2, 8, 14, 1, 14, 1, 11, 16, 14, 5, 4, 15, 12, 13, 8, 18, 1, 7, 10, 13, 13, 14, 1, 14, 5, 11, 18, 8, 5, 1, 19, 2, 5, 2, 15, 20, 15, 15, 6, 4, 4, 8, 20, 19, 9, 9, 6, 1, 17, 1, 13, 15, 17, 6, 9, 14, 18, 5, 11, 10, 9, 17, 4, 16, 17, 19, 9, 3, 8, 18, 20, 20, 6, 19, 14, 1, 1, 3, 1, 3, 4, 7, 10, 13, 14, 16, 17, 20, 4, 6, 10, 18, 8, 8, 16, 1, 12, 13, 5, 6, 16, 4, 20, 16, 11, 6, 7, 11, 6, 6, 3, 6, 19, 12, 20, 15, 12, 2, 7, 13, 8, 15, 9, 5, 15, 20, 17, 8, 11, 15, 15, 5, 8, 20, 8, 3, 13, 11, 15, 16, 11, 20, 6, 2, 6, 15, 11, 15, 16, 14, 16, 10, 12, 7, 13, 2, 7, 18, 3, 18, 18, 3, 3, 5, 6, 17, 16, 1, 7, 4, 9, 10, 19, 2, 3, 4, 18, 20, 13, 8, 14, 11, 2, 7, 6, 17, 20, 5, 10, 10, 15, 8, 15, 19, 4, 14, 16, 14, 10, 10, 6, 17, 4, 8, 3, 17, 13, 16, 18, 6, 17, 17, 8, 7, 2, 16, 13, 8, 4, 6, 9, 7, 10, 14, 10, 2, 3, 4, 18, 9, 16, 16, 3, 7, 14, 15, 6, 9, 10, 15, 6, 20, 4, 20, 20, 13, 20, 1, 4, 10, 11, 13, 7, 13, 8, 2, 8, 9, 7, 15, 9, 19, 1, 11, 2, 10, 17, 13, 11, 9, 12, 14, 10, 13, 4, 15, 18, 10, 19, 5, 18, 7, 13, 15, 18, 4, 4, 5, 18, 18, 6, 1, 6, 14, 4, 19, 19, 4, 3, 6, 20, 3, 2, 18, 7, 10, 1, 9, 18, 8, 6, 14, 13, 9, 2, 13, 4, 4, 18, 18, 3, 8, 8, 15, 20, 20, 5, 10, 5, 16, 13, 3, 5, 18, 6, 17, 19, 3, 4, 1, 15, 3, 11, 4, 17, 13, 7, 5], \"Freq\": [0.9986230428740717, 0.9994267098217519, 0.9988884072150982, 0.9985084120237456, 0.9988355681894928, 0.9990162149570203, 0.9993899440878948, 0.9994877264876015, 0.9983402124906176, 0.9995092001207535, 0.9989069261773987, 0.8457485052411144, 0.15384067752833047, 0.999650730340574, 0.999286501738343, 0.8624213827161775, 0.13704033618867711, 0.9994490959450334, 0.9990638105976605, 0.9986165159529243, 0.998885106432463, 0.9995902718022527, 0.9979403539236195, 0.999502287067109, 0.999083123544459, 0.9993307723258602, 0.9991709037854805, 0.9986472627994127, 0.2260829353263925, 0.7726885131408352, 0.9994654068309599, 0.9982051906380948, 0.9992120016839182, 0.9994350511205187, 0.9988382852070388, 0.999441860434352, 0.9992947983701407, 0.9988401487735059, 0.9996278385281768, 0.9989958293969521, 0.18505729157341372, 0.8148490419280958, 0.9999250241184116, 0.9998568092145579, 0.9983880687349765, 0.9995281292193743, 0.9982874080047565, 0.9994632062501422, 0.08379720261783707, 0.3621128214207617, 0.1449056319636966, 0.11344386635988774, 0.08440223657175648, 0.07441917633208636, 0.136435156608825, 0.9994996447658543, 0.17643074246852963, 0.8231119284456992, 0.9991648420210892, 0.9988786728837421, 0.8447530025414682, 0.15473856100012742, 0.9990405649007152, 0.9991154082632132, 0.9984319362396123, 0.9982680613367572, 0.9994344404936282, 0.9991349770509104, 0.9990901672268637, 0.9994228460499803, 0.24900206898872995, 0.7504016897251271, 0.998700929069187, 0.999183237208766, 0.9991352875366482, 0.9993434359876435, 0.20835194183018643, 0.7907332732109486, 0.9990775366115169, 0.9983341413329246, 0.9989286117962078, 0.9988767893647164, 0.8209297994231142, 0.1785009505391035, 0.9993271849738439, 0.21099792052416266, 0.78841633695859, 0.9985437380676205, 0.998246515445141, 0.9993444661935527, 0.9984104459347748, 0.9997693237394855, 0.9988805099354533, 0.15394461460929923, 0.0974828921852299, 0.11223207681845618, 0.43510094668017507, 0.11753256504602187, 0.08342507558168612, 0.9990309650356852, 0.999781710058348, 0.7953122784654728, 0.2037576911771046, 0.9989480579392991, 0.998781711956864, 0.9982458335561776, 0.9989803789382574, 0.999639927464599, 0.9986463238991323, 0.9989912656061491, 0.998475606267272, 0.9993469413809539, 0.9991522188518672, 0.9995611940136822, 0.9993713419276106, 0.8636575246931673, 0.1359339015618438, 0.9996134808616549, 0.9997536706179314, 0.9989187701797246, 0.8835342240722367, 0.11641054948037595, 0.11049338125987357, 0.15035306256317013, 0.1975398911648668, 0.5413296424057997, 0.1659876421337047, 0.8327756062605526, 0.9980648829591015, 0.9991370586495792, 0.9988621195856628, 0.99954709315179, 0.1756276312757431, 0.7002646474651751, 0.12352327007884745, 0.9985103926107052, 0.9997296789250882, 0.9992486766436265, 0.9996100374488817, 0.9985400760439447, 0.9994810178330713, 0.9990067998272695, 0.9994240579705305, 0.99907433703547, 0.9998114087161503, 0.9982941913188986, 0.9991097920513689, 0.9992475368842785, 0.999507944456149, 0.8150406000040777, 0.1848001360433274, 0.9994056084078478, 0.9993410567033308, 0.9991620148595506, 0.9987078938241146, 0.998847251004058, 0.9999175183046659, 0.9990169302801142, 0.9994592218508028, 0.138731880437495, 0.16804994667374118, 0.5174487566644693, 0.17530390120642067, 0.9995811395079148, 0.9992655971527825, 0.9992525862201436, 0.9038350542964525, 0.0961118686748548, 0.999752766802229, 0.12144160432248395, 0.1521477958482145, 0.7261599347301148, 0.9988734707255, 0.9987603136323785, 0.9988779735043176, 0.9992494565885995, 0.9994420350536053, 0.9989138053696729, 0.9990167940544905, 0.9986900282444295, 0.9990451327548616, 0.9994890089357903, 0.9993940096578974, 0.9991863447885423, 0.9979829349060092, 0.9996535624704509, 0.999387366845665, 0.07161404294554645, 0.1708293316096889, 0.4963251031920511, 0.13775756872164144, 0.12333529618399666, 0.9988042672103139, 0.9977320098829846, 0.8671568237444859, 0.131939776986148, 0.9989561314389045, 0.9992756871309318, 0.9995510820399308, 0.9988067719856693, 0.9991964323981134, 0.9994299497071406, 0.9994209712817039, 0.9988864200939565, 0.9995426292640893, 0.999262493319617, 0.9991735010643356, 0.9989184683571931, 0.9990985651948818, 0.9994389357386407, 0.9994190755558935, 0.9984790771995994, 0.8715721870789837, 0.12827887382527475, 0.9986435581809239, 0.9987040279886503, 0.9985410027294951, 0.9995662343282032, 0.7061312640082662, 0.17744513029665088, 0.1163200725595012, 0.9997019046463155, 0.9995043694779754, 0.9983369410901507, 0.9993072590158893, 0.9982199952165673, 0.9994807918954488, 0.9992932771053827, 0.999668123359846, 0.9993207431585949, 0.9995686523647992, 0.9991195911488177, 0.9982343481793431, 0.9982393472439929, 0.9983108260562628, 0.999201227484163, 0.9992519876407328, 0.9988749298008245, 0.9984952019937614, 0.999625439084274, 0.9986732707172669, 0.9992182814060611, 0.9998158691923261, 0.9992744337284465, 0.9145329075708865, 0.08531356944162446, 0.9990677775483373, 0.9990874008189085, 0.9995935235466328, 0.9996423583985762, 0.9981298495620495, 0.9988952527259453, 0.9996100465401527, 0.9988864767197773, 0.9982351592279696, 0.9995104885212316, 0.9994084165228833, 0.9980808647660292, 0.9994136196246113, 0.9992193021519553, 0.9988998199837839, 0.08847931876656734, 0.08581160061280149, 0.3899314701421083, 0.08514467107436002, 0.15428303322612497, 0.08470005138206571, 0.11159954276587136, 0.9993109295785261, 0.8155157425516408, 0.1841605500498982, 0.9986747504889686, 0.9990955470017311, 0.9992565491074928, 0.9988940170464995, 0.9993463055206838, 0.9982208774705272, 0.7874102322564046, 0.21218485220159158, 0.9979988348663115, 0.998042793110264, 0.9989920244034993, 0.9984638828901987, 0.3858747717963079, 0.6136514116860339, 0.20625074070383584, 0.7934184397924313, 0.9990475781198633, 0.9991738474781829, 0.9993216551016298, 0.9986755926020048, 0.9991652382502902, 0.9983089642108123, 0.9988039117300862, 0.999601249795685, 0.9993747017168709, 0.9996572907509872, 0.9988479102627439, 0.9995092798734232, 0.9995461040891467, 0.9993176118680596, 0.9989192636288177, 0.9993115599432785, 0.9994333351066664, 0.999341783104366, 0.9991002693877605, 0.9998592438103483, 0.9982758785142606, 0.9990290413678589, 0.9990598123289764, 0.9991313407041554, 0.9980819552949494, 0.9987666814564979, 0.9997365864812876, 0.9997021620678054, 0.9988009388847319, 0.9989394188772656, 0.9994115198810742, 0.9987202928609432, 0.9982743389311036, 0.9992184729879179, 0.7330882129945987, 0.1416269776714496, 0.12510383027644714, 0.9985735666082014, 0.1516691343972702, 0.17143338420541307, 0.6767107271266305, 0.7670907925941592, 0.23263808940397346, 0.9985873991534282, 0.9996752637571455, 0.9988947649616853, 0.9988898487508044, 0.9990723084859736, 0.9995851755068708, 0.9995567961069556, 0.9995870888032371, 0.9985387933452083, 0.9996839745085835, 0.9987775093583235, 0.9995325300291555, 0.6478480674321673, 0.23140555548387337, 0.12073333329593393, 0.9990720988097864, 0.9985519767609248, 0.9989631539633129, 0.9992067696912063, 0.9985501792303668, 0.9992951584145832, 0.9991789593128664, 0.9997003712103187, 0.9987479304139455, 0.9995547686535197, 0.9994347663872417, 0.9980906830616401, 0.9995822938367024, 0.13609459885227887, 0.204539835701963, 0.6581884985428925, 0.9989963980216489, 0.9993504980365392, 0.20908504623059374, 0.7901542344117363, 0.9994153104008245, 0.9989942459679633, 0.9997842562356298, 0.9991239918886601, 0.9994770178715299, 0.9986228302385842, 0.9983883997965209, 0.9979418531707663, 0.999503973464527, 0.9986823972414797, 0.9995712017289382, 0.9993217333453857, 0.9995291326434782, 0.9986913205438134, 0.9992490676651239, 0.9994447349667687, 0.9987310538425723, 0.9992517426951824, 0.9990183348124979, 0.9987811515474325, 0.9983766529117377, 0.9995795857953773, 0.9990857201884104, 0.9993096202132172, 0.9996716037578989, 0.9984659023709906, 0.9992945708360135, 0.9978369721690318, 0.998918664056539, 0.9989656534380272, 0.99904737364361, 0.9994518780900096, 0.998486548265928, 0.9991335518084176, 0.9984838552092706, 0.9980589685857689, 0.9996336266465523, 0.12285967687437521, 0.727478207916755, 0.14892082045378813, 0.9992667833508958, 0.8429231581694423, 0.15641873038195836, 0.9992869776699315, 0.9993883302622608, 0.9991502481644514, 0.9983863708672922, 0.9991623216838759, 0.9994607808460337, 0.9997844208206071, 0.8471016046205563, 0.15208922337655081, 0.9993484084144022, 0.9991024921263082, 0.9990928515268519, 0.999583954787084, 0.9996137452745582, 0.9994454999487871, 0.9989874159941381, 0.999048101449363, 0.9991780750502637, 0.9994597085904589, 0.2135656601591914, 0.7853986114425774, 0.9987357497236985, 0.998420390841595, 0.9990369253251785, 0.9996608502236354, 0.9986308123227345, 0.9989903006999195, 0.9994240647223139, 0.9998357449553478, 0.9990198604972613, 0.9994336104257417, 0.9993874655399135, 0.9996522475164891, 0.9996106957189398, 0.9989296556487005, 0.14422760857354452, 0.714409371473825, 0.14130209927184992, 0.999587218333132, 0.999459184453744, 0.9990659365153473, 0.9992932455010594, 0.2742303543745069, 0.7247964743765571, 0.9995165083399925, 0.9985276981771563, 0.9995670154122338, 0.9998089210444389, 0.9984399661251169, 0.9996012477873499, 0.9988799598859183, 0.9992196380102486, 0.999449597678102, 0.9987894160649747, 0.999227609755413, 0.9993162409926085, 0.1680516693799634, 0.8313413195449619, 0.746585724934058, 0.07261624072306946, 0.18056806286941826, 0.9995269339736752, 0.9991347221541564, 0.999330476746078, 0.9984668947660833, 0.999666518982805, 0.9987126875627264, 0.8221727326665216, 0.17690351688654066, 0.9990917054263813, 0.9988385043366702, 0.999624948488579, 0.9993324554611829, 0.8397874860793642, 0.1597023515098102, 0.9981562292781696, 0.9994921705831675, 0.9984154055127056, 0.9991425633000172, 0.9981393577088102, 0.9986473740349007, 0.9991472259389181, 0.9990634224208673, 0.9988086568627508, 0.9997643655838205, 0.9993899309552567, 0.9985065911607719, 0.9980906765368238, 0.999120405594337, 0.2783572616798649, 0.7209909400888305, 0.9995219351914048, 0.9993055905054801, 0.9989925262144647, 0.9989385531605602, 0.15790459554455866, 0.10444083484836951, 0.5806413080260543, 0.15603958063655207, 0.9991992994343567, 0.9991365490805431, 0.9984614757474404, 0.9989376671934141, 0.9996640723621044, 0.9997895159400991, 0.9995967385851944, 0.9990048095448705, 0.998755138512576, 0.9989846502220412, 0.16771822013568788, 0.17197502775334492, 0.13252861049638956, 0.5275603574149641, 0.9994060509417436, 0.9986360880401574, 0.9990787088039353, 0.9992420106556531, 0.9990360077882927, 0.999148311701869, 0.9989823178335159, 0.11235111221314524, 0.029102998946778584, 0.25800146973283716, 0.15350139909603217, 0.0821652109799749, 0.06795211847108303, 0.0630790581823201, 0.08554928062494914, 0.030321264018969316, 0.11790098643090302, 0.9980804519524542, 0.998816165558623, 0.9992844306167312, 0.9985431421566329, 0.9995653688029265, 0.9994593193136406, 0.9996446678855784, 0.9992605051464809, 0.9991611273675707, 0.9988795856952084, 0.15784535274092634, 0.8419935098658636, 0.9990719144008213, 0.14329327357730284, 0.8560473804903118, 0.9988519339800959, 0.9994094462344721, 0.9991518285047627, 0.9994928391279715, 0.9985926488541381, 0.9985066152215987, 0.9997152300691041, 0.9990546237343323, 0.8543927993156603, 0.14510829079286408, 0.9996070692053824, 0.9981010459890307, 0.9996925357621431, 0.9991970668706721, 0.9988121046116618, 0.9992589788800496, 0.9986719800003492, 0.8017345529360337, 0.19807559543125539, 0.9989344154539656, 0.9992707099255451, 0.9994183021007246, 0.9983519158015586, 0.9988735569279348, 0.16477042335637343, 0.6263047812524517, 0.20862061666895668, 0.999340446678391, 0.9982842677830195, 0.9988593139048002, 0.9988678240382345, 0.99936039146988, 0.9992308705240434, 0.9993539596942447, 0.9987913620608411, 0.9992601289983047, 0.9996871796584883, 0.9990197541266225, 0.9983185654204078, 0.9987742197294865, 0.9995874644693156, 0.9992088516900364, 0.9993451830628198, 0.998865523294104, 0.9993461667109119, 0.9987331597480557, 0.9994040838648535, 0.999123064841083, 0.8631497215420321, 0.13635856580442846, 0.999466177966426, 0.9996135196240523, 0.12927251787162647, 0.8704664068363169, 0.9993321700501954, 0.9989227704121352, 0.9994713283328001, 0.9985762053241292, 0.9991112483646499, 0.9996057208658599, 0.8738867523277127, 0.12581567546004857, 0.999172165499754, 0.9989274683179928, 0.9990109738595315, 0.9984337458338133, 0.999479983514407, 0.7991778598024897, 0.20012801163668356, 0.9991886188628802, 0.15291374362504193, 0.1810820648191286, 0.5160838847345165, 0.14972804063285355, 0.9986479053193823, 0.9989150329429793, 0.9997272748880405, 0.9994491045212469, 0.9986364110585415, 0.8642589784678709, 0.13570011874059384, 0.9995025358784684, 0.998514397538694, 0.999174222028167, 0.9990949985094644, 0.9991214609547819, 0.9986558992782025, 0.9987160198008578, 0.9985691329453233, 0.15005168968225782, 0.8498829309052472, 0.9986867894368732, 0.9986930995309444, 0.9994094117849657, 0.9985742570656188, 0.9996836755978886, 0.9990804907034555, 0.9995084462732787, 0.9983506976743777, 0.9993637742975432, 0.9996391850950151, 0.20502462351318748, 0.7943594720532589, 0.9995846046568488, 0.9989450466213081, 0.9994281831249017, 0.9988409600194885, 0.9991067380907436, 0.9986837565294051, 0.9991358125206717, 0.9985376575963335, 0.9996137692125376, 0.9982112088135072, 0.9992462180823085, 0.9990689127735358, 0.999399311577561, 0.9995975294407116, 0.9986207198228417, 0.998616410936032, 0.9989548950984153, 0.9990590690159532, 0.999506367301584, 0.9995413594709965, 0.9994965888778143, 0.9993153575180096, 0.9993350273850241, 0.9991690758784376, 0.9994486720781127, 0.9988337620512394, 0.9990914287244879, 0.12884863998847554, 0.16825380658689282, 0.7024127315876604, 0.9989938181344233, 0.999260701799769, 0.9996910108928914, 0.9992746954896522, 0.9992318928141772, 0.9985852831029106, 0.9990781807090295, 0.9988287745843119, 0.9981667582011856, 0.9993053284774753, 0.9977226421070298, 0.9992095617941936, 0.9981065498732429, 0.6941335082994483, 0.18297146198083555, 0.12275300613904158, 0.9992926828732969, 0.9994253406186094, 0.9995305706231824, 0.9997243576166304, 0.9987355977919503, 0.9995115662490603, 0.999483686861527, 0.9985844753676266, 0.8031405650954999, 0.19639753672990892, 0.9996138692137571, 0.9990970865536665, 0.999087389549765, 0.9989308048716822, 0.9998159766272952, 0.9988679853730867, 0.9994221082422823, 0.9994923003122843, 0.9991400914339233, 0.9996148967738296, 0.9987804955022263, 0.9989587794519249, 0.9995215305376295, 0.999046189472058, 0.9992329826824465, 0.9988676973488753, 0.9993753709508492, 0.9991857145445496, 0.999077919538652, 0.9986635714322503, 0.9996027255814094, 0.9989458873433519, 0.9990586535405018, 0.9996595596022705, 0.999195818919564, 0.9988128874484279, 0.9989210499669616, 0.9984107071682203, 0.9991851173550435, 0.7527930142660856, 0.0905285236070132, 0.15644735147619757, 0.9987726717915779, 0.9998625700137986, 0.9992332142042513, 0.9995950372268139, 0.9988672794136436, 0.1361091656807989, 0.863284986030993, 0.9985514812767696, 0.9990837232152838, 0.9993811214596462, 0.9988355207394298, 0.9990543735709996, 0.9993310789282415, 0.8156934508949948, 0.18411685280119583, 0.9996574494730094, 0.9992055854748226, 0.9988849738989921, 0.9989163855738129, 0.9992783621270043, 0.9990524457910462, 0.999521213641654, 0.9988374790334206, 0.9992145280507475, 0.9997103255978552, 0.999633151137327, 0.9995018390616185, 0.9992538811788747, 0.21985849360390902, 0.6123360952716302, 0.16729135781492915, 0.9995231692573158, 0.9991988789331253, 0.9995225824749158, 0.9996322397098614, 0.9990183960849667, 0.9991903044666846, 0.9989319104094064, 0.999355326354876, 0.9989303027441664, 0.9989265415861671, 0.9990742743916656, 0.9999085513271316, 0.9984220209798917, 0.9994859170227429, 0.24151889355166856, 0.7581393077583806, 0.9998026663401235, 0.9991196754233272, 0.22502809788066763, 0.7747269129205234, 0.9995165087588489, 0.9987957129948806, 0.9989294536988377], \"Term\": [\"2014\", \"2015\", \"2016\", \"2018\", \"2020\", \"abbott\", \"aboriginal\", \"abuse\", \"accident\", \"accused\", \"across\", \"action\", \"action\", \"adelaide\", \"aged\", \"ahead\", \"ahead\", \"airport\", \"alan\", \"alcohol\", \"alice\", \"alleged\", \"allegedly\", \"amid\", \"andrew\", \"animal\", \"announces\", \"another\", \"anti\", \"anti\", \"appeal\", \"april\", \"arrest\", \"arrested\", \"ash\", \"assault\", \"asylum\", \"asylum seeker\", \"attack\", \"august\", \"aussie\", \"aussie\", \"australia\", \"australian\", \"authority\", \"award\", \"away\", \"baby\", \"back\", \"back\", \"back\", \"back\", \"back\", \"back\", \"back\", \"bail\", \"bank\", \"bank\", \"battle\", \"beach\", \"beat\", \"beat\", \"begin\", \"behind\", \"best\", \"better\", \"bill\", \"billion\", \"black\", \"blast\", \"blaze\", \"blaze\", \"blue\", \"board\", \"boat\", \"body\", \"boost\", \"boost\", \"border\", \"bos\", \"break\", \"bridge\", \"brisbane\", \"brisbane\", \"broken\", \"budget\", \"budget\", \"building\", \"bush\", \"bushfire\", \"bushfires\", \"business\", \"cairn\", \"call\", \"call\", \"call\", \"call\", \"call\", \"call\", \"campaign\", \"canberra\", \"cancer\", \"cancer\", \"candidate\", \"capital\", \"carbon\", \"care\", \"case\", \"cash\", \"cattle\", \"caught\", \"cause\", \"central\", \"centre\", \"challenge\", \"change\", \"change\", \"charge\", \"charged\", \"chief\", \"child\", \"child\", \"china\", \"china\", \"china\", \"china\", \"chinese\", \"chinese\", \"chris\", \"christmas\", \"church\", \"city\", \"claim\", \"claim\", \"claim\", \"clash\", \"climate\", \"climate change\", \"close\", \"closure\", \"club\", \"coach\", \"coal\", \"coalition\", \"coast\", \"collapse\", \"come\", \"comment\", \"commission\", \"community\", \"community\", \"company\", \"concern\", \"continues\", \"contract\", \"control\", \"coronavirus\", \"cost\", \"could\", \"council\", \"council\", \"council\", \"council\", \"country\", \"country hour\", \"couple\", \"court\", \"court\", \"covid\", \"crash\", \"crash\", \"crash\", \"cricket\", \"crime\", \"crisis\", \"crop\", \"cut\", \"cyclone\", \"dairy\", \"damage\", \"daniel\", \"darwin\", \"data\", \"david\", \"day\", \"dead\", \"deal\", \"death\", \"death\", \"death\", \"death\", \"death\", \"debate\", \"december\", \"decision\", \"decision\", \"defence\", \"defends\", \"delay\", \"demand\", \"denies\", \"despite\", \"development\", \"discus\", \"doctor\", \"dog\", \"dollar\", \"domestic\", \"domestic violence\", \"donald\", \"donald trump\", \"double\", \"driver\", \"driver\", \"driving\", \"drone\", \"drop\", \"drought\", \"drug\", \"drug\", \"drug\", \"drum\", \"dy\", \"early\", \"east\", \"economic\", \"economy\", \"education\", \"election\", \"emergency\", \"energy\", \"england\", \"escape\", \"evidence\", \"expected\", \"expert\", \"export\", \"extended\", \"extended interview\", \"face\", \"facing\", \"fall\", \"family\", \"farm\", \"farmer\", \"farmer\", \"fatal\", \"father\", \"fear\", \"federal\", \"female\", \"festival\", \"fight\", \"fiji\", \"film\", \"final\", \"finance\", \"financial\", \"find\", \"fine\", \"fined\", \"fire\", \"fire\", \"fire\", \"fire\", \"fire\", \"fire\", \"fire\", \"firefighter\", \"first\", \"first\", \"fish\", \"fishing\", \"five\", \"flight\", \"flood\", \"focus\", \"food\", \"food\", \"footage\", \"football\", \"force\", \"foreign\", \"former\", \"former\", \"found\", \"found\", \"four\", \"france\", \"free\", \"french\", \"friday\", \"front\", \"full\", \"funding\", \"future\", \"game\", \"george\", \"get\", \"girl\", \"give\", \"global\", \"go\", \"gold\", \"gold coast\", \"good\", \"government\", \"grain\", \"grand\", \"grand final\", \"grandstand\", \"grant\", \"great\", \"green\", \"group\", \"grower\", \"growth\", \"guilty\", \"hand\", \"harvest\", \"head\", \"health\", \"health\", \"health\", \"hearing\", \"help\", \"help\", \"help\", \"high\", \"high\", \"highway\", \"hill\", \"history\", \"hit\", \"hobart\", \"hold\", \"home\", \"hope\", \"horse\", \"hospital\", \"hotel\", \"hour\", \"house\", \"house\", \"house\", \"housing\", \"human\", \"hunt\", \"hunter\", \"illegal\", \"impact\", \"increase\", \"india\", \"indian\", \"indigenous\", \"indonesia\", \"indonesian\", \"industry\", \"injured\", \"injured\", \"injured\", \"injury\", \"inquest\", \"inquiry\", \"inquiry\", \"interest\", \"international\", \"interview\", \"investigate\", \"investigation\", \"investment\", \"iran\", \"islamic\", \"island\", \"issue\", \"jail\", \"jailed\", \"james\", \"japan\", \"job\", \"john\", \"join\", \"judge\", \"july\", \"june\", \"kangaroo\", \"keep\", \"kid\", \"kill\", \"killed\", \"killer\", \"killing\", \"kimberley\", \"king\", \"kohler\", \"korea\", \"labor\", \"lake\", \"land\", \"last\", \"latest\", \"launch\", \"law\", \"law\", \"law\", \"lawyer\", \"lead\", \"lead\", \"leader\", \"leaf\", \"league\", \"leave\", \"legal\", \"liberal\", \"life\", \"light\", \"light\", \"like\", \"line\", \"link\", \"live\", \"local\", \"lockdown\", \"long\", \"look\", \"lose\", \"loses\", \"loss\", \"loss\", \"lost\", \"mackay\", \"major\", \"make\", \"making\", \"march\", \"mark\", \"market\", \"marriage\", \"match\", \"mayor\", \"medium\", \"meet\", \"meeting\", \"melbourne\", \"melbourne\", \"melbourne\", \"mental\", \"mental health\", \"michael\", \"military\", \"million\", \"million\", \"mine\", \"miner\", \"mining\", \"minister\", \"miss\", \"missing\", \"monday\", \"money\", \"month\", \"morrison\", \"mother\", \"mount\", \"move\", \"move\", \"murder\", \"murder\", \"murder\", \"murray\", \"name\", \"named\", \"nation\", \"national\", \"national rural\", \"near\", \"near\", \"need\", \"newcastle\", \"news\", \"next\", \"north\", \"north\", \"north korea\", \"northern\", \"november\", \"number\", \"nurse\", \"october\", \"offer\", \"officer\", \"online\", \"open\", \"opposition\", \"order\", \"origin\", \"outback\", \"owner\", \"owner\", \"pacific\", \"pakistan\", \"pandemic\", \"parent\", \"park\", \"park\", \"park\", \"park\", \"parliament\", \"party\", \"patient\", \"paul\", \"people\", \"perth\", \"peter\", \"philippine\", \"photo\", \"pilot\", \"plan\", \"plan\", \"plan\", \"plan\", \"plane\", \"plant\", \"play\", \"player\", \"pleads\", \"pleads guilty\", \"point\", \"police\", \"police\", \"police\", \"police\", \"police\", \"police\", \"police\", \"police\", \"police\", \"police\", \"police officer\", \"policy\", \"political\", \"politics\", \"port\", \"post\", \"power\", \"premier\", \"president\", \"pressure\", \"price\", \"price\", \"prison\", \"probe\", \"probe\", \"problem\", \"profit\", \"program\", \"project\", \"promise\", \"property\", \"protest\", \"protester\", \"public\", \"public\", \"push\", \"quarter\", \"queensland\", \"question\", \"race\", \"raid\", \"rail\", \"rain\", \"rain\", \"rally\", \"rape\", \"rate\", \"reach\", \"ready\", \"record\", \"record\", \"record\", \"recovery\", \"reform\", \"refugee\", \"region\", \"regional\", \"reject\", \"release\", \"released\", \"remote\", \"report\", \"rescue\", \"rescued\", \"research\", \"resident\", \"response\", \"restriction\", \"result\", \"return\", \"reveals\", \"review\", \"right\", \"rise\", \"rise\", \"risk\", \"river\", \"road\", \"road\", \"role\", \"round\", \"royal\", \"royal commission\", \"rugby\", \"rule\", \"rural\", \"rural\", \"rural news\", \"russia\", \"russian\", \"safe\", \"safety\", \"sale\", \"sale\", \"save\", \"say\", \"say\", \"say\", \"say\", \"scandal\", \"scheme\", \"school\", \"scott\", \"scott morrison\", \"search\", \"search\", \"season\", \"seat\", \"second\", \"security\", \"seek\", \"seeker\", \"sell\", \"senate\", \"sentence\", \"sentence\", \"sentenced\", \"september\", \"service\", \"sexual\", \"share\", \"share market\", \"shark\", \"ship\", \"shire\", \"shooting\", \"shot\", \"shot\", \"show\", \"sign\", \"site\", \"slam\", \"small\", \"smith\", \"social\", \"soldier\", \"south\", \"southern\", \"space\", \"spark\", \"speaks\", \"sport\", \"spring\", \"stabbing\", \"staff\", \"stand\", \"star\", \"start\", \"state\", \"station\", \"stay\", \"step\", \"still\", \"stolen\", \"stop\", \"storm\", \"storm\", \"storm\", \"story\", \"street\", \"strike\", \"student\", \"study\", \"sugar\", \"suicide\", \"super\", \"supply\", \"support\", \"surgery\", \"survey\", \"swan\", \"sydney\", \"sydney\", \"sydney\", \"syria\", \"system\", \"take\", \"talk\", \"target\", \"tasmania\", \"tasmanian\", \"teacher\", \"team\", \"team\", \"teen\", \"teenager\", \"tell\", \"territory\", \"test\", \"testing\", \"third\", \"thousand\", \"threat\", \"three\", \"thursday\", \"tiger\", \"time\", \"title\", \"told\", \"toll\", \"tony\", \"tour\", \"tourism\", \"tourist\", \"town\", \"townsville\", \"track\", \"trade\", \"train\", \"training\", \"transport\", \"travel\", \"tree\", \"trial\", \"trial\", \"trial\", \"truck\", \"trump\", \"tuesday\", \"turn\", \"turnbull\", \"union\", \"union\", \"united\", \"university\", \"update\", \"urge\", \"valley\", \"veteran\", \"victim\", \"victim\", \"victoria\", \"victorian\", \"victory\", \"video\", \"violence\", \"visit\", \"vote\", \"wall\", \"wallaby\", \"want\", \"warning\", \"warns\", \"waste\", \"water\", \"water\", \"water\", \"weather\", \"wednesday\", \"week\", \"west\", \"western\", \"white\", \"wild\", \"win\", \"wind\", \"wine\", \"winner\", \"woman\", \"wont\", \"work\", \"worker\", \"worker\", \"world\", \"wrap\", \"year\", \"year\", \"young\", \"youth\", \"zealand\"]}, \"R\": 30, \"lambda.step\": 0.01, \"plot.opts\": {\"xlab\": \"PC1\", \"ylab\": \"PC2\"}, \"topic.order\": [13, 10, 4, 11, 16, 3, 20, 17, 1, 19, 14, 15, 8, 9, 7, 5, 6, 2, 18, 12]};\n",
              "\n",
              "function LDAvis_load_lib(url, callback){\n",
              "  var s = document.createElement('script');\n",
              "  s.src = url;\n",
              "  s.async = true;\n",
              "  s.onreadystatechange = s.onload = callback;\n",
              "  s.onerror = function(){console.warn(\"failed to load library \" + url);};\n",
              "  document.getElementsByTagName(\"head\")[0].appendChild(s);\n",
              "}\n",
              "\n",
              "if(typeof(LDAvis) !== \"undefined\"){\n",
              "   // already loaded: just create the visualization\n",
              "   !function(LDAvis){\n",
              "       new LDAvis(\"#\" + \"ldavis_el1441403587910494241266415163\", ldavis_el1441403587910494241266415163_data);\n",
              "   }(LDAvis);\n",
              "}else if(typeof define === \"function\" && define.amd){\n",
              "   // require.js is available: use it to load d3/LDAvis\n",
              "   require.config({paths: {d3: \"https://d3js.org/d3.v5\"}});\n",
              "   require([\"d3\"], function(d3){\n",
              "      window.d3 = d3;\n",
              "      LDAvis_load_lib(\"https://cdn.jsdelivr.net/gh/bmabey/pyLDAvis@3.3.1/pyLDAvis/js/ldavis.v3.0.0.js\", function(){\n",
              "        new LDAvis(\"#\" + \"ldavis_el1441403587910494241266415163\", ldavis_el1441403587910494241266415163_data);\n",
              "      });\n",
              "    });\n",
              "}else{\n",
              "    // require.js not available: dynamically load d3 & LDAvis\n",
              "    LDAvis_load_lib(\"https://d3js.org/d3.v5.js\", function(){\n",
              "         LDAvis_load_lib(\"https://cdn.jsdelivr.net/gh/bmabey/pyLDAvis@3.3.1/pyLDAvis/js/ldavis.v3.0.0.js\", function(){\n",
              "                 new LDAvis(\"#\" + \"ldavis_el1441403587910494241266415163\", ldavis_el1441403587910494241266415163_data);\n",
              "            })\n",
              "         });\n",
              "}\n",
              "</script>"
            ],
            "text/plain": [
              "PreparedData(topic_coordinates=              x         y  topics  cluster      Freq\n",
              "topic                                               \n",
              "12    -0.181567 -0.052764       1        1  5.621199\n",
              "9      0.096530  0.076398       2        1  5.404073\n",
              "3      0.113550 -0.055457       3        1  5.173005\n",
              "10    -0.066508 -0.094020       4        1  5.132125\n",
              "15     0.118551  0.168088       5        1  5.050068\n",
              "2      0.111031  0.130990       6        1  5.049910\n",
              "19    -0.107039 -0.168078       7        1  5.038129\n",
              "16     0.158912 -0.154940       8        1  5.028129\n",
              "0      0.114011  0.082870       9        1  5.017374\n",
              "18    -0.174603  0.104250      10        1  4.961355\n",
              "13     0.032126  0.079531      11        1  4.947165\n",
              "14    -0.119641  0.148698      12        1  4.946355\n",
              "7     -0.133201  0.007058      13        1  4.933431\n",
              "8     -0.016131 -0.005134      14        1  4.924098\n",
              "6      0.065865 -0.150169      15        1  4.910854\n",
              "4     -0.125871  0.010796      16        1  4.904815\n",
              "5      0.021464 -0.045856      17        1  4.803747\n",
              "1      0.157828  0.012736      18        1  4.741924\n",
              "17    -0.073024  0.110813      19        1  4.725842\n",
              "11     0.007715 -0.205809      20        1  4.686401, topic_info=              Term         Freq        Total Category  logprob  loglift\n",
              "2060     australia  7515.000000  7515.000000  Default  30.0000  30.0000\n",
              "7467   coronavirus  6641.000000  6641.000000  Default  29.0000  29.0000\n",
              "2166    australian  5839.000000  5839.000000  Default  28.0000  28.0000\n",
              "35982        woman  4868.000000  4868.000000  Default  27.0000  27.0000\n",
              "17174    interview  4743.000000  4743.000000  Default  26.0000  26.0000\n",
              "...            ...          ...          ...      ...      ...      ...\n",
              "25526        probe  1153.255197  1346.888065  Topic20  -4.7284   2.9053\n",
              "3809         boost  1260.286736  1593.457671  Topic20  -4.6397   2.8259\n",
              "24347         plan  1859.189769  3523.767421  Topic20  -4.2509   2.4211\n",
              "16924      injured   827.436399  1256.478960  Topic20  -5.0604   2.6428\n",
              "24622       police   871.334503  7387.554815  Topic20  -5.0087   0.9230\n",
              "\n",
              "[714 rows x 6 columns], token_table=       Topic      Freq     Term\n",
              "term                           \n",
              "113        3  0.998623     2014\n",
              "116        2  0.999427     2015\n",
              "118       11  0.998888     2016\n",
              "122       17  0.998508     2018\n",
              "126       11  0.998836     2020\n",
              "...      ...       ...      ...\n",
              "36485      4  0.225028     year\n",
              "36485     17  0.774727     year\n",
              "36562     13  0.999517    young\n",
              "36585      7  0.998796    youth\n",
              "36621      5  0.998929  zealand\n",
              "\n",
              "[798 rows x 3 columns], R=30, lambda_step=0.01, plot_opts={'xlab': 'PC1', 'ylab': 'PC2'}, topic_order=[13, 10, 4, 11, 16, 3, 20, 17, 1, 19, 14, 15, 8, 9, 7, 5, 6, 2, 18, 12])"
            ]
          },
          "metadata": {
            "tags": []
          },
          "execution_count": 18
        }
      ]
    }
  ]
}